{
 "cells": [
  {
   "cell_type": "code",
   "execution_count": 196,
   "metadata": {
    "collapsed": true
   },
   "outputs": [],
   "source": [
    "import numpy as np\n",
    "import pandas as pd"
   ]
  },
  {
   "cell_type": "markdown",
   "metadata": {},
   "source": [
    "# First task, find relavant files\n",
    "\n",
    "* several options here.  Can use shell `find` command"
   ]
  },
  {
   "cell_type": "code",
   "execution_count": 197,
   "metadata": {
    "collapsed": false
   },
   "outputs": [
    {
     "name": "stdout",
     "output_type": "stream",
     "text": [
      "./example_data//NPART4000/Radius4.0/dens0.025/T0.72871/LJCFS-CYL-NH_1_RAD_4.0_TEMP_0.72871_DENS_0.025_NPART_4000_.diffusion.nc\r\n",
      "./example_data//NPART4000/Radius4.0/dens0.025/T0.72871/LJCFS-CYL-NH_2_RAD_4.0_TEMP_0.72871_DENS_0.025_NPART_4000_.diffusion.nc\r\n",
      "./example_data//NPART4000/Radius4.0/dens0.05/T0.72871/LJCFS-CYL-NH_1_RAD_4.0_TEMP_0.72871_DENS_0.05_NPART_4000_.diffusion.nc\r\n",
      "./example_data//NPART4000/Radius4.0/dens0.05/T0.72871/LJCFS-CYL-NH_2_RAD_4.0_TEMP_0.72871_DENS_0.05_NPART_4000_.diffusion.nc\r\n",
      "./example_data//NPART4000/Radius4.0/dens0.075/T0.72871/LJCFS-CYL-NH_1_RAD_4.0_TEMP_0.72871_DENS_0.075_NPART_4000_.diffusion.nc\r\n",
      "./example_data//NPART4000/Radius4.0/dens0.075/T0.72871/LJCFS-CYL-NH_2_RAD_4.0_TEMP_0.72871_DENS_0.075_NPART_4000_.diffusion.nc\r\n",
      "./example_data//NPART4000/Radius4.0/dens0.1/T0.72871/LJCFS-CYL-NH_1_RAD_4.0_TEMP_0.72871_DENS_0.1_NPART_4000_.diffusion.nc\r\n",
      "./example_data//NPART4000/Radius4.0/dens0.1/T0.72871/LJCFS-CYL-NH_2_RAD_4.0_TEMP_0.72871_DENS_0.1_NPART_4000_.diffusion.nc\r\n",
      "./example_data//NPART4000/Radius4.0/dens0.15/T0.72871/LJCFS-CYL-NH_1_RAD_4.0_TEMP_0.72871_DENS_0.15_NPART_4000_.diffusion.nc\r\n",
      "./example_data//NPART4000/Radius4.0/dens0.15/T0.72871/LJCFS-CYL-NH_2_RAD_4.0_TEMP_0.72871_DENS_0.15_NPART_4000_.diffusion.nc\r\n"
     ]
    }
   ],
   "source": [
    "!find ./example_data/ -name '*.diffusion.nc' | head -n 10"
   ]
  },
  {
   "cell_type": "code",
   "execution_count": 198,
   "metadata": {
    "collapsed": false
   },
   "outputs": [],
   "source": [
    "file_list = !find ./example_data/ -name '*.diffusion.nc'"
   ]
  },
  {
   "cell_type": "code",
   "execution_count": 199,
   "metadata": {
    "collapsed": false
   },
   "outputs": [
    {
     "data": {
      "text/plain": [
       "['./example_data//NPART4000/Radius4.0/dens0.025/T0.72871/LJCFS-CYL-NH_1_RAD_4.0_TEMP_0.72871_DENS_0.025_NPART_4000_.diffusion.nc',\n",
       " './example_data//NPART4000/Radius4.0/dens0.025/T0.72871/LJCFS-CYL-NH_2_RAD_4.0_TEMP_0.72871_DENS_0.025_NPART_4000_.diffusion.nc',\n",
       " './example_data//NPART4000/Radius4.0/dens0.05/T0.72871/LJCFS-CYL-NH_1_RAD_4.0_TEMP_0.72871_DENS_0.05_NPART_4000_.diffusion.nc',\n",
       " './example_data//NPART4000/Radius4.0/dens0.05/T0.72871/LJCFS-CYL-NH_2_RAD_4.0_TEMP_0.72871_DENS_0.05_NPART_4000_.diffusion.nc',\n",
       " './example_data//NPART4000/Radius4.0/dens0.075/T0.72871/LJCFS-CYL-NH_1_RAD_4.0_TEMP_0.72871_DENS_0.075_NPART_4000_.diffusion.nc',\n",
       " './example_data//NPART4000/Radius4.0/dens0.075/T0.72871/LJCFS-CYL-NH_2_RAD_4.0_TEMP_0.72871_DENS_0.075_NPART_4000_.diffusion.nc',\n",
       " './example_data//NPART4000/Radius4.0/dens0.1/T0.72871/LJCFS-CYL-NH_1_RAD_4.0_TEMP_0.72871_DENS_0.1_NPART_4000_.diffusion.nc',\n",
       " './example_data//NPART4000/Radius4.0/dens0.1/T0.72871/LJCFS-CYL-NH_2_RAD_4.0_TEMP_0.72871_DENS_0.1_NPART_4000_.diffusion.nc',\n",
       " './example_data//NPART4000/Radius4.0/dens0.15/T0.72871/LJCFS-CYL-NH_1_RAD_4.0_TEMP_0.72871_DENS_0.15_NPART_4000_.diffusion.nc',\n",
       " './example_data//NPART4000/Radius4.0/dens0.15/T0.72871/LJCFS-CYL-NH_2_RAD_4.0_TEMP_0.72871_DENS_0.15_NPART_4000_.diffusion.nc',\n",
       " './example_data//NPART4000/Radius4.0/dens0.2/T0.72871/LJCFS-CYL-NH_1_RAD_4.0_TEMP_0.72871_DENS_0.2_NPART_4000_.diffusion.nc',\n",
       " './example_data//NPART4000/Radius4.0/dens0.2/T0.72871/LJCFS-CYL-NH_2_RAD_4.0_TEMP_0.72871_DENS_0.2_NPART_4000_.diffusion.nc',\n",
       " './example_data//NPART4000/Radius4.0/dens0.25/T0.72871/LJCFS-CYL-NH_1_RAD_4.0_TEMP_0.72871_DENS_0.25_NPART_4000_.diffusion.nc',\n",
       " './example_data//NPART4000/Radius4.0/dens0.25/T0.72871/LJCFS-CYL-NH_2_RAD_4.0_TEMP_0.72871_DENS_0.25_NPART_4000_.diffusion.nc',\n",
       " './example_data//NPART4000/Radius4.0/dens0.3/T0.72871/LJCFS-CYL-NH_1_RAD_4.0_TEMP_0.72871_DENS_0.3_NPART_4000_.diffusion.nc',\n",
       " './example_data//NPART4000/Radius4.0/dens0.3/T0.72871/LJCFS-CYL-NH_2_RAD_4.0_TEMP_0.72871_DENS_0.3_NPART_4000_.diffusion.nc',\n",
       " './example_data//NPART4000/Radius4.0/dens0.35/T0.72871/LJCFS-CYL-NH_1_RAD_4.0_TEMP_0.72871_DENS_0.35_NPART_4000_.diffusion.nc',\n",
       " './example_data//NPART4000/Radius4.0/dens0.35/T0.72871/LJCFS-CYL-NH_2_RAD_4.0_TEMP_0.72871_DENS_0.35_NPART_4000_.diffusion.nc',\n",
       " './example_data//NPART4000/Radius4.0/dens0.4/T0.72871/LJCFS-CYL-NH_1_RAD_4.0_TEMP_0.72871_DENS_0.4_NPART_4000_.diffusion.nc',\n",
       " './example_data//NPART4000/Radius4.0/dens0.65/T0.72871/LJCFS-CYL-NH_1_RAD_4.0_TEMP_0.72871_DENS_0.65_NPART_4000_.diffusion.nc',\n",
       " './example_data//NPART4000/Radius4.0/dens0.7/T0.72871/LJCFS-CYL-NH_1_RAD_4.0_TEMP_0.72871_DENS_0.7_NPART_4000_.diffusion.nc',\n",
       " './example_data//NPART4000/Radius6.0/dens0.025/T0.72871/LJCFS-CYL-NH_1_RAD_6.0_TEMP_0.72871_DENS_0.025_NPART_4000_.diffusion.nc',\n",
       " './example_data//NPART4000/Radius6.0/dens0.025/T0.72871/LJCFS-CYL-NH_2_RAD_6.0_TEMP_0.72871_DENS_0.025_NPART_4000_.diffusion.nc',\n",
       " './example_data//NPART4000/Radius6.0/dens0.05/T0.72871/LJCFS-CYL-NH_1_RAD_6.0_TEMP_0.72871_DENS_0.05_NPART_4000_.diffusion.nc',\n",
       " './example_data//NPART4000/Radius6.0/dens0.05/T0.72871/LJCFS-CYL-NH_2_RAD_6.0_TEMP_0.72871_DENS_0.05_NPART_4000_.diffusion.nc',\n",
       " './example_data//NPART4000/Radius6.0/dens0.1/T0.72871/LJCFS-CYL-NH_1_RAD_6.0_TEMP_0.72871_DENS_0.1_NPART_4000_.diffusion.nc',\n",
       " './example_data//NPART4000/Radius6.0/dens0.1/T0.72871/LJCFS-CYL-NH_2_RAD_6.0_TEMP_0.72871_DENS_0.1_NPART_4000_.diffusion.nc',\n",
       " './example_data//NPART4000/Radius6.0/dens0.15/T0.72871/LJCFS-CYL-NH_1_RAD_6.0_TEMP_0.72871_DENS_0.15_NPART_4000_.diffusion.nc',\n",
       " './example_data//NPART4000/Radius6.0/dens0.15/T0.72871/LJCFS-CYL-NH_2_RAD_6.0_TEMP_0.72871_DENS_0.15_NPART_4000_.diffusion.nc',\n",
       " './example_data//NPART4000/Radius6.0/dens0.2/T0.72871/LJCFS-CYL-NH_1_RAD_6.0_TEMP_0.72871_DENS_0.2_NPART_4000_.diffusion.nc',\n",
       " './example_data//NPART4000/Radius6.0/dens0.2/T0.72871/LJCFS-CYL-NH_2_RAD_6.0_TEMP_0.72871_DENS_0.2_NPART_4000_.diffusion.nc',\n",
       " './example_data//NPART4000/Radius6.0/dens0.25/T0.72871/LJCFS-CYL-NH_1_RAD_6.0_TEMP_0.72871_DENS_0.25_NPART_4000_.diffusion.nc',\n",
       " './example_data//NPART4000/Radius6.0/dens0.25/T0.72871/LJCFS-CYL-NH_2_RAD_6.0_TEMP_0.72871_DENS_0.25_NPART_4000_.diffusion.nc',\n",
       " './example_data//NPART4000/Radius6.0/dens0.3/T0.72871/LJCFS-CYL-NH_1_RAD_6.0_TEMP_0.72871_DENS_0.3_NPART_4000_.diffusion.nc',\n",
       " './example_data//NPART4000/Radius6.0/dens0.3/T0.72871/LJCFS-CYL-NH_2_RAD_6.0_TEMP_0.72871_DENS_0.3_NPART_4000_.diffusion.nc',\n",
       " './example_data//NPART4000/Radius6.0/dens0.35/T0.72871/LJCFS-CYL-NH_1_RAD_6.0_TEMP_0.72871_DENS_0.35_NPART_4000_.diffusion.nc',\n",
       " './example_data//NPART4000/Radius6.0/dens0.35/T0.72871/LJCFS-CYL-NH_2_RAD_6.0_TEMP_0.72871_DENS_0.35_NPART_4000_.diffusion.nc',\n",
       " './example_data//NPART4000/Radius6.0/dens0.4/T0.72871/LJCFS-CYL-NH_1_RAD_6.0_TEMP_0.72871_DENS_0.4_NPART_4000_.diffusion.nc',\n",
       " './example_data//NPART4000/Radius6.0/dens0.4/T0.72871/LJCFS-CYL-NH_2_RAD_6.0_TEMP_0.72871_DENS_0.4_NPART_4000_.diffusion.nc',\n",
       " './example_data//NPART4000/Radius6.0/dens0.45/T0.72871/LJCFS-CYL-NH_1_RAD_6.0_TEMP_0.72871_DENS_0.45_NPART_4000_.diffusion.nc',\n",
       " './example_data//NPART4000/Radius6.0/dens0.5/T0.72871/LJCFS-CYL-NH_1_RAD_6.0_TEMP_0.72871_DENS_0.5_NPART_4000_.diffusion.nc',\n",
       " './example_data//NPART4000/Radius6.0/dens0.7/T0.72871/LJCFS-CYL-NH_1_RAD_6.0_TEMP_0.72871_DENS_0.7_NPART_4000_.diffusion.nc']"
      ]
     },
     "execution_count": 199,
     "metadata": {},
     "output_type": "execute_result"
    }
   ],
   "source": [
    "file_list"
   ]
  },
  {
   "cell_type": "code",
   "execution_count": 200,
   "metadata": {
    "collapsed": false
   },
   "outputs": [
    {
     "name": "stdout",
     "output_type": "stream",
     "text": [
      "['./example_data//NPART4000/Radius4.0/dens0.025/T0.72871/LJCFS-CYL-NH_1_RAD_4.0_TEMP_0.72871_DENS_0.025_NPART_4000_.diffusion.nc', './example_data//NPART4000/Radius4.0/dens0.025/T0.72871/LJCFS-CYL-NH_2_RAD_4.0_TEMP_0.72871_DENS_0.025_NPART_4000_.diffusion.nc', './example_data//NPART4000/Radius4.0/dens0.05/T0.72871/LJCFS-CYL-NH_1_RAD_4.0_TEMP_0.72871_DENS_0.05_NPART_4000_.diffusion.nc']\n"
     ]
    }
   ],
   "source": [
    "print file_list[:3]"
   ]
  },
  {
   "cell_type": "markdown",
   "metadata": {},
   "source": [
    "# Going beyond text files"
   ]
  },
  {
   "cell_type": "markdown",
   "metadata": {},
   "source": [
    "## could use text files:\n",
    "\n",
    " * but this is limited"
   ]
  },
  {
   "cell_type": "code",
   "execution_count": 201,
   "metadata": {
    "collapsed": false
   },
   "outputs": [
    {
     "name": "stdout",
     "output_type": "stream",
     "text": [
      "time MSD_z MSD_xy\r\n",
      "0.0 0.0 0.0\r\n",
      "0.00999999977648 0.00389118609019 0.00352267664857\r\n",
      "0.019999999553 0.00777880288661 0.00701602036133\r\n",
      "0.0299999993294 0.0116600431502 0.0104491692036\r\n",
      "0.0399999991059 0.0155321508646 0.013793470338\r\n",
      "0.0499999970198 0.019392600283 0.0170235838741\r\n",
      "0.0599999986589 0.0232394430786 0.0201184339821\r\n",
      "0.070000000298 0.0270714424551 0.023061754182\r\n",
      "0.0799999982119 0.0308878663927 0.0258418451995\r\n"
     ]
    }
   ],
   "source": [
    "!head -n 10 example_data/example_diffusion.dat"
   ]
  },
  {
   "cell_type": "markdown",
   "metadata": {},
   "source": [
    "## my recommendation: use netcdf\n",
    " * built for arrays of data.\n",
    " * has good metadata support\n",
    " * easy to work with -> netCDF4 or the new xarray package"
   ]
  },
  {
   "cell_type": "code",
   "execution_count": 202,
   "metadata": {
    "collapsed": true
   },
   "outputs": [],
   "source": [
    "import netCDF4 as nc"
   ]
  },
  {
   "cell_type": "code",
   "execution_count": 203,
   "metadata": {
    "collapsed": false
   },
   "outputs": [
    {
     "data": {
      "text/plain": [
       "<type 'netCDF4._netCDF4.Dataset'>\n",
       "root group (NETCDF4 data model, file format HDF5):\n",
       "    Region: [    8.             8.          3183.09141839]\n",
       "    Temperature: 0.72871\n",
       "    Npart: 4000\n",
       "    NpartTot: 4000\n",
       "    Anal_Npart: 4000\n",
       "    description dir_code: code for each dimension\n",
       "    dir_code: [2 2 1]\n",
       "    dimensions(sizes): time(76), rec(14), type(1), dir_code(2)\n",
       "    variables(dimensions): float32 \u001b[4mtime\u001b[0m(time), float32 \u001b[4mMSD\u001b[0m(rec,type,dir_code,time), float32 \u001b[4mCORR\u001b[0m(rec,type,dir_code,time), float32 \u001b[4mINTEGRAL_CORR\u001b[0m(rec,type,dir_code,time), float32 \u001b[4mMSD_COLLECTIVE\u001b[0m(rec,type,dir_code,time)\n",
       "    groups: "
      ]
     },
     "execution_count": 203,
     "metadata": {},
     "output_type": "execute_result"
    }
   ],
   "source": [
    "t = nc.Dataset('./example_data/example_diffusion.nc')\n",
    "t"
   ]
  },
  {
   "cell_type": "code",
   "execution_count": 204,
   "metadata": {
    "collapsed": false
   },
   "outputs": [
    {
     "data": {
      "text/plain": [
       "<type 'netCDF4._netCDF4.Variable'>\n",
       "float32 MSD(rec, type, dir_code, time)\n",
       "    description: MSD\n",
       "unlimited dimensions: \n",
       "current shape = (14, 1, 2, 76)\n",
       "filling on, default _FillValue of 9.96920996839e+36 used"
      ]
     },
     "execution_count": 204,
     "metadata": {},
     "output_type": "execute_result"
    }
   ],
   "source": [
    "t.variables['MSD']"
   ]
  },
  {
   "cell_type": "markdown",
   "metadata": {},
   "source": [
    "### even easier, use xarray"
   ]
  },
  {
   "cell_type": "code",
   "execution_count": 205,
   "metadata": {
    "collapsed": true
   },
   "outputs": [],
   "source": [
    "import xarray as xr"
   ]
  },
  {
   "cell_type": "markdown",
   "metadata": {},
   "source": [
    "xarray is modeled on the netcdf format"
   ]
  },
  {
   "cell_type": "code",
   "execution_count": 206,
   "metadata": {
    "collapsed": false
   },
   "outputs": [
    {
     "data": {
      "text/plain": [
       "<xarray.Dataset>\n",
       "Dimensions:         (dir_code: 2, rec: 14, time: 76, type: 1)\n",
       "Coordinates:\n",
       "  * time            (time) float32 0.0 0.01 0.02 0.03 0.04 0.05 0.06 0.07 ...\n",
       "  * dir_code        (dir_code) int64 0 1\n",
       "  * rec             (rec) int64 0 1 2 3 4 5 6 7 8 9 10 11 12 13\n",
       "  * type            (type) int64 0\n",
       "Data variables:\n",
       "    MSD             (rec, type, dir_code, time) float32 0.0 0.00389119 ...\n",
       "    CORR            (rec, type, dir_code, time) float32 0.778382 0.777733 ...\n",
       "    INTEGRAL_CORR   (rec, type, dir_code, time) float32 0.0 0.00778057 ...\n",
       "    MSD_COLLECTIVE  (rec, type, dir_code, time) float32 0.0 1.05029e-26 ...\n",
       "Attributes:\n",
       "    Region: [    8.             8.          3183.09141839]\n",
       "    Temperature: 0.72871\n",
       "    Npart: 4000\n",
       "    NpartTot: 4000\n",
       "    Anal_Npart: 4000\n",
       "    description dir_code: code for each dimension\n",
       "    dir_code: [2 2 1]"
      ]
     },
     "execution_count": 206,
     "metadata": {},
     "output_type": "execute_result"
    }
   ],
   "source": [
    "ds = xr.open_dataset('example_data/example_diffusion.nc')\n",
    "ds"
   ]
  },
  {
   "cell_type": "markdown",
   "metadata": {},
   "source": [
    "## xarray is like pandas, but for greater than 2D"
   ]
  },
  {
   "cell_type": "markdown",
   "metadata": {},
   "source": [
    "## fundamental objects: DataArray (single variable)"
   ]
  },
  {
   "cell_type": "markdown",
   "metadata": {},
   "source": [
    "# Dataset: multiple variables"
   ]
  },
  {
   "cell_type": "code",
   "execution_count": 207,
   "metadata": {
    "collapsed": false
   },
   "outputs": [
    {
     "data": {
      "text/plain": [
       "<xarray.Dataset>\n",
       "Dimensions:         (dir_code: 2, rec: 14, time: 76, type: 1)\n",
       "Coordinates:\n",
       "  * time            (time) float32 0.0 0.01 0.02 0.03 0.04 0.05 0.06 0.07 ...\n",
       "  * dir_code        (dir_code) int64 0 1\n",
       "  * rec             (rec) int64 0 1 2 3 4 5 6 7 8 9 10 11 12 13\n",
       "  * type            (type) int64 0\n",
       "Data variables:\n",
       "    MSD             (rec, type, dir_code, time) float32 0.0 0.00389119 ...\n",
       "    CORR            (rec, type, dir_code, time) float32 0.778382 0.777733 ...\n",
       "    INTEGRAL_CORR   (rec, type, dir_code, time) float32 0.0 0.00778057 ...\n",
       "    MSD_COLLECTIVE  (rec, type, dir_code, time) float32 0.0 1.05029e-26 ...\n",
       "Attributes:\n",
       "    Region: [    8.             8.          3183.09141839]\n",
       "    Temperature: 0.72871\n",
       "    Npart: 4000\n",
       "    NpartTot: 4000\n",
       "    Anal_Npart: 4000\n",
       "    description dir_code: code for each dimension\n",
       "    dir_code: [2 2 1]"
      ]
     },
     "execution_count": 207,
     "metadata": {},
     "output_type": "execute_result"
    }
   ],
   "source": [
    "ds"
   ]
  },
  {
   "cell_type": "markdown",
   "metadata": {},
   "source": [
    "## can do cool things\n",
    " * select by value\n",
    " * apply functions by named dimension"
   ]
  },
  {
   "cell_type": "code",
   "execution_count": 208,
   "metadata": {
    "collapsed": false,
    "scrolled": true
   },
   "outputs": [
    {
     "data": {
      "text/plain": [
       "<xarray.Dataset>\n",
       "Dimensions:         (dir_code: 2, rec: 14, type: 1)\n",
       "Coordinates:\n",
       "    time            float32 20.0\n",
       "  * dir_code        (dir_code) int64 0 1\n",
       "  * rec             (rec) int64 0 1 2 3 4 5 6 7 8 9 10 11 12 13\n",
       "  * type            (type) int64 0\n",
       "Data variables:\n",
       "    MSD             (rec, type, dir_code) float32 2.85597 0.235543 2.36165 ...\n",
       "    CORR            (rec, type, dir_code) float32 0.0908736 -0.00644757 ...\n",
       "    INTEGRAL_CORR   (rec, type, dir_code) float32 4.30577 0.0165321 3.19536 ...\n",
       "    MSD_COLLECTIVE  (rec, type, dir_code) float32 1.10404e-26 0.00631368 ...\n",
       "Attributes:\n",
       "    Region: [    8.             8.          3183.09141839]\n",
       "    Temperature: 0.72871\n",
       "    Npart: 4000\n",
       "    NpartTot: 4000\n",
       "    Anal_Npart: 4000\n",
       "    description dir_code: code for each dimension\n",
       "    dir_code: [2 2 1]"
      ]
     },
     "execution_count": 208,
     "metadata": {},
     "output_type": "execute_result"
    }
   ],
   "source": [
    "#select data with time closest to 20.0\n",
    "ds.sel(time=20.0, method='nearest')"
   ]
  },
  {
   "cell_type": "code",
   "execution_count": 209,
   "metadata": {
    "collapsed": false
   },
   "outputs": [
    {
     "data": {
      "text/plain": [
       "<xarray.Dataset>\n",
       "Dimensions:         (rec: 14, time: 76)\n",
       "Coordinates:\n",
       "  * time            (time) float32 0.0 0.01 0.02 0.03 0.04 0.05 0.06 0.07 ...\n",
       "    dir_code        int64 0\n",
       "  * rec             (rec) int64 0 1 2 3 4 5 6 7 8 9 10 11 12 13\n",
       "    type            int64 0\n",
       "Data variables:\n",
       "    MSD             (rec, time) float32 0.0 0.00389119 0.0077788 0.01166 ...\n",
       "    CORR            (rec, time) float32 0.778382 0.777733 0.775962 0.773148 ...\n",
       "    INTEGRAL_CORR   (rec, time) float32 0.0 0.00778057 0.015549 0.0232946 ...\n",
       "    MSD_COLLECTIVE  (rec, time) float32 0.0 1.05029e-26 8.91377e-27 ...\n",
       "Attributes:\n",
       "    Region: [    8.             8.          3183.09141839]\n",
       "    Temperature: 0.72871\n",
       "    Npart: 4000\n",
       "    NpartTot: 4000\n",
       "    Anal_Npart: 4000\n",
       "    description dir_code: code for each dimension\n",
       "    dir_code: [2 2 1]"
      ]
     },
     "execution_count": 209,
     "metadata": {},
     "output_type": "execute_result"
    }
   ],
   "source": [
    "#select data with dir_code==0 and type==0\n",
    "ds.sel(dir_code=0, type=0)"
   ]
  },
  {
   "cell_type": "code",
   "execution_count": 210,
   "metadata": {
    "collapsed": false
   },
   "outputs": [
    {
     "data": {
      "text/plain": [
       "<xarray.Dataset>\n",
       "Dimensions:         (time: 76)\n",
       "Coordinates:\n",
       "  * time            (time) float32 0.0 0.01 0.02 0.03 0.04 0.05 0.06 0.07 ...\n",
       "Data variables:\n",
       "    MSD             (time) float32 0.0 0.00364834 0.00729395 0.0109343 ...\n",
       "    CORR            (time) float32 0.729747 0.729192 0.727587 0.725019 ...\n",
       "    INTEGRAL_CORR   (time) float32 0.0 0.00729469 0.0145786 0.0218416 ...\n",
       "    MSD_COLLECTIVE  (time) float32 0.0 1.24137e-26 1.17918e-26 1.19935e-26 ..."
      ]
     },
     "execution_count": 210,
     "metadata": {},
     "output_type": "execute_result"
    }
   ],
   "source": [
    "#mean over records\n",
    "ds.sel(dir_code=0, type=0, rec=slice(1,None)).mean('rec')"
   ]
  },
  {
   "cell_type": "markdown",
   "metadata": {},
   "source": [
    "## can merge/ concat/ etc\n"
   ]
  },
  {
   "cell_type": "code",
   "execution_count": 211,
   "metadata": {
    "collapsed": false
   },
   "outputs": [
    {
     "name": "stdout",
     "output_type": "stream",
     "text": [
      "<xarray.DataArray (x: 1, y: 5)>\n",
      "array([[ 0.08923619,  0.6490251 ,  0.52356431,  0.95886788,  0.5796481 ]])\n",
      "Coordinates:\n",
      "  * x        (x) int64 -1\n",
      "  * y        (y) int64 0 1 2 3 4\n",
      "<xarray.DataArray (x: 4, y: 5)>\n",
      "array([[ 0.74995107,  0.08795759,  0.3976517 ,  0.51506063,  0.30171932],\n",
      "       [ 0.14367126,  0.56969178,  0.05567982,  0.91532827,  0.87368981],\n",
      "       [ 0.5938945 ,  0.28232684,  0.25066672,  0.2157298 ,  0.31236081],\n",
      "       [ 0.53277028,  0.83079308,  0.18924781,  0.60996909,  0.2775537 ]])\n",
      "Coordinates:\n",
      "  * x        (x) int64 0 1 2 3\n",
      "  * y        (y) int64 0 1 2 3 4\n"
     ]
    }
   ],
   "source": [
    "da1 = xr.DataArray(np.random.rand(1,5),[('x',[-1]),('y',range(5))])\n",
    "da2 = xr.DataArray(np.random.rand(4,5),dims=['x','y'])\n",
    "print da1\n",
    "print da2\n"
   ]
  },
  {
   "cell_type": "code",
   "execution_count": 212,
   "metadata": {
    "collapsed": false
   },
   "outputs": [
    {
     "data": {
      "text/plain": [
       "<xarray.DataArray (x: 5, y: 5)>\n",
       "array([[ 0.08923619,  0.6490251 ,  0.52356431,  0.95886788,  0.5796481 ],\n",
       "       [ 0.74995107,  0.08795759,  0.3976517 ,  0.51506063,  0.30171932],\n",
       "       [ 0.14367126,  0.56969178,  0.05567982,  0.91532827,  0.87368981],\n",
       "       [ 0.5938945 ,  0.28232684,  0.25066672,  0.2157298 ,  0.31236081],\n",
       "       [ 0.53277028,  0.83079308,  0.18924781,  0.60996909,  0.2775537 ]])\n",
       "Coordinates:\n",
       "  * y        (y) int64 0 1 2 3 4\n",
       "  * x        (x) int64 -1 0 1 2 3"
      ]
     },
     "execution_count": 212,
     "metadata": {},
     "output_type": "execute_result"
    }
   ],
   "source": [
    "xr.concat((da1,da2),'x')"
   ]
  },
  {
   "cell_type": "markdown",
   "metadata": {},
   "source": [
    "# calculate diffusion\n",
    "\n",
    "$$D_z = \\lim_{t\\rightarrow \\infty} \\frac{\\langle\\delta z^2 \\rangle}{2 t}$$"
   ]
  },
  {
   "cell_type": "code",
   "execution_count": 213,
   "metadata": {
    "collapsed": false
   },
   "outputs": [],
   "source": [
    "%matplotlib inline\n",
    "import matplotlib.pyplot as plt"
   ]
  },
  {
   "cell_type": "code",
   "execution_count": 214,
   "metadata": {
    "collapsed": false
   },
   "outputs": [
    {
     "data": {
      "image/png": "[encoded data removed]",
      "text/plain": [
       "<matplotlib.figure.Figure at 0x1200921d0>"
      ]
     },
     "metadata": {},
     "output_type": "display_data"
    }
   ],
   "source": [
    "_ = plt.loglog(ds.time,ds.MSD.sel(dir_code=0, type=0, rec=slice(3,None)).T)"
   ]
  },
  {
   "cell_type": "code",
   "execution_count": 215,
   "metadata": {
    "collapsed": false
   },
   "outputs": [
    {
     "data": {
      "text/plain": [
       "[<matplotlib.lines.Line2D at 0x120153c90>]"
      ]
     },
     "execution_count": 215,
     "metadata": {},
     "output_type": "execute_result"
    },
    {
     "data": {
      "image/png": "[encoded data removed]",
      "text/plain": [
       "<matplotlib.figure.Figure at 0x12020a410>"
      ]
     },
     "metadata": {},
     "output_type": "display_data"
    }
   ],
   "source": [
    "t = ds.MSD.sel(time=ds.time>1000., type=0, dir_code=0, rec=slice(3,None))\n",
    "\n",
    "plt.loglog(ds.time, ds.MSD.sel(dir_code=0, type=0, rec=slice(3,None)).T)\n",
    "plt.plot(t.time, t.mean('rec'), 'o')\n"
   ]
  },
  {
   "cell_type": "code",
   "execution_count": 216,
   "metadata": {
    "collapsed": true
   },
   "outputs": [],
   "source": [
    "# lets get the average diffusion\n",
    "def get_diffusion(ds, tmin, n_skip, **kwargs):\n",
    "    # mask and select data\n",
    "    msk = ds.time > tmin\n",
    "    da = ds.MSD.sel(time=msk, rec=slice(n_skip,None),**kwargs)\n",
    "    \n",
    "    # form new dataset\n",
    "    out = xr.Dataset({'D':da.mean(['rec','time']),'D_std':da.std(['rec','time']),\n",
    "                'tmin':tmin, 'nrec':len(da.rec), 'ntime':len(da.time)})\n",
    "    return out\n",
    "    "
   ]
  },
  {
   "cell_type": "code",
   "execution_count": 217,
   "metadata": {
    "collapsed": false
   },
   "outputs": [
    {
     "data": {
      "text/plain": [
       "<xarray.Dataset>\n",
       "Dimensions:   ()\n",
       "Coordinates:\n",
       "    dir_code  int64 0\n",
       "    type      int64 0\n",
       "Data variables:\n",
       "    nrec      int64 13\n",
       "    ntime     int64 9\n",
       "    tmin      int64 1000\n",
       "    D         float32 3.12357\n",
       "    D_std     float32 0.503832"
      ]
     },
     "execution_count": 217,
     "metadata": {},
     "output_type": "execute_result"
    }
   ],
   "source": [
    "out = get_diffusion(ds, 1000, 1, dir_code=0, type=0)\n",
    "out"
   ]
  },
  {
   "cell_type": "code",
   "execution_count": 218,
   "metadata": {
    "collapsed": false
   },
   "outputs": [
    {
     "data": {
      "text/html": [
       "<div>\n",
       "<table border=\"1\" class=\"dataframe\">\n",
       "  <thead>\n",
       "    <tr style=\"text-align: right;\">\n",
       "      <th></th>\n",
       "      <th>dir_code</th>\n",
       "      <th>type</th>\n",
       "      <th>nrec</th>\n",
       "      <th>tmin</th>\n",
       "      <th>ntime</th>\n",
       "      <th>D</th>\n",
       "      <th>D_std</th>\n",
       "    </tr>\n",
       "    <tr>\n",
       "      <th>val</th>\n",
       "      <th></th>\n",
       "      <th></th>\n",
       "      <th></th>\n",
       "      <th></th>\n",
       "      <th></th>\n",
       "      <th></th>\n",
       "      <th></th>\n",
       "    </tr>\n",
       "  </thead>\n",
       "  <tbody>\n",
       "    <tr>\n",
       "      <th>0</th>\n",
       "      <td>0</td>\n",
       "      <td>0</td>\n",
       "      <td>13</td>\n",
       "      <td>1000</td>\n",
       "      <td>9</td>\n",
       "      <td>3.12357</td>\n",
       "      <td>0.503832</td>\n",
       "    </tr>\n",
       "  </tbody>\n",
       "</table>\n",
       "</div>"
      ],
      "text/plain": [
       "     dir_code  type  nrec  tmin  ntime        D     D_std\n",
       "val                                                      \n",
       "0           0     0    13  1000      9  3.12357  0.503832"
      ]
     },
     "execution_count": 218,
     "metadata": {},
     "output_type": "execute_result"
    }
   ],
   "source": [
    "xr.concat([out],'val').to_dataframe()"
   ]
  },
  {
   "cell_type": "code",
   "execution_count": 219,
   "metadata": {
    "collapsed": true
   },
   "outputs": [],
   "source": [
    "# progress bar\n",
    "from tqdm import tqdm"
   ]
  },
  {
   "cell_type": "code",
   "execution_count": 220,
   "metadata": {
    "collapsed": false
   },
   "outputs": [
    {
     "data": {
      "text/plain": [
       "['./example_data//NPART4000/Radius4.0/dens0.025/T0.72871/LJCFS-CYL-NH_1_RAD_4.0_TEMP_0.72871_DENS_0.025_NPART_4000_.diffusion.nc',\n",
       " './example_data//NPART4000/Radius4.0/dens0.025/T0.72871/LJCFS-CYL-NH_2_RAD_4.0_TEMP_0.72871_DENS_0.025_NPART_4000_.diffusion.nc',\n",
       " './example_data//NPART4000/Radius4.0/dens0.05/T0.72871/LJCFS-CYL-NH_1_RAD_4.0_TEMP_0.72871_DENS_0.05_NPART_4000_.diffusion.nc',\n",
       " './example_data//NPART4000/Radius4.0/dens0.05/T0.72871/LJCFS-CYL-NH_2_RAD_4.0_TEMP_0.72871_DENS_0.05_NPART_4000_.diffusion.nc',\n",
       " './example_data//NPART4000/Radius4.0/dens0.075/T0.72871/LJCFS-CYL-NH_1_RAD_4.0_TEMP_0.72871_DENS_0.075_NPART_4000_.diffusion.nc',\n",
       " './example_data//NPART4000/Radius4.0/dens0.075/T0.72871/LJCFS-CYL-NH_2_RAD_4.0_TEMP_0.72871_DENS_0.075_NPART_4000_.diffusion.nc',\n",
       " './example_data//NPART4000/Radius4.0/dens0.1/T0.72871/LJCFS-CYL-NH_1_RAD_4.0_TEMP_0.72871_DENS_0.1_NPART_4000_.diffusion.nc',\n",
       " './example_data//NPART4000/Radius4.0/dens0.1/T0.72871/LJCFS-CYL-NH_2_RAD_4.0_TEMP_0.72871_DENS_0.1_NPART_4000_.diffusion.nc',\n",
       " './example_data//NPART4000/Radius4.0/dens0.15/T0.72871/LJCFS-CYL-NH_1_RAD_4.0_TEMP_0.72871_DENS_0.15_NPART_4000_.diffusion.nc',\n",
       " './example_data//NPART4000/Radius4.0/dens0.15/T0.72871/LJCFS-CYL-NH_2_RAD_4.0_TEMP_0.72871_DENS_0.15_NPART_4000_.diffusion.nc',\n",
       " './example_data//NPART4000/Radius4.0/dens0.2/T0.72871/LJCFS-CYL-NH_1_RAD_4.0_TEMP_0.72871_DENS_0.2_NPART_4000_.diffusion.nc',\n",
       " './example_data//NPART4000/Radius4.0/dens0.2/T0.72871/LJCFS-CYL-NH_2_RAD_4.0_TEMP_0.72871_DENS_0.2_NPART_4000_.diffusion.nc',\n",
       " './example_data//NPART4000/Radius4.0/dens0.25/T0.72871/LJCFS-CYL-NH_1_RAD_4.0_TEMP_0.72871_DENS_0.25_NPART_4000_.diffusion.nc',\n",
       " './example_data//NPART4000/Radius4.0/dens0.25/T0.72871/LJCFS-CYL-NH_2_RAD_4.0_TEMP_0.72871_DENS_0.25_NPART_4000_.diffusion.nc',\n",
       " './example_data//NPART4000/Radius4.0/dens0.3/T0.72871/LJCFS-CYL-NH_1_RAD_4.0_TEMP_0.72871_DENS_0.3_NPART_4000_.diffusion.nc',\n",
       " './example_data//NPART4000/Radius4.0/dens0.3/T0.72871/LJCFS-CYL-NH_2_RAD_4.0_TEMP_0.72871_DENS_0.3_NPART_4000_.diffusion.nc',\n",
       " './example_data//NPART4000/Radius4.0/dens0.35/T0.72871/LJCFS-CYL-NH_1_RAD_4.0_TEMP_0.72871_DENS_0.35_NPART_4000_.diffusion.nc',\n",
       " './example_data//NPART4000/Radius4.0/dens0.35/T0.72871/LJCFS-CYL-NH_2_RAD_4.0_TEMP_0.72871_DENS_0.35_NPART_4000_.diffusion.nc',\n",
       " './example_data//NPART4000/Radius4.0/dens0.4/T0.72871/LJCFS-CYL-NH_1_RAD_4.0_TEMP_0.72871_DENS_0.4_NPART_4000_.diffusion.nc',\n",
       " './example_data//NPART4000/Radius4.0/dens0.65/T0.72871/LJCFS-CYL-NH_1_RAD_4.0_TEMP_0.72871_DENS_0.65_NPART_4000_.diffusion.nc',\n",
       " './example_data//NPART4000/Radius4.0/dens0.7/T0.72871/LJCFS-CYL-NH_1_RAD_4.0_TEMP_0.72871_DENS_0.7_NPART_4000_.diffusion.nc',\n",
       " './example_data//NPART4000/Radius6.0/dens0.025/T0.72871/LJCFS-CYL-NH_1_RAD_6.0_TEMP_0.72871_DENS_0.025_NPART_4000_.diffusion.nc',\n",
       " './example_data//NPART4000/Radius6.0/dens0.025/T0.72871/LJCFS-CYL-NH_2_RAD_6.0_TEMP_0.72871_DENS_0.025_NPART_4000_.diffusion.nc',\n",
       " './example_data//NPART4000/Radius6.0/dens0.05/T0.72871/LJCFS-CYL-NH_1_RAD_6.0_TEMP_0.72871_DENS_0.05_NPART_4000_.diffusion.nc',\n",
       " './example_data//NPART4000/Radius6.0/dens0.05/T0.72871/LJCFS-CYL-NH_2_RAD_6.0_TEMP_0.72871_DENS_0.05_NPART_4000_.diffusion.nc',\n",
       " './example_data//NPART4000/Radius6.0/dens0.1/T0.72871/LJCFS-CYL-NH_1_RAD_6.0_TEMP_0.72871_DENS_0.1_NPART_4000_.diffusion.nc',\n",
       " './example_data//NPART4000/Radius6.0/dens0.1/T0.72871/LJCFS-CYL-NH_2_RAD_6.0_TEMP_0.72871_DENS_0.1_NPART_4000_.diffusion.nc',\n",
       " './example_data//NPART4000/Radius6.0/dens0.15/T0.72871/LJCFS-CYL-NH_1_RAD_6.0_TEMP_0.72871_DENS_0.15_NPART_4000_.diffusion.nc',\n",
       " './example_data//NPART4000/Radius6.0/dens0.15/T0.72871/LJCFS-CYL-NH_2_RAD_6.0_TEMP_0.72871_DENS_0.15_NPART_4000_.diffusion.nc',\n",
       " './example_data//NPART4000/Radius6.0/dens0.2/T0.72871/LJCFS-CYL-NH_1_RAD_6.0_TEMP_0.72871_DENS_0.2_NPART_4000_.diffusion.nc',\n",
       " './example_data//NPART4000/Radius6.0/dens0.2/T0.72871/LJCFS-CYL-NH_2_RAD_6.0_TEMP_0.72871_DENS_0.2_NPART_4000_.diffusion.nc',\n",
       " './example_data//NPART4000/Radius6.0/dens0.25/T0.72871/LJCFS-CYL-NH_1_RAD_6.0_TEMP_0.72871_DENS_0.25_NPART_4000_.diffusion.nc',\n",
       " './example_data//NPART4000/Radius6.0/dens0.25/T0.72871/LJCFS-CYL-NH_2_RAD_6.0_TEMP_0.72871_DENS_0.25_NPART_4000_.diffusion.nc',\n",
       " './example_data//NPART4000/Radius6.0/dens0.3/T0.72871/LJCFS-CYL-NH_1_RAD_6.0_TEMP_0.72871_DENS_0.3_NPART_4000_.diffusion.nc',\n",
       " './example_data//NPART4000/Radius6.0/dens0.3/T0.72871/LJCFS-CYL-NH_2_RAD_6.0_TEMP_0.72871_DENS_0.3_NPART_4000_.diffusion.nc',\n",
       " './example_data//NPART4000/Radius6.0/dens0.35/T0.72871/LJCFS-CYL-NH_1_RAD_6.0_TEMP_0.72871_DENS_0.35_NPART_4000_.diffusion.nc',\n",
       " './example_data//NPART4000/Radius6.0/dens0.35/T0.72871/LJCFS-CYL-NH_2_RAD_6.0_TEMP_0.72871_DENS_0.35_NPART_4000_.diffusion.nc',\n",
       " './example_data//NPART4000/Radius6.0/dens0.4/T0.72871/LJCFS-CYL-NH_1_RAD_6.0_TEMP_0.72871_DENS_0.4_NPART_4000_.diffusion.nc',\n",
       " './example_data//NPART4000/Radius6.0/dens0.4/T0.72871/LJCFS-CYL-NH_2_RAD_6.0_TEMP_0.72871_DENS_0.4_NPART_4000_.diffusion.nc',\n",
       " './example_data//NPART4000/Radius6.0/dens0.45/T0.72871/LJCFS-CYL-NH_1_RAD_6.0_TEMP_0.72871_DENS_0.45_NPART_4000_.diffusion.nc',\n",
       " './example_data//NPART4000/Radius6.0/dens0.5/T0.72871/LJCFS-CYL-NH_1_RAD_6.0_TEMP_0.72871_DENS_0.5_NPART_4000_.diffusion.nc',\n",
       " './example_data//NPART4000/Radius6.0/dens0.7/T0.72871/LJCFS-CYL-NH_1_RAD_6.0_TEMP_0.72871_DENS_0.7_NPART_4000_.diffusion.nc']"
      ]
     },
     "execution_count": 220,
     "metadata": {},
     "output_type": "execute_result"
    }
   ],
   "source": [
    "file_list"
   ]
  },
  {
   "cell_type": "code",
   "execution_count": 221,
   "metadata": {
    "collapsed": false
   },
   "outputs": [
    {
     "name": "stderr",
     "output_type": "stream",
     "text": [
      "100%|██████████| 42/42 [00:00<00:00, 106.46it/s]\n"
     ]
    }
   ],
   "source": [
    "tmin = 1000.\n",
    "dir_code = 0\n",
    "Dtype = 0\n",
    "L = []\n",
    "for fname in tqdm(file_list, leave=True):\n",
    "    ds = xr.open_dataset(fname)\n",
    "    out = get_diffusion(ds, tmin=tmin, n_skip=1, dir_code=0, type=Dtype ) \n",
    "    out['path'] = fname\n",
    "    L.append(out)\n",
    "    "
   ]
  },
  {
   "cell_type": "code",
   "execution_count": 222,
   "metadata": {
    "collapsed": false
   },
   "outputs": [
    {
     "data": {
      "text/plain": [
       "<xarray.Dataset>\n",
       "Dimensions:   (index: 42)\n",
       "Coordinates:\n",
       "    dir_code  int64 0\n",
       "    type      int64 0\n",
       "  * index     (index) int64 0 1 2 3 4 5 6 7 8 9 10 11 12 13 14 15 16 17 18 ...\n",
       "Data variables:\n",
       "    nrec      (index) int64 13 13 13 13 13 13 13 11 13 8 13 6 13 4 13 3 13 2 ...\n",
       "    tmin      (index) float64 1e+03 1e+03 1e+03 1e+03 1e+03 1e+03 1e+03 ...\n",
       "    D         (index) float32 3.07262 3.12357 1.44567 1.44583 0.961382 ...\n",
       "    path      (index) |S126 './example_data//NPART4000/Radius4.0/dens0.025/T0.72871/LJCFS-CYL-NH_1_RAD_4.0_TEMP_0.72871_DENS_0.025_NPART_4000_.diffusion.nc' ...\n",
       "    ntime     (index) int64 9 9 9 9 9 9 9 9 9 9 9 9 9 9 9 9 9 9 9 9 9 9 9 9 ...\n",
       "    D_std     (index) float32 0.398093 0.503832 0.0242462 0.0255421 ..."
      ]
     },
     "execution_count": 222,
     "metadata": {},
     "output_type": "execute_result"
    }
   ],
   "source": [
    "ds_out = xr.concat(L,'index')\n",
    "ds_out"
   ]
  },
  {
   "cell_type": "code",
   "execution_count": 223,
   "metadata": {
    "collapsed": false
   },
   "outputs": [
    {
     "data": {
      "text/html": [
       "<div>\n",
       "<table border=\"1\" class=\"dataframe\">\n",
       "  <thead>\n",
       "    <tr style=\"text-align: right;\">\n",
       "      <th></th>\n",
       "      <th>dir_code</th>\n",
       "      <th>type</th>\n",
       "      <th>nrec</th>\n",
       "      <th>tmin</th>\n",
       "      <th>D</th>\n",
       "      <th>path</th>\n",
       "      <th>ntime</th>\n",
       "      <th>D_std</th>\n",
       "    </tr>\n",
       "    <tr>\n",
       "      <th>index</th>\n",
       "      <th></th>\n",
       "      <th></th>\n",
       "      <th></th>\n",
       "      <th></th>\n",
       "      <th></th>\n",
       "      <th></th>\n",
       "      <th></th>\n",
       "      <th></th>\n",
       "    </tr>\n",
       "  </thead>\n",
       "  <tbody>\n",
       "    <tr>\n",
       "      <th>0</th>\n",
       "      <td>0</td>\n",
       "      <td>0</td>\n",
       "      <td>13</td>\n",
       "      <td>1000.0</td>\n",
       "      <td>3.072620</td>\n",
       "      <td>./example_data//NPART4000/Radius4.0/dens0.025/...</td>\n",
       "      <td>9</td>\n",
       "      <td>0.398093</td>\n",
       "    </tr>\n",
       "    <tr>\n",
       "      <th>1</th>\n",
       "      <td>0</td>\n",
       "      <td>0</td>\n",
       "      <td>13</td>\n",
       "      <td>1000.0</td>\n",
       "      <td>3.123570</td>\n",
       "      <td>./example_data//NPART4000/Radius4.0/dens0.025/...</td>\n",
       "      <td>9</td>\n",
       "      <td>0.503832</td>\n",
       "    </tr>\n",
       "    <tr>\n",
       "      <th>2</th>\n",
       "      <td>0</td>\n",
       "      <td>0</td>\n",
       "      <td>13</td>\n",
       "      <td>1000.0</td>\n",
       "      <td>1.445670</td>\n",
       "      <td>./example_data//NPART4000/Radius4.0/dens0.05/T...</td>\n",
       "      <td>9</td>\n",
       "      <td>0.024246</td>\n",
       "    </tr>\n",
       "    <tr>\n",
       "      <th>3</th>\n",
       "      <td>0</td>\n",
       "      <td>0</td>\n",
       "      <td>13</td>\n",
       "      <td>1000.0</td>\n",
       "      <td>1.445833</td>\n",
       "      <td>./example_data//NPART4000/Radius4.0/dens0.05/T...</td>\n",
       "      <td>9</td>\n",
       "      <td>0.025542</td>\n",
       "    </tr>\n",
       "    <tr>\n",
       "      <th>4</th>\n",
       "      <td>0</td>\n",
       "      <td>0</td>\n",
       "      <td>13</td>\n",
       "      <td>1000.0</td>\n",
       "      <td>0.961382</td>\n",
       "      <td>./example_data//NPART4000/Radius4.0/dens0.075/...</td>\n",
       "      <td>9</td>\n",
       "      <td>0.008758</td>\n",
       "    </tr>\n",
       "  </tbody>\n",
       "</table>\n",
       "</div>"
      ],
      "text/plain": [
       "       dir_code  type  nrec    tmin         D  \\\n",
       "index                                           \n",
       "0             0     0    13  1000.0  3.072620   \n",
       "1             0     0    13  1000.0  3.123570   \n",
       "2             0     0    13  1000.0  1.445670   \n",
       "3             0     0    13  1000.0  1.445833   \n",
       "4             0     0    13  1000.0  0.961382   \n",
       "\n",
       "                                                    path  ntime     D_std  \n",
       "index                                                                      \n",
       "0      ./example_data//NPART4000/Radius4.0/dens0.025/...      9  0.398093  \n",
       "1      ./example_data//NPART4000/Radius4.0/dens0.025/...      9  0.503832  \n",
       "2      ./example_data//NPART4000/Radius4.0/dens0.05/T...      9  0.024246  \n",
       "3      ./example_data//NPART4000/Radius4.0/dens0.05/T...      9  0.025542  \n",
       "4      ./example_data//NPART4000/Radius4.0/dens0.075/...      9  0.008758  "
      ]
     },
     "execution_count": 223,
     "metadata": {},
     "output_type": "execute_result"
    }
   ],
   "source": [
    "df = ds_out.to_dataframe()\n",
    "df.head()"
   ]
  },
  {
   "cell_type": "markdown",
   "metadata": {},
   "source": [
    "# get meta data from path"
   ]
  },
  {
   "cell_type": "code",
   "execution_count": 224,
   "metadata": {
    "collapsed": false
   },
   "outputs": [
    {
     "data": {
      "text/plain": [
       "'./example_data//NPART4000/Radius4.0/dens0.025/T0.72871/LJCFS-CYL-NH_1_RAD_4.0_TEMP_0.72871_DENS_0.025_NPART_4000_.diffusion.nc'"
      ]
     },
     "execution_count": 224,
     "metadata": {},
     "output_type": "execute_result"
    }
   ],
   "source": [
    "path = df.iloc[0].path\n",
    "path"
   ]
  },
  {
   "cell_type": "code",
   "execution_count": 225,
   "metadata": {
    "collapsed": false
   },
   "outputs": [
    {
     "name": "stdout",
     "output_type": "stream",
     "text": [
      "LJCFS-CYL-NH_1_RAD_4.0_TEMP_0.72871_DENS_0.025_NPART_4000_.diffusion.nc\n"
     ]
    }
   ],
   "source": [
    "import os\n",
    "base = os.path.basename(path)\n",
    "print base"
   ]
  },
  {
   "cell_type": "code",
   "execution_count": 226,
   "metadata": {
    "collapsed": false
   },
   "outputs": [
    {
     "name": "stdout",
     "output_type": "stream",
     "text": [
      "['LJCFS-CYL-NH', '1', 'RAD', '4.0', 'TEMP', '0.72871', 'DENS', '0.025', 'NPART', '4000', '.diffusion.nc']\n"
     ]
    }
   ],
   "source": [
    "print base.split('_')"
   ]
  },
  {
   "cell_type": "code",
   "execution_count": 227,
   "metadata": {
    "collapsed": true
   },
   "outputs": [],
   "source": [
    "def get_meta(path):\n",
    "    base = os.path.basename(path)\n",
    "    x = base.split('_')\n",
    "    d = {}\n",
    "    d['prefix'] = x[0]\n",
    "    d['rn'] = x[1]\n",
    "    \n",
    "    for k, v in zip(x[2::2],x[3::2]):\n",
    "        d[k.lower()] = v\n",
    "    return d"
   ]
  },
  {
   "cell_type": "code",
   "execution_count": 228,
   "metadata": {
    "collapsed": false
   },
   "outputs": [
    {
     "data": {
      "text/plain": [
       "{'dens': '0.025',\n",
       " 'npart': '4000',\n",
       " 'prefix': 'LJCFS-CYL-NH',\n",
       " 'rad': '4.0',\n",
       " 'rn': '1',\n",
       " 'temp': '0.72871'}"
      ]
     },
     "execution_count": 228,
     "metadata": {},
     "output_type": "execute_result"
    }
   ],
   "source": [
    "get_meta(path)"
   ]
  },
  {
   "cell_type": "code",
   "execution_count": 229,
   "metadata": {
    "collapsed": false
   },
   "outputs": [
    {
     "data": {
      "text/html": [
       "<div>\n",
       "<table border=\"1\" class=\"dataframe\">\n",
       "  <thead>\n",
       "    <tr style=\"text-align: right;\">\n",
       "      <th></th>\n",
       "      <th>dens</th>\n",
       "      <th>npart</th>\n",
       "      <th>prefix</th>\n",
       "      <th>rad</th>\n",
       "      <th>rn</th>\n",
       "      <th>temp</th>\n",
       "    </tr>\n",
       "    <tr>\n",
       "      <th>index</th>\n",
       "      <th></th>\n",
       "      <th></th>\n",
       "      <th></th>\n",
       "      <th></th>\n",
       "      <th></th>\n",
       "      <th></th>\n",
       "    </tr>\n",
       "  </thead>\n",
       "  <tbody>\n",
       "    <tr>\n",
       "      <th>0</th>\n",
       "      <td>0.025</td>\n",
       "      <td>4000</td>\n",
       "      <td>LJCFS-CYL-NH</td>\n",
       "      <td>4.0</td>\n",
       "      <td>1</td>\n",
       "      <td>0.72871</td>\n",
       "    </tr>\n",
       "    <tr>\n",
       "      <th>1</th>\n",
       "      <td>0.025</td>\n",
       "      <td>4000</td>\n",
       "      <td>LJCFS-CYL-NH</td>\n",
       "      <td>4.0</td>\n",
       "      <td>2</td>\n",
       "      <td>0.72871</td>\n",
       "    </tr>\n",
       "    <tr>\n",
       "      <th>2</th>\n",
       "      <td>0.05</td>\n",
       "      <td>4000</td>\n",
       "      <td>LJCFS-CYL-NH</td>\n",
       "      <td>4.0</td>\n",
       "      <td>1</td>\n",
       "      <td>0.72871</td>\n",
       "    </tr>\n",
       "    <tr>\n",
       "      <th>3</th>\n",
       "      <td>0.05</td>\n",
       "      <td>4000</td>\n",
       "      <td>LJCFS-CYL-NH</td>\n",
       "      <td>4.0</td>\n",
       "      <td>2</td>\n",
       "      <td>0.72871</td>\n",
       "    </tr>\n",
       "    <tr>\n",
       "      <th>4</th>\n",
       "      <td>0.075</td>\n",
       "      <td>4000</td>\n",
       "      <td>LJCFS-CYL-NH</td>\n",
       "      <td>4.0</td>\n",
       "      <td>1</td>\n",
       "      <td>0.72871</td>\n",
       "    </tr>\n",
       "  </tbody>\n",
       "</table>\n",
       "</div>"
      ],
      "text/plain": [
       "        dens npart        prefix  rad rn     temp\n",
       "index                                            \n",
       "0      0.025  4000  LJCFS-CYL-NH  4.0  1  0.72871\n",
       "1      0.025  4000  LJCFS-CYL-NH  4.0  2  0.72871\n",
       "2       0.05  4000  LJCFS-CYL-NH  4.0  1  0.72871\n",
       "3       0.05  4000  LJCFS-CYL-NH  4.0  2  0.72871\n",
       "4      0.075  4000  LJCFS-CYL-NH  4.0  1  0.72871"
      ]
     },
     "execution_count": 229,
     "metadata": {},
     "output_type": "execute_result"
    }
   ],
   "source": [
    "df_meta = df['path'].apply(lambda x: pd.Series(get_meta(x)))\n",
    "df_meta.head()"
   ]
  },
  {
   "cell_type": "code",
   "execution_count": 230,
   "metadata": {
    "collapsed": false
   },
   "outputs": [],
   "source": [
    "df_final = df.join(df_meta)"
   ]
  },
  {
   "cell_type": "code",
   "execution_count": 232,
   "metadata": {
    "collapsed": false
   },
   "outputs": [
    {
     "data": {
      "text/html": [
       "<div>\n",
       "<table border=\"1\" class=\"dataframe\">\n",
       "  <thead>\n",
       "    <tr style=\"text-align: right;\">\n",
       "      <th></th>\n",
       "      <th>dir_code</th>\n",
       "      <th>type</th>\n",
       "      <th>nrec</th>\n",
       "      <th>tmin</th>\n",
       "      <th>D</th>\n",
       "      <th>path</th>\n",
       "      <th>ntime</th>\n",
       "      <th>D_std</th>\n",
       "      <th>dens</th>\n",
       "      <th>npart</th>\n",
       "      <th>prefix</th>\n",
       "      <th>rad</th>\n",
       "      <th>rn</th>\n",
       "      <th>temp</th>\n",
       "    </tr>\n",
       "    <tr>\n",
       "      <th>index</th>\n",
       "      <th></th>\n",
       "      <th></th>\n",
       "      <th></th>\n",
       "      <th></th>\n",
       "      <th></th>\n",
       "      <th></th>\n",
       "      <th></th>\n",
       "      <th></th>\n",
       "      <th></th>\n",
       "      <th></th>\n",
       "      <th></th>\n",
       "      <th></th>\n",
       "      <th></th>\n",
       "      <th></th>\n",
       "    </tr>\n",
       "  </thead>\n",
       "  <tbody>\n",
       "    <tr>\n",
       "      <th>0</th>\n",
       "      <td>0</td>\n",
       "      <td>0</td>\n",
       "      <td>13</td>\n",
       "      <td>1000.0</td>\n",
       "      <td>3.072620</td>\n",
       "      <td>./example_data//NPART4000/Radius4.0/dens0.025/...</td>\n",
       "      <td>9</td>\n",
       "      <td>0.398093</td>\n",
       "      <td>0.025</td>\n",
       "      <td>4000</td>\n",
       "      <td>LJCFS-CYL-NH</td>\n",
       "      <td>4.0</td>\n",
       "      <td>1</td>\n",
       "      <td>0.72871</td>\n",
       "    </tr>\n",
       "    <tr>\n",
       "      <th>1</th>\n",
       "      <td>0</td>\n",
       "      <td>0</td>\n",
       "      <td>13</td>\n",
       "      <td>1000.0</td>\n",
       "      <td>3.123570</td>\n",
       "      <td>./example_data//NPART4000/Radius4.0/dens0.025/...</td>\n",
       "      <td>9</td>\n",
       "      <td>0.503832</td>\n",
       "      <td>0.025</td>\n",
       "      <td>4000</td>\n",
       "      <td>LJCFS-CYL-NH</td>\n",
       "      <td>4.0</td>\n",
       "      <td>2</td>\n",
       "      <td>0.72871</td>\n",
       "    </tr>\n",
       "    <tr>\n",
       "      <th>2</th>\n",
       "      <td>0</td>\n",
       "      <td>0</td>\n",
       "      <td>13</td>\n",
       "      <td>1000.0</td>\n",
       "      <td>1.445670</td>\n",
       "      <td>./example_data//NPART4000/Radius4.0/dens0.05/T...</td>\n",
       "      <td>9</td>\n",
       "      <td>0.024246</td>\n",
       "      <td>0.05</td>\n",
       "      <td>4000</td>\n",
       "      <td>LJCFS-CYL-NH</td>\n",
       "      <td>4.0</td>\n",
       "      <td>1</td>\n",
       "      <td>0.72871</td>\n",
       "    </tr>\n",
       "    <tr>\n",
       "      <th>3</th>\n",
       "      <td>0</td>\n",
       "      <td>0</td>\n",
       "      <td>13</td>\n",
       "      <td>1000.0</td>\n",
       "      <td>1.445833</td>\n",
       "      <td>./example_data//NPART4000/Radius4.0/dens0.05/T...</td>\n",
       "      <td>9</td>\n",
       "      <td>0.025542</td>\n",
       "      <td>0.05</td>\n",
       "      <td>4000</td>\n",
       "      <td>LJCFS-CYL-NH</td>\n",
       "      <td>4.0</td>\n",
       "      <td>2</td>\n",
       "      <td>0.72871</td>\n",
       "    </tr>\n",
       "    <tr>\n",
       "      <th>4</th>\n",
       "      <td>0</td>\n",
       "      <td>0</td>\n",
       "      <td>13</td>\n",
       "      <td>1000.0</td>\n",
       "      <td>0.961382</td>\n",
       "      <td>./example_data//NPART4000/Radius4.0/dens0.075/...</td>\n",
       "      <td>9</td>\n",
       "      <td>0.008758</td>\n",
       "      <td>0.075</td>\n",
       "      <td>4000</td>\n",
       "      <td>LJCFS-CYL-NH</td>\n",
       "      <td>4.0</td>\n",
       "      <td>1</td>\n",
       "      <td>0.72871</td>\n",
       "    </tr>\n",
       "  </tbody>\n",
       "</table>\n",
       "</div>"
      ],
      "text/plain": [
       "       dir_code  type  nrec    tmin         D  \\\n",
       "index                                           \n",
       "0             0     0    13  1000.0  3.072620   \n",
       "1             0     0    13  1000.0  3.123570   \n",
       "2             0     0    13  1000.0  1.445670   \n",
       "3             0     0    13  1000.0  1.445833   \n",
       "4             0     0    13  1000.0  0.961382   \n",
       "\n",
       "                                                    path  ntime     D_std  \\\n",
       "index                                                                       \n",
       "0      ./example_data//NPART4000/Radius4.0/dens0.025/...      9  0.398093   \n",
       "1      ./example_data//NPART4000/Radius4.0/dens0.025/...      9  0.503832   \n",
       "2      ./example_data//NPART4000/Radius4.0/dens0.05/T...      9  0.024246   \n",
       "3      ./example_data//NPART4000/Radius4.0/dens0.05/T...      9  0.025542   \n",
       "4      ./example_data//NPART4000/Radius4.0/dens0.075/...      9  0.008758   \n",
       "\n",
       "        dens npart        prefix  rad rn     temp  \n",
       "index                                              \n",
       "0      0.025  4000  LJCFS-CYL-NH  4.0  1  0.72871  \n",
       "1      0.025  4000  LJCFS-CYL-NH  4.0  2  0.72871  \n",
       "2       0.05  4000  LJCFS-CYL-NH  4.0  1  0.72871  \n",
       "3       0.05  4000  LJCFS-CYL-NH  4.0  2  0.72871  \n",
       "4      0.075  4000  LJCFS-CYL-NH  4.0  1  0.72871  "
      ]
     },
     "execution_count": 232,
     "metadata": {},
     "output_type": "execute_result"
    }
   ],
   "source": [
    "df_final.head()"
   ]
  },
  {
   "cell_type": "code",
   "execution_count": null,
   "metadata": {
    "collapsed": true
   },
   "outputs": [],
   "source": []
  }
 ],
 "metadata": {
  "kernelspec": {
   "display_name": "Python 2",
   "language": "python",
   "name": "python2"
  },
  "language_info": {
   "codemirror_mode": {
    "name": "ipython",
    "version": 2
   },
   "file_extension": ".py",
   "mimetype": "text/x-python",
   "name": "python",
   "nbconvert_exporter": "python",
   "pygments_lexer": "ipython2",
   "version": "2.7.11"
  }
 },
 "nbformat": 4,
 "nbformat_minor": 0
}
