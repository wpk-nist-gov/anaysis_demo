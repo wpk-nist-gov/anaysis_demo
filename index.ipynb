{
 "cells": [
  {
   "cell_type": "code",
   "execution_count": 22,
   "metadata": {
    "collapsed": false,
    "slideshow": {
     "slide_type": "skip"
    }
   },
   "outputs": [],
   "source": [
    "import numpy as np\n",
    "import pandas as pd\n",
    "import MDAnalysis\n",
    "%matplotlib inline\n",
    "import matplotlib.pyplot as plt\n",
    "import nglview as nv"
   ]
  },
  {
   "cell_type": "code",
   "execution_count": 23,
   "metadata": {
    "collapsed": true,
    "slideshow": {
     "slide_type": "skip"
    }
   },
   "outputs": [],
   "source": [
    "import warnings\n",
    "warnings.filterwarnings('ignore')"
   ]
  },
  {
   "cell_type": "code",
   "execution_count": 24,
   "metadata": {
    "collapsed": false,
    "slideshow": {
     "slide_type": "skip"
    }
   },
   "outputs": [],
   "source": [
    "u = MDAnalysis.Universe('./trajectory_analysis/top.psf',\n",
    "                        './trajectory_analysis/example_data/LJCFS-CYL-NH_1_RAD_6.0_TEMP_0.72871_DENS_0.45_NPART_4000_.xtc',\n",
    "                       convert_units=False)"
   ]
  },
  {
   "cell_type": "code",
   "execution_count": 25,
   "metadata": {
    "collapsed": true,
    "slideshow": {
     "slide_type": "skip"
    }
   },
   "outputs": [],
   "source": [
    "import nglview as nv\n",
    "\n",
    "# mask layers\n",
    "r = u.trajectory[0].positions\n",
    "region = u.trajectory[0].dimensions[:3]\n",
    "x = np.sqrt(r[:,0]**2 + r[:,1]**2)\n",
    "m = (x>4.7) \n",
    "w0 = np.where(m)[0]\n",
    "w1 = np.where(~m)[0]\n",
    "\n",
    "s0 = ' '.join(map(str,w0))\n",
    "s1 = ' '.join(map(str,w1))\n",
    "\n",
    "p = u.select_atoms('all')\n",
    "\n",
    "w = nv.show_mdanalysis(p)\n",
    "#w.representations = []\n",
    "w.add_representation('ball+stick', selection=s0, color='red')\n",
    "w.add_representation('ball+stick', selection=s1)"
   ]
  },
  {
   "cell_type": "markdown",
   "metadata": {
    "slideshow": {
     "slide_type": "slide"
    }
   },
   "source": [
    "# A quick introduction to using python for simulation data analysis."
   ]
  },
  {
   "cell_type": "markdown",
   "metadata": {
    "slideshow": {
     "slide_type": "fragment"
    }
   },
   "source": [
    "# Or\n",
    "\n",
    "# Save yourself a headache and stop using Excel"
   ]
  },
  {
   "cell_type": "markdown",
   "metadata": {
    "slideshow": {
     "slide_type": "slide"
    }
   },
   "source": [
    "# The basic problem\n",
    "\n",
    " * Run a parameter sweep of simulations \n",
    " * Accumulate \n",
    " * My case: MD simulation of confined fluid with variable tube-radius $R$, temperature $T$, and fluid density $\\rho$\n",
    " * Goals: accumulate dynamic properties (e.g., self-diffusion), thermodynamics, static-structure, etc for all state points"
   ]
  },
  {
   "cell_type": "code",
   "execution_count": 26,
   "metadata": {
    "collapsed": true,
    "slideshow": {
     "slide_type": "-"
    }
   },
   "outputs": [],
   "source": [
    "w"
   ]
  },
  {
   "cell_type": "markdown",
   "metadata": {},
   "source": [
    "# for example, analyze diffusion files"
   ]
  },
  {
   "cell_type": "code",
   "execution_count": 27,
   "metadata": {
    "collapsed": false,
    "scrolled": true,
    "slideshow": {
     "slide_type": "subslide"
    }
   },
   "outputs": [
    {
     "name": "stdout",
     "output_type": "stream",
     "text": [
      "./example_data/NPART4000/Radius4.0/dens0.025/T0.72871/LJCFS-CYL-NH_1_RAD_4.0_TEMP_0.72871_DENS_0.025_NPART_4000_.diffusion.nc\n",
      "./example_data/NPART4000/Radius4.0/dens0.025/T0.72871/LJCFS-CYL-NH_2_RAD_4.0_TEMP_0.72871_DENS_0.025_NPART_4000_.diffusion.nc\n",
      "./example_data/NPART4000/Radius4.0/dens0.05/T0.72871/LJCFS-CYL-NH_1_RAD_4.0_TEMP_0.72871_DENS_0.05_NPART_4000_.diffusion.nc\n",
      "./example_data/NPART4000/Radius4.0/dens0.05/T0.72871/LJCFS-CYL-NH_2_RAD_4.0_TEMP_0.72871_DENS_0.05_NPART_4000_.diffusion.nc\n",
      "./example_data/NPART4000/Radius4.0/dens0.075/T0.72871/LJCFS-CYL-NH_1_RAD_4.0_TEMP_0.72871_DENS_0.075_NPART_4000_.diffusion.nc\n",
      "./example_data/NPART4000/Radius4.0/dens0.075/T0.72871/LJCFS-CYL-NH_2_RAD_4.0_TEMP_0.72871_DENS_0.075_NPART_4000_.diffusion.nc\n",
      "./example_data/NPART4000/Radius4.0/dens0.1/T0.72871/LJCFS-CYL-NH_1_RAD_4.0_TEMP_0.72871_DENS_0.1_NPART_4000_.diffusion.nc\n",
      "./example_data/NPART4000/Radius4.0/dens0.1/T0.72871/LJCFS-CYL-NH_2_RAD_4.0_TEMP_0.72871_DENS_0.1_NPART_4000_.diffusion.nc\n"
     ]
    }
   ],
   "source": [
    "%%bash\n",
    "find ./example_data/NPART4000 -name '*.diffusion.nc' | head -n 8"
   ]
  },
  {
   "cell_type": "markdown",
   "metadata": {
    "slideshow": {
     "slide_type": "subslide"
    }
   },
   "source": [
    "# How I used to do this\n",
    "\n",
    " * Scripts (bash/awk) to collect data\n",
    " * Scripts/Excel to analyze data\n",
    " * Scripts to generate plots (xmgrace/gnuplot)\n",
    " "
   ]
  },
  {
   "cell_type": "markdown",
   "metadata": {
    "slideshow": {
     "slide_type": "fragment"
    }
   },
   "source": [
    "## There's nothing wrong with this, but...\n",
    " \n",
    " * An increasingly larger pain to keep track of everything\n",
    "\n",
    " * What I really wanted was a unified approach to collecting/analyzing/plotting data\n",
    " \n",
    " * Python (and it's many libraries) does all the things!\n",
    " "
   ]
  },
  {
   "cell_type": "markdown",
   "metadata": {
    "slideshow": {
     "slide_type": "fragment"
    }
   },
   "source": [
    " * Note: R is another good canidate. Great for stats.\n",
    " \n",
    " * Same for matlab.  Great for linear algebra.\n"
   ]
  },
  {
   "cell_type": "markdown",
   "metadata": {
    "slideshow": {
     "slide_type": "slide"
    }
   },
   "source": [
    "# Getting things installed\n",
    "\n",
    " * The power of python is the extension libraries\n",
    " * These used to be a pain to install\n",
    " * Thankfully, there are now package managers like:\n",
    "   - [Anaconda](https://www.continuum.io/downloads)\n",
    "   - Enthought\n",
    "   - Python(x,y)\n",
    "   - WinPython\n",
    "   - Pyzo\n",
    "\n",
    " * My goto is Anaconda\n",
    "  - Free\n",
    "  - Cross Platform\n",
    "  - Very widely used (so good support)\n",
    "  - Free version uses MKL! "
   ]
  },
  {
   "cell_type": "markdown",
   "metadata": {
    "slideshow": {
     "slide_type": "notes"
    }
   },
   "source": [
    "conda create --name demo python=2.7\n",
    "source activate demo\n",
    "conda install numpy"
   ]
  },
  {
   "cell_type": "markdown",
   "metadata": {
    "slideshow": {
     "slide_type": "subslide"
    }
   },
   "source": [
    "# Useful libraries\n",
    "\n",
    " * [scipy stack](https://www.scipy.org/stackspec.html)\n",
    "    * [jupyter](http://jupyter.org/)\n",
    "    * [numpy](http://www.numpy.org/)\n",
    "    * [scipy](https://www.scipy.org/)\n",
    "    \n",
    "    * [pandas](http://pandas.pydata.org/)\n",
    "    * [matplotlib](http://matplotlib.org/)\n",
    "        \n",
    "    * [xarray](http://xarray.pydata.org/en/stable/) [very new, but very cool]    \n",
    "    \n",
    " * Trajectory analysis\n",
    "   \n",
    "    * [MDAnalysis](http://www.mdanalysis.org/)\n",
    "    * [mdtraj](http://mdtraj.org/1.7.2/)\n"
   ]
  },
  {
   "cell_type": "markdown",
   "metadata": {
    "slideshow": {
     "slide_type": "subslide"
    }
   },
   "source": [
    "# Interacting with python\n",
    "\n",
    " * Scripts are great, and still my goto\n",
    " * But, science is inherently interactive\n",
    " * Wanted to stop re-running scripts every time I wanted to investigate something in a slightly different way\n",
    " * Enter the [jupyter notebook!](./new_blank.ipynb)"
   ]
  },
  {
   "cell_type": "markdown",
   "metadata": {
    "slideshow": {
     "slide_type": "fragment"
    }
   },
   "source": [
    " * This presentation was made in the notebook.\n",
    " * Note just python. Kernals for R, matlab, octave, julia, bash ..."
   ]
  },
  {
   "cell_type": "markdown",
   "metadata": {
    "slideshow": {
     "slide_type": "subslide"
    }
   },
   "source": [
    "# Lets do some analysis!\n",
    "\n",
    " * [pandas demo](./pandas_demo.ipynb)\n",
    "\n",
    " * [calculate diffusion](./get_diffusion.ipynb)\n",
    " \n",
    " * [Trajectory analysis](./trajectory_analysis/trajectory_analysis.ipynb)"
   ]
  },
  {
   "cell_type": "markdown",
   "metadata": {},
   "source": [
    "# other topics\n",
    " * [multiprocessing](./multiprocessing/demo.ipynb)\n",
    " "
   ]
  },
  {
   "cell_type": "markdown",
   "metadata": {},
   "source": [
    "# other other\n",
    "* [click](http://click.pocoo.org/5/)\n",
    "* [pytest](http://pytest.org/latest/)\n",
    " "
   ]
  },
  {
   "cell_type": "code",
   "execution_count": null,
   "metadata": {
    "collapsed": true
   },
   "outputs": [],
   "source": []
  }
 ],
 "metadata": {
  "celltoolbar": "Slideshow",
  "kernelspec": {
   "display_name": "Python 2",
   "language": "python",
   "name": "python2"
  },
  "language_info": {
   "codemirror_mode": {
    "name": "ipython",
    "version": 2
   },
   "file_extension": ".py",
   "mimetype": "text/x-python",
   "name": "python",
   "nbconvert_exporter": "python",
   "pygments_lexer": "ipython2",
   "version": "2.7.11"
  }
 },
 "nbformat": 4,
 "nbformat_minor": 0
}
