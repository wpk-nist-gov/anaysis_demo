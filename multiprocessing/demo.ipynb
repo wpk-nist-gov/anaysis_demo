{
 "cells": [
  {
   "cell_type": "code",
   "execution_count": 1,
   "metadata": {
    "collapsed": true
   },
   "outputs": [],
   "source": [
    "import multiprocessing as mp\n",
    "import time\n",
    "import os"
   ]
  },
  {
   "cell_type": "code",
   "execution_count": 2,
   "metadata": {
    "collapsed": true
   },
   "outputs": [],
   "source": [
    "def worker(taskID,sleep):\n",
    "    print 'performing', taskID, 'on',os.getpid()\n",
    "    time.sleep(sleep)\n",
    "    print 'done', taskID, 'on', os.getpid()"
   ]
  },
  {
   "cell_type": "code",
   "execution_count": 3,
   "metadata": {
    "collapsed": false
   },
   "outputs": [],
   "source": [
    "def run_all(cmd_list, count=None):\n",
    "    pool = mp.Pool(processes=count)\n",
    "    r = [pool.apply_async(worker, args=cmd) for cmd in cmd_list ]\n",
    "\n",
    "    outputs = [p.get() for p in r]\n",
    "\n",
    "    pool.close()\n",
    "    pool.join()\n",
    "\n",
    "    return outputs"
   ]
  },
  {
   "cell_type": "code",
   "execution_count": 4,
   "metadata": {
    "collapsed": true
   },
   "outputs": [],
   "source": [
    "import random"
   ]
  },
  {
   "cell_type": "code",
   "execution_count": 5,
   "metadata": {
    "collapsed": false
   },
   "outputs": [
    {
     "name": "stdout",
     "output_type": "stream",
     "text": [
      "[(0, 0.9437672745249235), (1, 0.9016366684112217), (2, 0.7990332236761681), (3, 0.6531731996328568), (4, 0.18064180781835537), (5, 0.7335106214598747), (6, 0.6358225406856975), (7, 0.3364711238491269), (8, 0.9550647140675604), (9, 0.20745195577547815), (10, 0.39560762749476197), (11, 0.8522175043100745), (12, 0.18783287611531485), (13, 0.4650863510651516), (14, 0.43971714830970765), (15, 0.42682819720541665), (16, 0.6109877630052595), (17, 0.42403678473577), (18, 0.38244005374010037), (19, 0.5797508543417472)]\n"
     ]
    }
   ],
   "source": [
    "cmd_list = []\n",
    "for i in range(20):\n",
    "    cmd_list.append((i, random.random()))\n",
    "\n",
    "print cmd_list"
   ]
  },
  {
   "cell_type": "code",
   "execution_count": 6,
   "metadata": {
    "collapsed": false
   },
   "outputs": [
    {
     "name": "stdout",
     "output_type": "stream",
     "text": [
      "performing 0 on 58536\n",
      "done 0 on 58536\n",
      "performing 1 on 58536\n",
      "done 1 on 58536\n",
      "performing 2 on 58536\n",
      "done 2 on 58536\n",
      "performing 3 on 58536\n",
      "done 3 on 58536\n",
      "performing 4 on 58536\n",
      "done 4 on 58536\n",
      "performing 5 on 58536\n",
      "done 5 on 58536\n",
      "performing 6 on 58536\n",
      "done 6 on 58536\n",
      "performing 7 on 58536\n",
      "done 7 on 58536\n",
      "performing 8 on 58536\n",
      "done 8 on 58536\n",
      "performing 9 on 58536\n",
      "done 9 on 58536\n",
      "performing 10 on 58536\n",
      "done 10 on 58536\n",
      "performing 11 on 58536\n",
      "done 11 on 58536\n",
      "performing 12 on 58536\n",
      "done 12 on 58536\n",
      "performing 13 on 58536\n",
      "done 13 on 58536\n",
      "performing 14 on 58536\n",
      "done 14 on 58536\n",
      "performing 15 on 58536\n",
      "done 15 on 58536\n",
      "performing 16 on 58536\n",
      "done 16 on 58536\n",
      "performing 17 on 58536\n",
      "done 17 on 58536\n",
      "performing 18 on 58536\n",
      "done 18 on 58536\n",
      "performing 19 on 58536\n",
      "done 19 on 58536\n"
     ]
    }
   ],
   "source": [
    "#run in serial\n",
    "_ = run_all(cmd_list,count=1)"
   ]
  },
  {
   "cell_type": "code",
   "execution_count": 7,
   "metadata": {
    "collapsed": false
   },
   "outputs": [
    {
     "name": "stdout",
     "output_type": "stream",
     "text": [
      "performing 2 on 58548\n",
      "performing 7 on 58553\n",
      "performing 3 on 58549\n",
      "performing 1 on 58547\n",
      "performing 0 on 58546\n",
      "performing 4 on 58550\n",
      "performing 5 on 58551\n",
      "performing 6 on 58552\n",
      "done 4 on 58550\n",
      "performing 8 on 58550\n",
      "done 7 on 58553\n",
      "performing 9 on 58553\n",
      "done 9 on 58553\n",
      "performing 10 on 58553\n",
      "done 6 on 58552\n",
      "performing 11 on 58552\n",
      "done 3 on 58549\n",
      "performing 12 on 58549\n",
      "done 5 on 58551\n",
      "performing 13 on 58551\n",
      "done 2 on 58548\n",
      "performing 14 on 58548\n",
      "done 12 on 58549\n",
      "performing 15 on 58549\n",
      "done 1 on 58547\n",
      "performing 16 on 58547\n",
      "done 0 on 58546\n",
      "performing 17 on 58546\n",
      "done 10 on 58553\n",
      "performing 18 on 58553\n",
      "done 8 on 58550\n",
      "performing 19 on 58550\n",
      "done 13 on 58551\n",
      "done 14 on 58548\n",
      "done 15 on 58549\n",
      "done 18 on 58553\n",
      "done 17 on 58546\n",
      "done 11 on 58552\n",
      "done 16 on 58547\n",
      "done 19 on 58550\n"
     ]
    }
   ],
   "source": [
    "#run in parallel\n",
    "_ = run_all(cmd_list, count=8)"
   ]
  },
  {
   "cell_type": "code",
   "execution_count": null,
   "metadata": {
    "collapsed": true
   },
   "outputs": [],
   "source": []
  }
 ],
 "metadata": {
  "kernelspec": {
   "display_name": "Python 2",
   "language": "python",
   "name": "python2"
  },
  "language_info": {
   "codemirror_mode": {
    "name": "ipython",
    "version": 2
   },
   "file_extension": ".py",
   "mimetype": "text/x-python",
   "name": "python",
   "nbconvert_exporter": "python",
   "pygments_lexer": "ipython2",
   "version": "2.7.11"
  }
 },
 "nbformat": 4,
 "nbformat_minor": 0
}
