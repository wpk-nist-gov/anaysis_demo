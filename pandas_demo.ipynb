{
 "cells": [
  {
   "cell_type": "markdown",
   "metadata": {},
   "source": [
    "# pandas primer\n",
    "\n",
    " * Think of pandas as a cross between Excel and sql\n",
    " * Easy to work with, but very powerful"
   ]
  },
  {
   "cell_type": "markdown",
   "metadata": {},
   "source": [
    "# Simple example\n",
    "\n",
    " * Assume have accumulated self-diffusion $D_z$ and thermodynamic data as a function of density, temperature, and pore-radius in separate files.\n",
    " * We want to look at the self-diffusion as a funciton of "
   ]
  },
  {
   "cell_type": "code",
   "execution_count": 122,
   "metadata": {
    "collapsed": false
   },
   "outputs": [
    {
     "name": "stdout",
     "output_type": "stream",
     "text": [
      "==> diffusion.csv <==\n",
      "dens,temp_r,rad_r,DZ\n",
      "0.025,0.73,2.0,26.6361217499\n",
      "0.025,0.73,2.0,25.7149219513\n",
      "0.025,0.73,2.0,27.0507850647\n",
      "0.025,0.85,2.0,29.7969245911\n",
      "0.025,0.85,2.0,29.2770614624\n",
      "0.025,0.85,2.0,28.1880435944\n",
      "0.025,1.5,2.0,34.8119239807\n",
      "0.025,1.5,2.0,35.7821273804\n",
      "0.025,1.5,2.0,34.0112228394\n",
      "\n",
      "==> thermo.csv <==\n",
      "dens,temp_r,rad_r,E,KE,PE,PV_N_x1,PV_N_x3\n",
      "0.025,0.73,2.0,-7.84702570888,1.09298441711,-8.94001012599,-1.73145027458,0.65628074207\n",
      "0.025,0.73,2.0,-7.84705275737,1.0929784597,-8.94003121707,-1.73198699758,0.656690604004\n",
      "0.025,0.73,2.0,-7.84547815455,1.09296487039,-8.93844302494,-1.73072683505,0.65574532825\n",
      "0.025,0.85,2.0,-7.55179397757,1.27490447778,-8.82669845536,-1.59839028568,0.798858742539\n",
      "0.025,0.85,2.0,-7.55134252301,1.27490495201,-8.82624747502,-1.59678004142,0.796969224977\n",
      "0.025,0.85,2.0,-7.55218539234,1.27489256317,-8.82707795551,-1.59792053774,0.798123177605\n",
      "0.025,1.5,2.0,-6.03267459047,2.24978414157,-8.28245873204,-0.860313721612,1.51555529871\n",
      "0.025,1.5,2.0,-6.03105715956,2.24982352777,-8.28088068733,-0.862348815201,1.5167304408\n",
      "0.025,1.5,2.0,-6.03319322749,2.24979055887,-8.28298378636,-0.862674461874,1.51857632649\n"
     ]
    }
   ],
   "source": [
    "%%bash\n",
    "head -n 10 diffusion.csv thermo.csv\n",
    "\n"
   ]
  },
  {
   "cell_type": "code",
   "execution_count": 123,
   "metadata": {
    "collapsed": true
   },
   "outputs": [],
   "source": [
    "import pandas as pd\n",
    "import numpy as np"
   ]
  },
  {
   "cell_type": "markdown",
   "metadata": {},
   "source": [
    "# Reading in data\n",
    "\n",
    " * pandas play's very well with text data"
   ]
  },
  {
   "cell_type": "code",
   "execution_count": 124,
   "metadata": {
    "collapsed": false
   },
   "outputs": [],
   "source": [
    "df = pd.DataFrame.from_csv('./diffusion.csv',index_col=None)"
   ]
  },
  {
   "cell_type": "code",
   "execution_count": 125,
   "metadata": {
    "collapsed": false
   },
   "outputs": [
    {
     "data": {
      "text/html": [
       "<div>\n",
       "<table border=\"1\" class=\"dataframe\">\n",
       "  <thead>\n",
       "    <tr style=\"text-align: right;\">\n",
       "      <th></th>\n",
       "      <th>dens</th>\n",
       "      <th>temp_r</th>\n",
       "      <th>rad_r</th>\n",
       "      <th>DZ</th>\n",
       "    </tr>\n",
       "  </thead>\n",
       "  <tbody>\n",
       "    <tr>\n",
       "      <th>0</th>\n",
       "      <td>0.025</td>\n",
       "      <td>0.73</td>\n",
       "      <td>2.0</td>\n",
       "      <td>26.636122</td>\n",
       "    </tr>\n",
       "    <tr>\n",
       "      <th>1</th>\n",
       "      <td>0.025</td>\n",
       "      <td>0.73</td>\n",
       "      <td>2.0</td>\n",
       "      <td>25.714922</td>\n",
       "    </tr>\n",
       "    <tr>\n",
       "      <th>2</th>\n",
       "      <td>0.025</td>\n",
       "      <td>0.73</td>\n",
       "      <td>2.0</td>\n",
       "      <td>27.050785</td>\n",
       "    </tr>\n",
       "    <tr>\n",
       "      <th>3</th>\n",
       "      <td>0.025</td>\n",
       "      <td>0.85</td>\n",
       "      <td>2.0</td>\n",
       "      <td>29.796925</td>\n",
       "    </tr>\n",
       "    <tr>\n",
       "      <th>4</th>\n",
       "      <td>0.025</td>\n",
       "      <td>0.85</td>\n",
       "      <td>2.0</td>\n",
       "      <td>29.277061</td>\n",
       "    </tr>\n",
       "  </tbody>\n",
       "</table>\n",
       "</div>"
      ],
      "text/plain": [
       "    dens  temp_r  rad_r         DZ\n",
       "0  0.025    0.73    2.0  26.636122\n",
       "1  0.025    0.73    2.0  25.714922\n",
       "2  0.025    0.73    2.0  27.050785\n",
       "3  0.025    0.85    2.0  29.796925\n",
       "4  0.025    0.85    2.0  29.277061"
      ]
     },
     "execution_count": 125,
     "metadata": {},
     "output_type": "execute_result"
    }
   ],
   "source": [
    "df.head()"
   ]
  },
  {
   "cell_type": "code",
   "execution_count": 126,
   "metadata": {
    "collapsed": false
   },
   "outputs": [
    {
     "data": {
      "text/plain": [
       "29.796924591100002"
      ]
     },
     "execution_count": 126,
     "metadata": {},
     "output_type": "execute_result"
    }
   ],
   "source": [
    "df.values[3,3]"
   ]
  },
  {
   "cell_type": "markdown",
   "metadata": {},
   "source": [
    "# core data types\n",
    "\n",
    " * DataFrame: collection of rows and columns\n",
    " * Series: single row or column\n",
    " * important features: mixed data types (ints, floats, strings)\n",
    " * Database like functionality"
   ]
  },
  {
   "cell_type": "code",
   "execution_count": 127,
   "metadata": {
    "collapsed": false
   },
   "outputs": [
    {
     "data": {
      "text/html": [
       "<div>\n",
       "<table border=\"1\" class=\"dataframe\">\n",
       "  <thead>\n",
       "    <tr style=\"text-align: right;\">\n",
       "      <th></th>\n",
       "      <th>dens</th>\n",
       "      <th>temp_r</th>\n",
       "      <th>rad_r</th>\n",
       "      <th>DZ</th>\n",
       "    </tr>\n",
       "  </thead>\n",
       "  <tbody>\n",
       "    <tr>\n",
       "      <th>0</th>\n",
       "      <td>0.025</td>\n",
       "      <td>0.73</td>\n",
       "      <td>2.0</td>\n",
       "      <td>26.636122</td>\n",
       "    </tr>\n",
       "    <tr>\n",
       "      <th>1</th>\n",
       "      <td>0.025</td>\n",
       "      <td>0.73</td>\n",
       "      <td>2.0</td>\n",
       "      <td>25.714922</td>\n",
       "    </tr>\n",
       "    <tr>\n",
       "      <th>2</th>\n",
       "      <td>0.025</td>\n",
       "      <td>0.73</td>\n",
       "      <td>2.0</td>\n",
       "      <td>27.050785</td>\n",
       "    </tr>\n",
       "    <tr>\n",
       "      <th>3</th>\n",
       "      <td>0.025</td>\n",
       "      <td>0.85</td>\n",
       "      <td>2.0</td>\n",
       "      <td>29.796925</td>\n",
       "    </tr>\n",
       "    <tr>\n",
       "      <th>4</th>\n",
       "      <td>0.025</td>\n",
       "      <td>0.85</td>\n",
       "      <td>2.0</td>\n",
       "      <td>29.277061</td>\n",
       "    </tr>\n",
       "  </tbody>\n",
       "</table>\n",
       "</div>"
      ],
      "text/plain": [
       "    dens  temp_r  rad_r         DZ\n",
       "0  0.025    0.73    2.0  26.636122\n",
       "1  0.025    0.73    2.0  25.714922\n",
       "2  0.025    0.73    2.0  27.050785\n",
       "3  0.025    0.85    2.0  29.796925\n",
       "4  0.025    0.85    2.0  29.277061"
      ]
     },
     "execution_count": 127,
     "metadata": {},
     "output_type": "execute_result"
    }
   ],
   "source": [
    "df.head()"
   ]
  },
  {
   "cell_type": "code",
   "execution_count": 128,
   "metadata": {
    "collapsed": false
   },
   "outputs": [
    {
     "name": "stdout",
     "output_type": "stream",
     "text": [
      "<class 'pandas.core.frame.DataFrame'>\n"
     ]
    }
   ],
   "source": [
    "print type(df)"
   ]
  },
  {
   "cell_type": "markdown",
   "metadata": {
    "collapsed": false
   },
   "source": [
    "### single row is a series"
   ]
  },
  {
   "cell_type": "code",
   "execution_count": 129,
   "metadata": {
    "collapsed": false
   },
   "outputs": [
    {
     "data": {
      "text/html": [
       "<div>\n",
       "<table border=\"1\" class=\"dataframe\">\n",
       "  <thead>\n",
       "    <tr style=\"text-align: right;\">\n",
       "      <th></th>\n",
       "      <th>dens</th>\n",
       "      <th>temp_r</th>\n",
       "      <th>rad_r</th>\n",
       "      <th>DZ</th>\n",
       "    </tr>\n",
       "  </thead>\n",
       "  <tbody>\n",
       "    <tr>\n",
       "      <th>0</th>\n",
       "      <td>0.025</td>\n",
       "      <td>0.73</td>\n",
       "      <td>2.0</td>\n",
       "      <td>26.636122</td>\n",
       "    </tr>\n",
       "    <tr>\n",
       "      <th>1</th>\n",
       "      <td>0.025</td>\n",
       "      <td>0.73</td>\n",
       "      <td>2.0</td>\n",
       "      <td>25.714922</td>\n",
       "    </tr>\n",
       "    <tr>\n",
       "      <th>2</th>\n",
       "      <td>0.025</td>\n",
       "      <td>0.73</td>\n",
       "      <td>2.0</td>\n",
       "      <td>27.050785</td>\n",
       "    </tr>\n",
       "    <tr>\n",
       "      <th>3</th>\n",
       "      <td>0.025</td>\n",
       "      <td>0.85</td>\n",
       "      <td>2.0</td>\n",
       "      <td>29.796925</td>\n",
       "    </tr>\n",
       "    <tr>\n",
       "      <th>4</th>\n",
       "      <td>0.025</td>\n",
       "      <td>0.85</td>\n",
       "      <td>2.0</td>\n",
       "      <td>29.277061</td>\n",
       "    </tr>\n",
       "  </tbody>\n",
       "</table>\n",
       "</div>"
      ],
      "text/plain": [
       "    dens  temp_r  rad_r         DZ\n",
       "0  0.025    0.73    2.0  26.636122\n",
       "1  0.025    0.73    2.0  25.714922\n",
       "2  0.025    0.73    2.0  27.050785\n",
       "3  0.025    0.85    2.0  29.796925\n",
       "4  0.025    0.85    2.0  29.277061"
      ]
     },
     "execution_count": 129,
     "metadata": {},
     "output_type": "execute_result"
    }
   ],
   "source": [
    "df.head()"
   ]
  },
  {
   "cell_type": "code",
   "execution_count": 130,
   "metadata": {
    "collapsed": false
   },
   "outputs": [
    {
     "data": {
      "text/plain": [
       "dens       0.025000\n",
       "temp_r     0.730000\n",
       "rad_r      2.000000\n",
       "DZ        26.636122\n",
       "Name: 0, dtype: float64"
      ]
     },
     "execution_count": 130,
     "metadata": {},
     "output_type": "execute_result"
    }
   ],
   "source": [
    "df.loc[0]"
   ]
  },
  {
   "cell_type": "markdown",
   "metadata": {},
   "source": [
    "Every row has an index.  Although this seems unneccary, this is where the power of pandas comes in (merges, joins, groupby, etc)"
   ]
  },
  {
   "cell_type": "markdown",
   "metadata": {},
   "source": [
    "# accessing data"
   ]
  },
  {
   "cell_type": "code",
   "execution_count": 131,
   "metadata": {
    "collapsed": false
   },
   "outputs": [
    {
     "data": {
      "text/html": [
       "<div>\n",
       "<table border=\"1\" class=\"dataframe\">\n",
       "  <thead>\n",
       "    <tr style=\"text-align: right;\">\n",
       "      <th></th>\n",
       "      <th>dens</th>\n",
       "      <th>temp_r</th>\n",
       "      <th>rad_r</th>\n",
       "      <th>DZ</th>\n",
       "    </tr>\n",
       "  </thead>\n",
       "  <tbody>\n",
       "    <tr>\n",
       "      <th>0</th>\n",
       "      <td>0.025</td>\n",
       "      <td>0.73</td>\n",
       "      <td>2.0</td>\n",
       "      <td>26.636122</td>\n",
       "    </tr>\n",
       "    <tr>\n",
       "      <th>1</th>\n",
       "      <td>0.025</td>\n",
       "      <td>0.73</td>\n",
       "      <td>2.0</td>\n",
       "      <td>25.714922</td>\n",
       "    </tr>\n",
       "    <tr>\n",
       "      <th>2</th>\n",
       "      <td>0.025</td>\n",
       "      <td>0.73</td>\n",
       "      <td>2.0</td>\n",
       "      <td>27.050785</td>\n",
       "    </tr>\n",
       "    <tr>\n",
       "      <th>3</th>\n",
       "      <td>0.025</td>\n",
       "      <td>0.85</td>\n",
       "      <td>2.0</td>\n",
       "      <td>29.796925</td>\n",
       "    </tr>\n",
       "    <tr>\n",
       "      <th>4</th>\n",
       "      <td>0.025</td>\n",
       "      <td>0.85</td>\n",
       "      <td>2.0</td>\n",
       "      <td>29.277061</td>\n",
       "    </tr>\n",
       "  </tbody>\n",
       "</table>\n",
       "</div>"
      ],
      "text/plain": [
       "    dens  temp_r  rad_r         DZ\n",
       "0  0.025    0.73    2.0  26.636122\n",
       "1  0.025    0.73    2.0  25.714922\n",
       "2  0.025    0.73    2.0  27.050785\n",
       "3  0.025    0.85    2.0  29.796925\n",
       "4  0.025    0.85    2.0  29.277061"
      ]
     },
     "execution_count": 131,
     "metadata": {},
     "output_type": "execute_result"
    }
   ],
   "source": [
    "df.head()"
   ]
  },
  {
   "cell_type": "code",
   "execution_count": 132,
   "metadata": {
    "collapsed": false
   },
   "outputs": [
    {
     "data": {
      "text/plain": [
       "dens       0.025000\n",
       "temp_r     0.850000\n",
       "rad_r      2.000000\n",
       "DZ        29.277061\n",
       "Name: 4, dtype: float64"
      ]
     },
     "execution_count": 132,
     "metadata": {},
     "output_type": "execute_result"
    }
   ],
   "source": [
    "# by row\n",
    "df.loc[4] # by label"
   ]
  },
  {
   "cell_type": "code",
   "execution_count": 133,
   "metadata": {
    "collapsed": false
   },
   "outputs": [
    {
     "data": {
      "text/plain": [
       "dens       0.025000\n",
       "temp_r     0.850000\n",
       "rad_r      2.000000\n",
       "DZ        29.277061\n",
       "Name: 4, dtype: float64"
      ]
     },
     "execution_count": 133,
     "metadata": {},
     "output_type": "execute_result"
    }
   ],
   "source": [
    "df.iloc[4] # by position"
   ]
  },
  {
   "cell_type": "code",
   "execution_count": 134,
   "metadata": {
    "collapsed": false
   },
   "outputs": [
    {
     "data": {
      "text/html": [
       "<div>\n",
       "<table border=\"1\" class=\"dataframe\">\n",
       "  <thead>\n",
       "    <tr style=\"text-align: right;\">\n",
       "      <th></th>\n",
       "      <th>dens</th>\n",
       "      <th>temp_r</th>\n",
       "      <th>rad_r</th>\n",
       "      <th>DZ</th>\n",
       "    </tr>\n",
       "  </thead>\n",
       "  <tbody>\n",
       "    <tr>\n",
       "      <th>1</th>\n",
       "      <td>0.025</td>\n",
       "      <td>0.73</td>\n",
       "      <td>2.0</td>\n",
       "      <td>25.714922</td>\n",
       "    </tr>\n",
       "    <tr>\n",
       "      <th>2</th>\n",
       "      <td>0.025</td>\n",
       "      <td>0.73</td>\n",
       "      <td>2.0</td>\n",
       "      <td>27.050785</td>\n",
       "    </tr>\n",
       "    <tr>\n",
       "      <th>3</th>\n",
       "      <td>0.025</td>\n",
       "      <td>0.85</td>\n",
       "      <td>2.0</td>\n",
       "      <td>29.796925</td>\n",
       "    </tr>\n",
       "  </tbody>\n",
       "</table>\n",
       "</div>"
      ],
      "text/plain": [
       "    dens  temp_r  rad_r         DZ\n",
       "1  0.025    0.73    2.0  25.714922\n",
       "2  0.025    0.73    2.0  27.050785\n",
       "3  0.025    0.85    2.0  29.796925"
      ]
     },
     "execution_count": 134,
     "metadata": {},
     "output_type": "execute_result"
    }
   ],
   "source": [
    "# slices\n",
    "df.loc[1:3]"
   ]
  },
  {
   "cell_type": "code",
   "execution_count": 135,
   "metadata": {
    "collapsed": false
   },
   "outputs": [
    {
     "data": {
      "text/plain": [
       "0    26.636122\n",
       "1    25.714922\n",
       "2    27.050785\n",
       "3    29.796925\n",
       "4    29.277061\n",
       "Name: DZ, dtype: float64"
      ]
     },
     "execution_count": 135,
     "metadata": {},
     "output_type": "execute_result"
    }
   ],
   "source": [
    "#accessing columns\n",
    "df['DZ'].head()"
   ]
  },
  {
   "cell_type": "markdown",
   "metadata": {},
   "source": [
    "# operations\n",
    "\n",
    " * calculate scaled diffusion $D_{scaled} = D/\\sqrt{k_B T}$"
   ]
  },
  {
   "cell_type": "code",
   "execution_count": 136,
   "metadata": {
    "collapsed": false
   },
   "outputs": [
    {
     "data": {
      "text/plain": [
       "0    31.175222\n",
       "1    30.097040\n",
       "2    31.660549\n",
       "3    32.319302\n",
       "4    31.755432\n",
       "dtype: float64"
      ]
     },
     "execution_count": 136,
     "metadata": {},
     "output_type": "execute_result"
    }
   ],
   "source": [
    "(df.DZ / np.sqrt(df.temp_r)).head()"
   ]
  },
  {
   "cell_type": "markdown",
   "metadata": {},
   "source": [
    "Assign to value"
   ]
  },
  {
   "cell_type": "code",
   "execution_count": 137,
   "metadata": {
    "collapsed": false
   },
   "outputs": [
    {
     "data": {
      "text/html": [
       "<div>\n",
       "<table border=\"1\" class=\"dataframe\">\n",
       "  <thead>\n",
       "    <tr style=\"text-align: right;\">\n",
       "      <th></th>\n",
       "      <th>dens</th>\n",
       "      <th>temp_r</th>\n",
       "      <th>rad_r</th>\n",
       "      <th>DZ</th>\n",
       "      <th>DZ_scaled</th>\n",
       "    </tr>\n",
       "  </thead>\n",
       "  <tbody>\n",
       "    <tr>\n",
       "      <th>0</th>\n",
       "      <td>0.025</td>\n",
       "      <td>0.73</td>\n",
       "      <td>2.0</td>\n",
       "      <td>26.636122</td>\n",
       "      <td>31.175222</td>\n",
       "    </tr>\n",
       "    <tr>\n",
       "      <th>1</th>\n",
       "      <td>0.025</td>\n",
       "      <td>0.73</td>\n",
       "      <td>2.0</td>\n",
       "      <td>25.714922</td>\n",
       "      <td>30.097040</td>\n",
       "    </tr>\n",
       "    <tr>\n",
       "      <th>2</th>\n",
       "      <td>0.025</td>\n",
       "      <td>0.73</td>\n",
       "      <td>2.0</td>\n",
       "      <td>27.050785</td>\n",
       "      <td>31.660549</td>\n",
       "    </tr>\n",
       "    <tr>\n",
       "      <th>3</th>\n",
       "      <td>0.025</td>\n",
       "      <td>0.85</td>\n",
       "      <td>2.0</td>\n",
       "      <td>29.796925</td>\n",
       "      <td>32.319302</td>\n",
       "    </tr>\n",
       "    <tr>\n",
       "      <th>4</th>\n",
       "      <td>0.025</td>\n",
       "      <td>0.85</td>\n",
       "      <td>2.0</td>\n",
       "      <td>29.277061</td>\n",
       "      <td>31.755432</td>\n",
       "    </tr>\n",
       "  </tbody>\n",
       "</table>\n",
       "</div>"
      ],
      "text/plain": [
       "    dens  temp_r  rad_r         DZ  DZ_scaled\n",
       "0  0.025    0.73    2.0  26.636122  31.175222\n",
       "1  0.025    0.73    2.0  25.714922  30.097040\n",
       "2  0.025    0.73    2.0  27.050785  31.660549\n",
       "3  0.025    0.85    2.0  29.796925  32.319302\n",
       "4  0.025    0.85    2.0  29.277061  31.755432"
      ]
     },
     "execution_count": 137,
     "metadata": {},
     "output_type": "execute_result"
    }
   ],
   "source": [
    "df.assign(DZ_scaled=df.DZ/np.sqrt(df.temp_r)).head()"
   ]
  },
  {
   "cell_type": "markdown",
   "metadata": {},
   "source": [
    "# query data"
   ]
  },
  {
   "cell_type": "code",
   "execution_count": 138,
   "metadata": {
    "collapsed": false
   },
   "outputs": [
    {
     "data": {
      "text/html": [
       "<div>\n",
       "<table border=\"1\" class=\"dataframe\">\n",
       "  <thead>\n",
       "    <tr style=\"text-align: right;\">\n",
       "      <th></th>\n",
       "      <th>dens</th>\n",
       "      <th>temp_r</th>\n",
       "      <th>rad_r</th>\n",
       "      <th>DZ</th>\n",
       "    </tr>\n",
       "  </thead>\n",
       "  <tbody>\n",
       "    <tr>\n",
       "      <th>27</th>\n",
       "      <td>0.1</td>\n",
       "      <td>0.73</td>\n",
       "      <td>2.0</td>\n",
       "      <td>0.870285</td>\n",
       "    </tr>\n",
       "    <tr>\n",
       "      <th>28</th>\n",
       "      <td>0.1</td>\n",
       "      <td>0.73</td>\n",
       "      <td>2.0</td>\n",
       "      <td>0.854686</td>\n",
       "    </tr>\n",
       "    <tr>\n",
       "      <th>29</th>\n",
       "      <td>0.1</td>\n",
       "      <td>0.73</td>\n",
       "      <td>2.0</td>\n",
       "      <td>0.857000</td>\n",
       "    </tr>\n",
       "  </tbody>\n",
       "</table>\n",
       "</div>"
      ],
      "text/plain": [
       "    dens  temp_r  rad_r        DZ\n",
       "27   0.1    0.73    2.0  0.870285\n",
       "28   0.1    0.73    2.0  0.854686\n",
       "29   0.1    0.73    2.0  0.857000"
      ]
     },
     "execution_count": 138,
     "metadata": {},
     "output_type": "execute_result"
    }
   ],
   "source": [
    "df[(df.dens==0.1) & (df.temp_r==0.73) & (df.rad_r==2.0)]"
   ]
  },
  {
   "cell_type": "code",
   "execution_count": 139,
   "metadata": {
    "collapsed": false
   },
   "outputs": [
    {
     "data": {
      "text/html": [
       "<div>\n",
       "<table border=\"1\" class=\"dataframe\">\n",
       "  <thead>\n",
       "    <tr style=\"text-align: right;\">\n",
       "      <th></th>\n",
       "      <th>dens</th>\n",
       "      <th>temp_r</th>\n",
       "      <th>rad_r</th>\n",
       "      <th>DZ</th>\n",
       "    </tr>\n",
       "  </thead>\n",
       "  <tbody>\n",
       "    <tr>\n",
       "      <th>27</th>\n",
       "      <td>0.1</td>\n",
       "      <td>0.73</td>\n",
       "      <td>2.0</td>\n",
       "      <td>0.870285</td>\n",
       "    </tr>\n",
       "    <tr>\n",
       "      <th>28</th>\n",
       "      <td>0.1</td>\n",
       "      <td>0.73</td>\n",
       "      <td>2.0</td>\n",
       "      <td>0.854686</td>\n",
       "    </tr>\n",
       "    <tr>\n",
       "      <th>29</th>\n",
       "      <td>0.1</td>\n",
       "      <td>0.73</td>\n",
       "      <td>2.0</td>\n",
       "      <td>0.857000</td>\n",
       "    </tr>\n",
       "  </tbody>\n",
       "</table>\n",
       "</div>"
      ],
      "text/plain": [
       "    dens  temp_r  rad_r        DZ\n",
       "27   0.1    0.73    2.0  0.870285\n",
       "28   0.1    0.73    2.0  0.854686\n",
       "29   0.1    0.73    2.0  0.857000"
      ]
     },
     "execution_count": 139,
     "metadata": {},
     "output_type": "execute_result"
    }
   ],
   "source": [
    "#or\n",
    "df.query('dens==0.1 and temp_r==0.73 and rad_r==2.0')"
   ]
  },
  {
   "cell_type": "code",
   "execution_count": 140,
   "metadata": {
    "collapsed": false
   },
   "outputs": [
    {
     "data": {
      "text/html": [
       "<div>\n",
       "<table border=\"1\" class=\"dataframe\">\n",
       "  <thead>\n",
       "    <tr style=\"text-align: right;\">\n",
       "      <th></th>\n",
       "      <th>dens</th>\n",
       "      <th>temp_r</th>\n",
       "      <th>rad_r</th>\n",
       "      <th>DZ</th>\n",
       "    </tr>\n",
       "  </thead>\n",
       "  <tbody>\n",
       "    <tr>\n",
       "      <th>720</th>\n",
       "      <td>0.025</td>\n",
       "      <td>0.73</td>\n",
       "      <td>4.0</td>\n",
       "      <td>3.145580</td>\n",
       "    </tr>\n",
       "    <tr>\n",
       "      <th>721</th>\n",
       "      <td>0.025</td>\n",
       "      <td>0.73</td>\n",
       "      <td>4.0</td>\n",
       "      <td>3.162202</td>\n",
       "    </tr>\n",
       "    <tr>\n",
       "      <th>722</th>\n",
       "      <td>0.025</td>\n",
       "      <td>0.73</td>\n",
       "      <td>4.0</td>\n",
       "      <td>3.157833</td>\n",
       "    </tr>\n",
       "    <tr>\n",
       "      <th>723</th>\n",
       "      <td>0.025</td>\n",
       "      <td>0.85</td>\n",
       "      <td>4.0</td>\n",
       "      <td>3.506435</td>\n",
       "    </tr>\n",
       "    <tr>\n",
       "      <th>724</th>\n",
       "      <td>0.025</td>\n",
       "      <td>0.85</td>\n",
       "      <td>4.0</td>\n",
       "      <td>3.498417</td>\n",
       "    </tr>\n",
       "    <tr>\n",
       "      <th>725</th>\n",
       "      <td>0.025</td>\n",
       "      <td>0.85</td>\n",
       "      <td>4.0</td>\n",
       "      <td>3.503647</td>\n",
       "    </tr>\n",
       "    <tr>\n",
       "      <th>1144</th>\n",
       "      <td>0.025</td>\n",
       "      <td>0.73</td>\n",
       "      <td>6.0</td>\n",
       "      <td>2.238840</td>\n",
       "    </tr>\n",
       "    <tr>\n",
       "      <th>1145</th>\n",
       "      <td>0.025</td>\n",
       "      <td>0.73</td>\n",
       "      <td>6.0</td>\n",
       "      <td>2.228782</td>\n",
       "    </tr>\n",
       "    <tr>\n",
       "      <th>1146</th>\n",
       "      <td>0.025</td>\n",
       "      <td>0.73</td>\n",
       "      <td>6.0</td>\n",
       "      <td>2.225724</td>\n",
       "    </tr>\n",
       "    <tr>\n",
       "      <th>1147</th>\n",
       "      <td>0.025</td>\n",
       "      <td>0.85</td>\n",
       "      <td>6.0</td>\n",
       "      <td>2.483497</td>\n",
       "    </tr>\n",
       "    <tr>\n",
       "      <th>1148</th>\n",
       "      <td>0.025</td>\n",
       "      <td>0.85</td>\n",
       "      <td>6.0</td>\n",
       "      <td>2.498131</td>\n",
       "    </tr>\n",
       "    <tr>\n",
       "      <th>1149</th>\n",
       "      <td>0.025</td>\n",
       "      <td>0.85</td>\n",
       "      <td>6.0</td>\n",
       "      <td>2.495573</td>\n",
       "    </tr>\n",
       "  </tbody>\n",
       "</table>\n",
       "</div>"
      ],
      "text/plain": [
       "       dens  temp_r  rad_r        DZ\n",
       "720   0.025    0.73    4.0  3.145580\n",
       "721   0.025    0.73    4.0  3.162202\n",
       "722   0.025    0.73    4.0  3.157833\n",
       "723   0.025    0.85    4.0  3.506435\n",
       "724   0.025    0.85    4.0  3.498417\n",
       "725   0.025    0.85    4.0  3.503647\n",
       "1144  0.025    0.73    6.0  2.238840\n",
       "1145  0.025    0.73    6.0  2.228782\n",
       "1146  0.025    0.73    6.0  2.225724\n",
       "1147  0.025    0.85    6.0  2.483497\n",
       "1148  0.025    0.85    6.0  2.498131\n",
       "1149  0.025    0.85    6.0  2.495573"
      ]
     },
     "execution_count": 140,
     "metadata": {},
     "output_type": "execute_result"
    }
   ],
   "source": [
    "# more complicated\n",
    "\n",
    "rad_list = [4.0, 6.0]\n",
    "temp_list = [0.73, 0.85]\n",
    "\n",
    "df.query('DZ>2.0 and  rad_r in @rad_list and temp_r in @temp_list')"
   ]
  },
  {
   "cell_type": "markdown",
   "metadata": {},
   "source": [
    "# Database like operations\n",
    "\n",
    " * simple task, find the average diffusion for a given density, temperature, and radius\n",
    " * multiple replicates above: lets take some statisitcs"
   ]
  },
  {
   "cell_type": "code",
   "execution_count": 141,
   "metadata": {
    "collapsed": false
   },
   "outputs": [
    {
     "data": {
      "text/html": [
       "<div>\n",
       "<table border=\"1\" class=\"dataframe\">\n",
       "  <thead>\n",
       "    <tr style=\"text-align: right;\">\n",
       "      <th></th>\n",
       "      <th>dens</th>\n",
       "      <th>temp_r</th>\n",
       "      <th>rad_r</th>\n",
       "      <th>DZ</th>\n",
       "    </tr>\n",
       "  </thead>\n",
       "  <tbody>\n",
       "    <tr>\n",
       "      <th>827</th>\n",
       "      <td>0.25</td>\n",
       "      <td>1.5</td>\n",
       "      <td>4.0</td>\n",
       "      <td>0.559899</td>\n",
       "    </tr>\n",
       "    <tr>\n",
       "      <th>828</th>\n",
       "      <td>0.25</td>\n",
       "      <td>1.5</td>\n",
       "      <td>4.0</td>\n",
       "      <td>0.557074</td>\n",
       "    </tr>\n",
       "    <tr>\n",
       "      <th>829</th>\n",
       "      <td>0.25</td>\n",
       "      <td>1.5</td>\n",
       "      <td>4.0</td>\n",
       "      <td>0.558753</td>\n",
       "    </tr>\n",
       "  </tbody>\n",
       "</table>\n",
       "</div>"
      ],
      "text/plain": [
       "     dens  temp_r  rad_r        DZ\n",
       "827  0.25     1.5    4.0  0.559899\n",
       "828  0.25     1.5    4.0  0.557074\n",
       "829  0.25     1.5    4.0  0.558753"
      ]
     },
     "execution_count": 141,
     "metadata": {},
     "output_type": "execute_result"
    }
   ],
   "source": [
    "#\n",
    "df.query('dens==0.25 and rad_r==4.0 and temp_r==1.5')"
   ]
  },
  {
   "cell_type": "code",
   "execution_count": 142,
   "metadata": {
    "collapsed": false
   },
   "outputs": [],
   "source": [
    "#groub by -> groupy by column values\n",
    "grouped = df.groupby(['dens','rad_r','temp_r'])#.mean().head()"
   ]
  },
  {
   "cell_type": "code",
   "execution_count": 143,
   "metadata": {
    "collapsed": true
   },
   "outputs": [],
   "source": [
    "for vals, g in grouped:\n",
    "    break"
   ]
  },
  {
   "cell_type": "code",
   "execution_count": 144,
   "metadata": {
    "collapsed": false
   },
   "outputs": [
    {
     "name": "stdout",
     "output_type": "stream",
     "text": [
      "(0.025000000000000001, 2.0, 0.72999999999999998)\n"
     ]
    }
   ],
   "source": [
    "print vals"
   ]
  },
  {
   "cell_type": "code",
   "execution_count": 145,
   "metadata": {
    "collapsed": false
   },
   "outputs": [
    {
     "data": {
      "text/html": [
       "<div>\n",
       "<table border=\"1\" class=\"dataframe\">\n",
       "  <thead>\n",
       "    <tr style=\"text-align: right;\">\n",
       "      <th></th>\n",
       "      <th>dens</th>\n",
       "      <th>temp_r</th>\n",
       "      <th>rad_r</th>\n",
       "      <th>DZ</th>\n",
       "    </tr>\n",
       "  </thead>\n",
       "  <tbody>\n",
       "    <tr>\n",
       "      <th>0</th>\n",
       "      <td>0.025</td>\n",
       "      <td>0.73</td>\n",
       "      <td>2.0</td>\n",
       "      <td>26.636122</td>\n",
       "    </tr>\n",
       "    <tr>\n",
       "      <th>1</th>\n",
       "      <td>0.025</td>\n",
       "      <td>0.73</td>\n",
       "      <td>2.0</td>\n",
       "      <td>25.714922</td>\n",
       "    </tr>\n",
       "    <tr>\n",
       "      <th>2</th>\n",
       "      <td>0.025</td>\n",
       "      <td>0.73</td>\n",
       "      <td>2.0</td>\n",
       "      <td>27.050785</td>\n",
       "    </tr>\n",
       "  </tbody>\n",
       "</table>\n",
       "</div>"
      ],
      "text/plain": [
       "    dens  temp_r  rad_r         DZ\n",
       "0  0.025    0.73    2.0  26.636122\n",
       "1  0.025    0.73    2.0  25.714922\n",
       "2  0.025    0.73    2.0  27.050785"
      ]
     },
     "execution_count": 145,
     "metadata": {},
     "output_type": "execute_result"
    }
   ],
   "source": [
    "g"
   ]
  },
  {
   "cell_type": "code",
   "execution_count": 146,
   "metadata": {
    "collapsed": false
   },
   "outputs": [
    {
     "data": {
      "text/html": [
       "<div>\n",
       "<table border=\"1\" class=\"dataframe\">\n",
       "  <thead>\n",
       "    <tr style=\"text-align: right;\">\n",
       "      <th></th>\n",
       "      <th></th>\n",
       "      <th></th>\n",
       "      <th>DZ</th>\n",
       "    </tr>\n",
       "    <tr>\n",
       "      <th>dens</th>\n",
       "      <th>rad_r</th>\n",
       "      <th>temp_r</th>\n",
       "      <th></th>\n",
       "    </tr>\n",
       "  </thead>\n",
       "  <tbody>\n",
       "    <tr>\n",
       "      <th rowspan=\"5\" valign=\"top\">0.025</th>\n",
       "      <th rowspan=\"3\" valign=\"top\">2.0</th>\n",
       "      <th>0.73</th>\n",
       "      <td>26.467276</td>\n",
       "    </tr>\n",
       "    <tr>\n",
       "      <th>0.85</th>\n",
       "      <td>29.087343</td>\n",
       "    </tr>\n",
       "    <tr>\n",
       "      <th>1.50</th>\n",
       "      <td>34.868425</td>\n",
       "    </tr>\n",
       "    <tr>\n",
       "      <th rowspan=\"2\" valign=\"top\">3.0</th>\n",
       "      <th>0.73</th>\n",
       "      <td>6.707699</td>\n",
       "    </tr>\n",
       "    <tr>\n",
       "      <th>0.85</th>\n",
       "      <td>5.772236</td>\n",
       "    </tr>\n",
       "  </tbody>\n",
       "</table>\n",
       "</div>"
      ],
      "text/plain": [
       "                           DZ\n",
       "dens  rad_r temp_r           \n",
       "0.025 2.0   0.73    26.467276\n",
       "            0.85    29.087343\n",
       "            1.50    34.868425\n",
       "      3.0   0.73     6.707699\n",
       "            0.85     5.772236"
      ]
     },
     "execution_count": 146,
     "metadata": {},
     "output_type": "execute_result"
    }
   ],
   "source": [
    "#mean across samples\n",
    "df.groupby(['dens','rad_r','temp_r']).mean().head()"
   ]
  },
  {
   "cell_type": "code",
   "execution_count": 147,
   "metadata": {
    "collapsed": false
   },
   "outputs": [
    {
     "data": {
      "text/html": [
       "<div>\n",
       "<table border=\"1\" class=\"dataframe\">\n",
       "  <thead>\n",
       "    <tr>\n",
       "      <th></th>\n",
       "      <th>dens</th>\n",
       "      <th>rad_r</th>\n",
       "      <th>temp_r</th>\n",
       "      <th colspan=\"2\" halign=\"left\">DZ</th>\n",
       "    </tr>\n",
       "    <tr>\n",
       "      <th></th>\n",
       "      <th></th>\n",
       "      <th></th>\n",
       "      <th></th>\n",
       "      <th>mean</th>\n",
       "      <th>std</th>\n",
       "    </tr>\n",
       "  </thead>\n",
       "  <tbody>\n",
       "    <tr>\n",
       "      <th>0</th>\n",
       "      <td>0.025</td>\n",
       "      <td>2.0</td>\n",
       "      <td>0.73</td>\n",
       "      <td>26.467276</td>\n",
       "      <td>0.683750</td>\n",
       "    </tr>\n",
       "    <tr>\n",
       "      <th>1</th>\n",
       "      <td>0.025</td>\n",
       "      <td>2.0</td>\n",
       "      <td>0.85</td>\n",
       "      <td>29.087343</td>\n",
       "      <td>0.821048</td>\n",
       "    </tr>\n",
       "    <tr>\n",
       "      <th>2</th>\n",
       "      <td>0.025</td>\n",
       "      <td>2.0</td>\n",
       "      <td>1.50</td>\n",
       "      <td>34.868425</td>\n",
       "      <td>0.886803</td>\n",
       "    </tr>\n",
       "    <tr>\n",
       "      <th>3</th>\n",
       "      <td>0.025</td>\n",
       "      <td>3.0</td>\n",
       "      <td>0.73</td>\n",
       "      <td>6.707699</td>\n",
       "      <td>0.152741</td>\n",
       "    </tr>\n",
       "    <tr>\n",
       "      <th>4</th>\n",
       "      <td>0.025</td>\n",
       "      <td>3.0</td>\n",
       "      <td>0.85</td>\n",
       "      <td>5.772236</td>\n",
       "      <td>0.056831</td>\n",
       "    </tr>\n",
       "  </tbody>\n",
       "</table>\n",
       "</div>"
      ],
      "text/plain": [
       "    dens rad_r temp_r         DZ          \n",
       "                            mean       std\n",
       "0  0.025   2.0   0.73  26.467276  0.683750\n",
       "1  0.025   2.0   0.85  29.087343  0.821048\n",
       "2  0.025   2.0   1.50  34.868425  0.886803\n",
       "3  0.025   3.0   0.73   6.707699  0.152741\n",
       "4  0.025   3.0   0.85   5.772236  0.056831"
      ]
     },
     "execution_count": 147,
     "metadata": {},
     "output_type": "execute_result"
    }
   ],
   "source": [
    "#mean and standard deviation across samples\n",
    "df_ave = df.groupby(['dens','rad_r','temp_r']).agg([np.mean,np.std]).reset_index()\n",
    "df_ave.head()"
   ]
  },
  {
   "cell_type": "markdown",
   "metadata": {},
   "source": [
    "This is such a common task for me, that I've put the functionality in a module"
   ]
  },
  {
   "cell_type": "code",
   "execution_count": 148,
   "metadata": {
    "collapsed": false
   },
   "outputs": [],
   "source": [
    "import my_utilities.pandas.utils as pdUtils"
   ]
  },
  {
   "cell_type": "code",
   "execution_count": 149,
   "metadata": {
    "collapsed": false
   },
   "outputs": [
    {
     "data": {
      "text/html": [
       "<div>\n",
       "<table border=\"1\" class=\"dataframe\">\n",
       "  <thead>\n",
       "    <tr style=\"text-align: right;\">\n",
       "      <th></th>\n",
       "      <th>dens</th>\n",
       "      <th>rad_r</th>\n",
       "      <th>temp_r</th>\n",
       "      <th>DZ</th>\n",
       "      <th>DZ_SE</th>\n",
       "      <th>size</th>\n",
       "    </tr>\n",
       "  </thead>\n",
       "  <tbody>\n",
       "    <tr>\n",
       "      <th>0</th>\n",
       "      <td>0.025</td>\n",
       "      <td>2.0</td>\n",
       "      <td>0.73</td>\n",
       "      <td>26.467276</td>\n",
       "      <td>1.698529</td>\n",
       "      <td>3</td>\n",
       "    </tr>\n",
       "    <tr>\n",
       "      <th>1</th>\n",
       "      <td>0.025</td>\n",
       "      <td>2.0</td>\n",
       "      <td>0.85</td>\n",
       "      <td>29.087343</td>\n",
       "      <td>2.039595</td>\n",
       "      <td>3</td>\n",
       "    </tr>\n",
       "    <tr>\n",
       "      <th>2</th>\n",
       "      <td>0.025</td>\n",
       "      <td>2.0</td>\n",
       "      <td>1.50</td>\n",
       "      <td>34.868425</td>\n",
       "      <td>2.202941</td>\n",
       "      <td>3</td>\n",
       "    </tr>\n",
       "    <tr>\n",
       "      <th>3</th>\n",
       "      <td>0.025</td>\n",
       "      <td>3.0</td>\n",
       "      <td>0.73</td>\n",
       "      <td>6.707699</td>\n",
       "      <td>0.379430</td>\n",
       "      <td>3</td>\n",
       "    </tr>\n",
       "    <tr>\n",
       "      <th>4</th>\n",
       "      <td>0.025</td>\n",
       "      <td>3.0</td>\n",
       "      <td>0.85</td>\n",
       "      <td>5.772236</td>\n",
       "      <td>0.141176</td>\n",
       "      <td>3</td>\n",
       "    </tr>\n",
       "  </tbody>\n",
       "</table>\n",
       "</div>"
      ],
      "text/plain": [
       "    dens  rad_r  temp_r         DZ     DZ_SE  size\n",
       "0  0.025    2.0    0.73  26.467276  1.698529     3\n",
       "1  0.025    2.0    0.85  29.087343  2.039595     3\n",
       "2  0.025    2.0    1.50  34.868425  2.202941     3\n",
       "3  0.025    3.0    0.73   6.707699  0.379430     3\n",
       "4  0.025    3.0    0.85   5.772236  0.141176     3"
      ]
     },
     "execution_count": 149,
     "metadata": {},
     "output_type": "execute_result"
    }
   ],
   "source": [
    "df_ave = pdUtils.StatsAggDataFrame(df,['dens','rad_r','temp_r'],['DZ']).reset_index()\n",
    "df_ave.head()"
   ]
  },
  {
   "cell_type": "markdown",
   "metadata": {},
   "source": [
    "# Another common task: merging"
   ]
  },
  {
   "cell_type": "code",
   "execution_count": 150,
   "metadata": {
    "collapsed": false
   },
   "outputs": [
    {
     "data": {
      "text/html": [
       "<div>\n",
       "<table border=\"1\" class=\"dataframe\">\n",
       "  <thead>\n",
       "    <tr style=\"text-align: right;\">\n",
       "      <th></th>\n",
       "      <th>dens</th>\n",
       "      <th>temp_r</th>\n",
       "      <th>rad_r</th>\n",
       "      <th>DZ</th>\n",
       "    </tr>\n",
       "  </thead>\n",
       "  <tbody>\n",
       "    <tr>\n",
       "      <th>0</th>\n",
       "      <td>0.025</td>\n",
       "      <td>0.73</td>\n",
       "      <td>2.0</td>\n",
       "      <td>26.636122</td>\n",
       "    </tr>\n",
       "    <tr>\n",
       "      <th>1</th>\n",
       "      <td>0.025</td>\n",
       "      <td>0.73</td>\n",
       "      <td>2.0</td>\n",
       "      <td>25.714922</td>\n",
       "    </tr>\n",
       "    <tr>\n",
       "      <th>2</th>\n",
       "      <td>0.025</td>\n",
       "      <td>0.73</td>\n",
       "      <td>2.0</td>\n",
       "      <td>27.050785</td>\n",
       "    </tr>\n",
       "    <tr>\n",
       "      <th>3</th>\n",
       "      <td>0.025</td>\n",
       "      <td>0.85</td>\n",
       "      <td>2.0</td>\n",
       "      <td>29.796925</td>\n",
       "    </tr>\n",
       "    <tr>\n",
       "      <th>4</th>\n",
       "      <td>0.025</td>\n",
       "      <td>0.85</td>\n",
       "      <td>2.0</td>\n",
       "      <td>29.277061</td>\n",
       "    </tr>\n",
       "  </tbody>\n",
       "</table>\n",
       "</div>"
      ],
      "text/plain": [
       "    dens  temp_r  rad_r         DZ\n",
       "0  0.025    0.73    2.0  26.636122\n",
       "1  0.025    0.73    2.0  25.714922\n",
       "2  0.025    0.73    2.0  27.050785\n",
       "3  0.025    0.85    2.0  29.796925\n",
       "4  0.025    0.85    2.0  29.277061"
      ]
     },
     "execution_count": 150,
     "metadata": {},
     "output_type": "execute_result"
    }
   ],
   "source": [
    "df.head()"
   ]
  },
  {
   "cell_type": "code",
   "execution_count": 151,
   "metadata": {
    "collapsed": false
   },
   "outputs": [
    {
     "data": {
      "text/html": [
       "<div>\n",
       "<table border=\"1\" class=\"dataframe\">\n",
       "  <thead>\n",
       "    <tr style=\"text-align: right;\">\n",
       "      <th></th>\n",
       "      <th>dens</th>\n",
       "      <th>temp_r</th>\n",
       "      <th>rad_r</th>\n",
       "      <th>E</th>\n",
       "      <th>KE</th>\n",
       "      <th>PE</th>\n",
       "      <th>PV_N_x1</th>\n",
       "      <th>PV_N_x3</th>\n",
       "    </tr>\n",
       "  </thead>\n",
       "  <tbody>\n",
       "    <tr>\n",
       "      <th>0</th>\n",
       "      <td>0.025</td>\n",
       "      <td>0.73</td>\n",
       "      <td>2.0</td>\n",
       "      <td>-7.847026</td>\n",
       "      <td>1.092984</td>\n",
       "      <td>-8.940010</td>\n",
       "      <td>-1.731450</td>\n",
       "      <td>0.656281</td>\n",
       "    </tr>\n",
       "    <tr>\n",
       "      <th>1</th>\n",
       "      <td>0.025</td>\n",
       "      <td>0.73</td>\n",
       "      <td>2.0</td>\n",
       "      <td>-7.847053</td>\n",
       "      <td>1.092978</td>\n",
       "      <td>-8.940031</td>\n",
       "      <td>-1.731987</td>\n",
       "      <td>0.656691</td>\n",
       "    </tr>\n",
       "    <tr>\n",
       "      <th>2</th>\n",
       "      <td>0.025</td>\n",
       "      <td>0.73</td>\n",
       "      <td>2.0</td>\n",
       "      <td>-7.845478</td>\n",
       "      <td>1.092965</td>\n",
       "      <td>-8.938443</td>\n",
       "      <td>-1.730727</td>\n",
       "      <td>0.655745</td>\n",
       "    </tr>\n",
       "    <tr>\n",
       "      <th>3</th>\n",
       "      <td>0.025</td>\n",
       "      <td>0.85</td>\n",
       "      <td>2.0</td>\n",
       "      <td>-7.551794</td>\n",
       "      <td>1.274904</td>\n",
       "      <td>-8.826698</td>\n",
       "      <td>-1.598390</td>\n",
       "      <td>0.798859</td>\n",
       "    </tr>\n",
       "    <tr>\n",
       "      <th>4</th>\n",
       "      <td>0.025</td>\n",
       "      <td>0.85</td>\n",
       "      <td>2.0</td>\n",
       "      <td>-7.551343</td>\n",
       "      <td>1.274905</td>\n",
       "      <td>-8.826247</td>\n",
       "      <td>-1.596780</td>\n",
       "      <td>0.796969</td>\n",
       "    </tr>\n",
       "  </tbody>\n",
       "</table>\n",
       "</div>"
      ],
      "text/plain": [
       "    dens  temp_r  rad_r         E        KE        PE   PV_N_x1   PV_N_x3\n",
       "0  0.025    0.73    2.0 -7.847026  1.092984 -8.940010 -1.731450  0.656281\n",
       "1  0.025    0.73    2.0 -7.847053  1.092978 -8.940031 -1.731987  0.656691\n",
       "2  0.025    0.73    2.0 -7.845478  1.092965 -8.938443 -1.730727  0.655745\n",
       "3  0.025    0.85    2.0 -7.551794  1.274904 -8.826698 -1.598390  0.798859\n",
       "4  0.025    0.85    2.0 -7.551343  1.274905 -8.826247 -1.596780  0.796969"
      ]
     },
     "execution_count": 151,
     "metadata": {},
     "output_type": "execute_result"
    }
   ],
   "source": [
    "pd.read_csv('thermo.csv').head()"
   ]
  },
  {
   "cell_type": "code",
   "execution_count": 152,
   "metadata": {
    "collapsed": true
   },
   "outputs": [],
   "source": [
    "#read, average\n",
    "df_thermo = (\n",
    "     pd.read_csv('thermo.csv')\n",
    "    .pipe(pdUtils.StatsAggDataFrame,['dens','rad_r','temp_r'],None)\n",
    "    .reset_index()\n",
    "    )"
   ]
  },
  {
   "cell_type": "code",
   "execution_count": 153,
   "metadata": {
    "collapsed": false
   },
   "outputs": [
    {
     "data": {
      "text/html": [
       "<div>\n",
       "<table border=\"1\" class=\"dataframe\">\n",
       "  <thead>\n",
       "    <tr style=\"text-align: right;\">\n",
       "      <th></th>\n",
       "      <th>dens</th>\n",
       "      <th>rad_r</th>\n",
       "      <th>temp_r</th>\n",
       "      <th>E</th>\n",
       "      <th>E_SE</th>\n",
       "      <th>KE</th>\n",
       "      <th>KE_SE</th>\n",
       "      <th>PE</th>\n",
       "      <th>PE_SE</th>\n",
       "      <th>PV_N_x1</th>\n",
       "      <th>PV_N_x1_SE</th>\n",
       "      <th>PV_N_x3</th>\n",
       "      <th>PV_N_x3_SE</th>\n",
       "      <th>size</th>\n",
       "    </tr>\n",
       "  </thead>\n",
       "  <tbody>\n",
       "    <tr>\n",
       "      <th>0</th>\n",
       "      <td>0.025</td>\n",
       "      <td>2.0</td>\n",
       "      <td>0.73</td>\n",
       "      <td>-7.846519</td>\n",
       "      <td>0.002239</td>\n",
       "      <td>1.092976</td>\n",
       "      <td>0.000025</td>\n",
       "      <td>-8.939495</td>\n",
       "      <td>0.002263</td>\n",
       "      <td>-1.731388</td>\n",
       "      <td>0.001571</td>\n",
       "      <td>0.656239</td>\n",
       "      <td>0.001178</td>\n",
       "      <td>3</td>\n",
       "    </tr>\n",
       "    <tr>\n",
       "      <th>1</th>\n",
       "      <td>0.025</td>\n",
       "      <td>2.0</td>\n",
       "      <td>0.85</td>\n",
       "      <td>-7.551774</td>\n",
       "      <td>0.001048</td>\n",
       "      <td>1.274901</td>\n",
       "      <td>0.000017</td>\n",
       "      <td>-8.826675</td>\n",
       "      <td>0.001033</td>\n",
       "      <td>-1.597697</td>\n",
       "      <td>0.002057</td>\n",
       "      <td>0.797984</td>\n",
       "      <td>0.002366</td>\n",
       "      <td>3</td>\n",
       "    </tr>\n",
       "    <tr>\n",
       "      <th>2</th>\n",
       "      <td>0.025</td>\n",
       "      <td>2.0</td>\n",
       "      <td>1.50</td>\n",
       "      <td>-6.032308</td>\n",
       "      <td>0.002768</td>\n",
       "      <td>2.249799</td>\n",
       "      <td>0.000052</td>\n",
       "      <td>-8.282108</td>\n",
       "      <td>0.002719</td>\n",
       "      <td>-0.861779</td>\n",
       "      <td>0.003178</td>\n",
       "      <td>1.516954</td>\n",
       "      <td>0.003783</td>\n",
       "      <td>3</td>\n",
       "    </tr>\n",
       "    <tr>\n",
       "      <th>3</th>\n",
       "      <td>0.025</td>\n",
       "      <td>3.0</td>\n",
       "      <td>0.73</td>\n",
       "      <td>-6.612618</td>\n",
       "      <td>0.001000</td>\n",
       "      <td>1.092973</td>\n",
       "      <td>0.000013</td>\n",
       "      <td>-7.705591</td>\n",
       "      <td>0.001011</td>\n",
       "      <td>-0.523294</td>\n",
       "      <td>0.000490</td>\n",
       "      <td>0.648397</td>\n",
       "      <td>0.000426</td>\n",
       "      <td>3</td>\n",
       "    </tr>\n",
       "    <tr>\n",
       "      <th>4</th>\n",
       "      <td>0.025</td>\n",
       "      <td>3.0</td>\n",
       "      <td>0.85</td>\n",
       "      <td>-6.305132</td>\n",
       "      <td>0.000576</td>\n",
       "      <td>1.274889</td>\n",
       "      <td>0.000029</td>\n",
       "      <td>-7.580020</td>\n",
       "      <td>0.000598</td>\n",
       "      <td>-0.416348</td>\n",
       "      <td>0.000971</td>\n",
       "      <td>0.789960</td>\n",
       "      <td>0.000929</td>\n",
       "      <td>3</td>\n",
       "    </tr>\n",
       "  </tbody>\n",
       "</table>\n",
       "</div>"
      ],
      "text/plain": [
       "    dens  rad_r  temp_r         E      E_SE        KE     KE_SE        PE  \\\n",
       "0  0.025    2.0    0.73 -7.846519  0.002239  1.092976  0.000025 -8.939495   \n",
       "1  0.025    2.0    0.85 -7.551774  0.001048  1.274901  0.000017 -8.826675   \n",
       "2  0.025    2.0    1.50 -6.032308  0.002768  2.249799  0.000052 -8.282108   \n",
       "3  0.025    3.0    0.73 -6.612618  0.001000  1.092973  0.000013 -7.705591   \n",
       "4  0.025    3.0    0.85 -6.305132  0.000576  1.274889  0.000029 -7.580020   \n",
       "\n",
       "      PE_SE   PV_N_x1  PV_N_x1_SE   PV_N_x3  PV_N_x3_SE  size  \n",
       "0  0.002263 -1.731388    0.001571  0.656239    0.001178     3  \n",
       "1  0.001033 -1.597697    0.002057  0.797984    0.002366     3  \n",
       "2  0.002719 -0.861779    0.003178  1.516954    0.003783     3  \n",
       "3  0.001011 -0.523294    0.000490  0.648397    0.000426     3  \n",
       "4  0.000598 -0.416348    0.000971  0.789960    0.000929     3  "
      ]
     },
     "execution_count": 153,
     "metadata": {},
     "output_type": "execute_result"
    }
   ],
   "source": [
    "df_thermo.head()"
   ]
  },
  {
   "cell_type": "markdown",
   "metadata": {},
   "source": [
    "## goal: for a given density radius and temperature, merge DZ and thermo data"
   ]
  },
  {
   "cell_type": "code",
   "execution_count": 154,
   "metadata": {
    "collapsed": false
   },
   "outputs": [
    {
     "data": {
      "text/html": [
       "<div>\n",
       "<table border=\"1\" class=\"dataframe\">\n",
       "  <thead>\n",
       "    <tr style=\"text-align: right;\">\n",
       "      <th></th>\n",
       "      <th>dens</th>\n",
       "      <th>rad_r</th>\n",
       "      <th>temp_r</th>\n",
       "      <th>DZ</th>\n",
       "      <th>DZ_SE</th>\n",
       "      <th>size</th>\n",
       "    </tr>\n",
       "  </thead>\n",
       "  <tbody>\n",
       "    <tr>\n",
       "      <th>0</th>\n",
       "      <td>0.025</td>\n",
       "      <td>2.0</td>\n",
       "      <td>0.73</td>\n",
       "      <td>26.467276</td>\n",
       "      <td>1.698529</td>\n",
       "      <td>3</td>\n",
       "    </tr>\n",
       "    <tr>\n",
       "      <th>1</th>\n",
       "      <td>0.025</td>\n",
       "      <td>2.0</td>\n",
       "      <td>0.85</td>\n",
       "      <td>29.087343</td>\n",
       "      <td>2.039595</td>\n",
       "      <td>3</td>\n",
       "    </tr>\n",
       "    <tr>\n",
       "      <th>2</th>\n",
       "      <td>0.025</td>\n",
       "      <td>2.0</td>\n",
       "      <td>1.50</td>\n",
       "      <td>34.868425</td>\n",
       "      <td>2.202941</td>\n",
       "      <td>3</td>\n",
       "    </tr>\n",
       "    <tr>\n",
       "      <th>3</th>\n",
       "      <td>0.025</td>\n",
       "      <td>3.0</td>\n",
       "      <td>0.73</td>\n",
       "      <td>6.707699</td>\n",
       "      <td>0.379430</td>\n",
       "      <td>3</td>\n",
       "    </tr>\n",
       "    <tr>\n",
       "      <th>4</th>\n",
       "      <td>0.025</td>\n",
       "      <td>3.0</td>\n",
       "      <td>0.85</td>\n",
       "      <td>5.772236</td>\n",
       "      <td>0.141176</td>\n",
       "      <td>3</td>\n",
       "    </tr>\n",
       "  </tbody>\n",
       "</table>\n",
       "</div>"
      ],
      "text/plain": [
       "    dens  rad_r  temp_r         DZ     DZ_SE  size\n",
       "0  0.025    2.0    0.73  26.467276  1.698529     3\n",
       "1  0.025    2.0    0.85  29.087343  2.039595     3\n",
       "2  0.025    2.0    1.50  34.868425  2.202941     3\n",
       "3  0.025    3.0    0.73   6.707699  0.379430     3\n",
       "4  0.025    3.0    0.85   5.772236  0.141176     3"
      ]
     },
     "execution_count": 154,
     "metadata": {},
     "output_type": "execute_result"
    }
   ],
   "source": [
    "df_ave.head()"
   ]
  },
  {
   "cell_type": "code",
   "execution_count": 155,
   "metadata": {
    "collapsed": false
   },
   "outputs": [
    {
     "data": {
      "text/html": [
       "<div>\n",
       "<table border=\"1\" class=\"dataframe\">\n",
       "  <thead>\n",
       "    <tr style=\"text-align: right;\">\n",
       "      <th></th>\n",
       "      <th>dens</th>\n",
       "      <th>rad_r</th>\n",
       "      <th>temp_r</th>\n",
       "      <th>E</th>\n",
       "      <th>E_SE</th>\n",
       "      <th>KE</th>\n",
       "      <th>KE_SE</th>\n",
       "      <th>PE</th>\n",
       "      <th>PE_SE</th>\n",
       "      <th>PV_N_x1</th>\n",
       "      <th>PV_N_x1_SE</th>\n",
       "      <th>PV_N_x3</th>\n",
       "      <th>PV_N_x3_SE</th>\n",
       "      <th>size</th>\n",
       "    </tr>\n",
       "  </thead>\n",
       "  <tbody>\n",
       "    <tr>\n",
       "      <th>0</th>\n",
       "      <td>0.025</td>\n",
       "      <td>2.0</td>\n",
       "      <td>0.73</td>\n",
       "      <td>-7.846519</td>\n",
       "      <td>0.002239</td>\n",
       "      <td>1.092976</td>\n",
       "      <td>0.000025</td>\n",
       "      <td>-8.939495</td>\n",
       "      <td>0.002263</td>\n",
       "      <td>-1.731388</td>\n",
       "      <td>0.001571</td>\n",
       "      <td>0.656239</td>\n",
       "      <td>0.001178</td>\n",
       "      <td>3</td>\n",
       "    </tr>\n",
       "    <tr>\n",
       "      <th>1</th>\n",
       "      <td>0.025</td>\n",
       "      <td>2.0</td>\n",
       "      <td>0.85</td>\n",
       "      <td>-7.551774</td>\n",
       "      <td>0.001048</td>\n",
       "      <td>1.274901</td>\n",
       "      <td>0.000017</td>\n",
       "      <td>-8.826675</td>\n",
       "      <td>0.001033</td>\n",
       "      <td>-1.597697</td>\n",
       "      <td>0.002057</td>\n",
       "      <td>0.797984</td>\n",
       "      <td>0.002366</td>\n",
       "      <td>3</td>\n",
       "    </tr>\n",
       "    <tr>\n",
       "      <th>2</th>\n",
       "      <td>0.025</td>\n",
       "      <td>2.0</td>\n",
       "      <td>1.50</td>\n",
       "      <td>-6.032308</td>\n",
       "      <td>0.002768</td>\n",
       "      <td>2.249799</td>\n",
       "      <td>0.000052</td>\n",
       "      <td>-8.282108</td>\n",
       "      <td>0.002719</td>\n",
       "      <td>-0.861779</td>\n",
       "      <td>0.003178</td>\n",
       "      <td>1.516954</td>\n",
       "      <td>0.003783</td>\n",
       "      <td>3</td>\n",
       "    </tr>\n",
       "    <tr>\n",
       "      <th>3</th>\n",
       "      <td>0.025</td>\n",
       "      <td>3.0</td>\n",
       "      <td>0.73</td>\n",
       "      <td>-6.612618</td>\n",
       "      <td>0.001000</td>\n",
       "      <td>1.092973</td>\n",
       "      <td>0.000013</td>\n",
       "      <td>-7.705591</td>\n",
       "      <td>0.001011</td>\n",
       "      <td>-0.523294</td>\n",
       "      <td>0.000490</td>\n",
       "      <td>0.648397</td>\n",
       "      <td>0.000426</td>\n",
       "      <td>3</td>\n",
       "    </tr>\n",
       "    <tr>\n",
       "      <th>4</th>\n",
       "      <td>0.025</td>\n",
       "      <td>3.0</td>\n",
       "      <td>0.85</td>\n",
       "      <td>-6.305132</td>\n",
       "      <td>0.000576</td>\n",
       "      <td>1.274889</td>\n",
       "      <td>0.000029</td>\n",
       "      <td>-7.580020</td>\n",
       "      <td>0.000598</td>\n",
       "      <td>-0.416348</td>\n",
       "      <td>0.000971</td>\n",
       "      <td>0.789960</td>\n",
       "      <td>0.000929</td>\n",
       "      <td>3</td>\n",
       "    </tr>\n",
       "  </tbody>\n",
       "</table>\n",
       "</div>"
      ],
      "text/plain": [
       "    dens  rad_r  temp_r         E      E_SE        KE     KE_SE        PE  \\\n",
       "0  0.025    2.0    0.73 -7.846519  0.002239  1.092976  0.000025 -8.939495   \n",
       "1  0.025    2.0    0.85 -7.551774  0.001048  1.274901  0.000017 -8.826675   \n",
       "2  0.025    2.0    1.50 -6.032308  0.002768  2.249799  0.000052 -8.282108   \n",
       "3  0.025    3.0    0.73 -6.612618  0.001000  1.092973  0.000013 -7.705591   \n",
       "4  0.025    3.0    0.85 -6.305132  0.000576  1.274889  0.000029 -7.580020   \n",
       "\n",
       "      PE_SE   PV_N_x1  PV_N_x1_SE   PV_N_x3  PV_N_x3_SE  size  \n",
       "0  0.002263 -1.731388    0.001571  0.656239    0.001178     3  \n",
       "1  0.001033 -1.597697    0.002057  0.797984    0.002366     3  \n",
       "2  0.002719 -0.861779    0.003178  1.516954    0.003783     3  \n",
       "3  0.001011 -0.523294    0.000490  0.648397    0.000426     3  \n",
       "4  0.000598 -0.416348    0.000971  0.789960    0.000929     3  "
      ]
     },
     "execution_count": 155,
     "metadata": {},
     "output_type": "execute_result"
    }
   ],
   "source": [
    "df_thermo.head()"
   ]
  },
  {
   "cell_type": "code",
   "execution_count": 156,
   "metadata": {
    "collapsed": false
   },
   "outputs": [],
   "source": [
    "df_merged = pd.merge(left=df_ave, right=df_thermo, on=['dens','rad_r','temp_r'], how='left')"
   ]
  },
  {
   "cell_type": "code",
   "execution_count": 157,
   "metadata": {
    "collapsed": false
   },
   "outputs": [
    {
     "data": {
      "text/html": [
       "<div>\n",
       "<table border=\"1\" class=\"dataframe\">\n",
       "  <thead>\n",
       "    <tr style=\"text-align: right;\">\n",
       "      <th></th>\n",
       "      <th>dens</th>\n",
       "      <th>rad_r</th>\n",
       "      <th>temp_r</th>\n",
       "      <th>DZ</th>\n",
       "      <th>DZ_SE</th>\n",
       "      <th>size_x</th>\n",
       "      <th>E</th>\n",
       "      <th>E_SE</th>\n",
       "      <th>KE</th>\n",
       "      <th>KE_SE</th>\n",
       "      <th>PE</th>\n",
       "      <th>PE_SE</th>\n",
       "      <th>PV_N_x1</th>\n",
       "      <th>PV_N_x1_SE</th>\n",
       "      <th>PV_N_x3</th>\n",
       "      <th>PV_N_x3_SE</th>\n",
       "      <th>size_y</th>\n",
       "    </tr>\n",
       "  </thead>\n",
       "  <tbody>\n",
       "    <tr>\n",
       "      <th>0</th>\n",
       "      <td>0.025</td>\n",
       "      <td>2.0</td>\n",
       "      <td>0.73</td>\n",
       "      <td>26.467276</td>\n",
       "      <td>1.698529</td>\n",
       "      <td>3</td>\n",
       "      <td>-7.846519</td>\n",
       "      <td>0.002239</td>\n",
       "      <td>1.092976</td>\n",
       "      <td>0.000025</td>\n",
       "      <td>-8.939495</td>\n",
       "      <td>0.002263</td>\n",
       "      <td>-1.731388</td>\n",
       "      <td>0.001571</td>\n",
       "      <td>0.656239</td>\n",
       "      <td>0.001178</td>\n",
       "      <td>3</td>\n",
       "    </tr>\n",
       "    <tr>\n",
       "      <th>1</th>\n",
       "      <td>0.025</td>\n",
       "      <td>2.0</td>\n",
       "      <td>0.85</td>\n",
       "      <td>29.087343</td>\n",
       "      <td>2.039595</td>\n",
       "      <td>3</td>\n",
       "      <td>-7.551774</td>\n",
       "      <td>0.001048</td>\n",
       "      <td>1.274901</td>\n",
       "      <td>0.000017</td>\n",
       "      <td>-8.826675</td>\n",
       "      <td>0.001033</td>\n",
       "      <td>-1.597697</td>\n",
       "      <td>0.002057</td>\n",
       "      <td>0.797984</td>\n",
       "      <td>0.002366</td>\n",
       "      <td>3</td>\n",
       "    </tr>\n",
       "    <tr>\n",
       "      <th>2</th>\n",
       "      <td>0.025</td>\n",
       "      <td>2.0</td>\n",
       "      <td>1.50</td>\n",
       "      <td>34.868425</td>\n",
       "      <td>2.202941</td>\n",
       "      <td>3</td>\n",
       "      <td>-6.032308</td>\n",
       "      <td>0.002768</td>\n",
       "      <td>2.249799</td>\n",
       "      <td>0.000052</td>\n",
       "      <td>-8.282108</td>\n",
       "      <td>0.002719</td>\n",
       "      <td>-0.861779</td>\n",
       "      <td>0.003178</td>\n",
       "      <td>1.516954</td>\n",
       "      <td>0.003783</td>\n",
       "      <td>3</td>\n",
       "    </tr>\n",
       "    <tr>\n",
       "      <th>3</th>\n",
       "      <td>0.025</td>\n",
       "      <td>3.0</td>\n",
       "      <td>0.73</td>\n",
       "      <td>6.707699</td>\n",
       "      <td>0.379430</td>\n",
       "      <td>3</td>\n",
       "      <td>-6.612618</td>\n",
       "      <td>0.001000</td>\n",
       "      <td>1.092973</td>\n",
       "      <td>0.000013</td>\n",
       "      <td>-7.705591</td>\n",
       "      <td>0.001011</td>\n",
       "      <td>-0.523294</td>\n",
       "      <td>0.000490</td>\n",
       "      <td>0.648397</td>\n",
       "      <td>0.000426</td>\n",
       "      <td>3</td>\n",
       "    </tr>\n",
       "    <tr>\n",
       "      <th>4</th>\n",
       "      <td>0.025</td>\n",
       "      <td>3.0</td>\n",
       "      <td>0.85</td>\n",
       "      <td>5.772236</td>\n",
       "      <td>0.141176</td>\n",
       "      <td>3</td>\n",
       "      <td>-6.305132</td>\n",
       "      <td>0.000576</td>\n",
       "      <td>1.274889</td>\n",
       "      <td>0.000029</td>\n",
       "      <td>-7.580020</td>\n",
       "      <td>0.000598</td>\n",
       "      <td>-0.416348</td>\n",
       "      <td>0.000971</td>\n",
       "      <td>0.789960</td>\n",
       "      <td>0.000929</td>\n",
       "      <td>3</td>\n",
       "    </tr>\n",
       "  </tbody>\n",
       "</table>\n",
       "</div>"
      ],
      "text/plain": [
       "    dens  rad_r  temp_r         DZ     DZ_SE  size_x         E      E_SE  \\\n",
       "0  0.025    2.0    0.73  26.467276  1.698529       3 -7.846519  0.002239   \n",
       "1  0.025    2.0    0.85  29.087343  2.039595       3 -7.551774  0.001048   \n",
       "2  0.025    2.0    1.50  34.868425  2.202941       3 -6.032308  0.002768   \n",
       "3  0.025    3.0    0.73   6.707699  0.379430       3 -6.612618  0.001000   \n",
       "4  0.025    3.0    0.85   5.772236  0.141176       3 -6.305132  0.000576   \n",
       "\n",
       "         KE     KE_SE        PE     PE_SE   PV_N_x1  PV_N_x1_SE   PV_N_x3  \\\n",
       "0  1.092976  0.000025 -8.939495  0.002263 -1.731388    0.001571  0.656239   \n",
       "1  1.274901  0.000017 -8.826675  0.001033 -1.597697    0.002057  0.797984   \n",
       "2  2.249799  0.000052 -8.282108  0.002719 -0.861779    0.003178  1.516954   \n",
       "3  1.092973  0.000013 -7.705591  0.001011 -0.523294    0.000490  0.648397   \n",
       "4  1.274889  0.000029 -7.580020  0.000598 -0.416348    0.000971  0.789960   \n",
       "\n",
       "   PV_N_x3_SE  size_y  \n",
       "0    0.001178       3  \n",
       "1    0.002366       3  \n",
       "2    0.003783       3  \n",
       "3    0.000426       3  \n",
       "4    0.000929       3  "
      ]
     },
     "execution_count": 157,
     "metadata": {},
     "output_type": "execute_result"
    }
   ],
   "source": [
    "df_merged.head()"
   ]
  },
  {
   "cell_type": "code",
   "execution_count": 158,
   "metadata": {
    "collapsed": false
   },
   "outputs": [],
   "source": [
    "df_merged['Z_Z'] = df_merged.PV_N_x3 / df_merged.temp_r"
   ]
  },
  {
   "cell_type": "markdown",
   "metadata": {},
   "source": [
    "# plotting the data"
   ]
  },
  {
   "cell_type": "code",
   "execution_count": 159,
   "metadata": {
    "collapsed": true
   },
   "outputs": [],
   "source": [
    "%matplotlib inline\n",
    "import matplotlib.pyplot as plt\n",
    "import my_utilities.matplotlib.utilities as pltUtils"
   ]
  },
  {
   "cell_type": "code",
   "execution_count": 160,
   "metadata": {
    "collapsed": true
   },
   "outputs": [],
   "source": [
    "# limit data\n",
    "df = df_merged.query('DZ > 5e-3')"
   ]
  },
  {
   "cell_type": "markdown",
   "metadata": {},
   "source": [
    "## diffusion"
   ]
  },
  {
   "cell_type": "code",
   "execution_count": 161,
   "metadata": {
    "collapsed": false
   },
   "outputs": [
    {
     "data": {
      "text/plain": [
       "<matplotlib.text.Text at 0x11a6f5910>"
      ]
     },
     "execution_count": 161,
     "metadata": {},
     "output_type": "execute_result"
    },
    {
     "data": {
      "image/png": "[encoded data removed]",
      "text/plain": [
       "<matplotlib.figure.Figure at 0x11a65be90>"
      ]
     },
     "metadata": {},
     "output_type": "display_data"
    }
   ],
   "source": [
    "# single point\n",
    "t = df.query('rad_r==4.0 and temp_r==0.85')\n",
    "plt.plot(t.dens, t.DZ,'o')\n",
    "plt.yscale('log')\n",
    "plt.xlabel(r'$\\rho\\sigma^3$')\n",
    "plt.ylabel(r'$D_z$')"
   ]
  },
  {
   "cell_type": "markdown",
   "metadata": {},
   "source": [
    "* For given temperature, want to plot diffusion vs density for all pore sizes with different colors\n",
    "* groupby to the rescue!"
   ]
  },
  {
   "cell_type": "code",
   "execution_count": 162,
   "metadata": {
    "collapsed": true
   },
   "outputs": [],
   "source": [
    "COLORLIST = [u'b', u'g', u'r', u'c', u'm', u'y', u'k','orange']\n",
    "MARKERLIST = ['o', 's','D','v', '^', '<', '>',\n",
    "             '8',  'p', '*', 'h', 'H', 'd']*10\n",
    "\n",
    "rad = df.rad_r.unique()\n",
    "color_dict = dict(zip(rad,COLORLIST))\n",
    "marker_dict = dict(zip(rad,MARKERLIST))\n",
    "\n",
    "def plot_color(x,y, rad, ax, **kwargs):\n",
    "    ax.plot(x, y, color=color_dict[rad], marker=marker_dict[rad], label='%.2f'%rad, **kwargs)"
   ]
  },
  {
   "cell_type": "code",
   "execution_count": 163,
   "metadata": {
    "collapsed": false
   },
   "outputs": [
    {
     "data": {
      "image/png": "[encoded data removed]",
      "text/plain": [
       "<matplotlib.figure.Figure at 0x116a53110>"
      ]
     },
     "metadata": {},
     "output_type": "display_data"
    }
   ],
   "source": [
    "fig, axs = plt.subplots(nrows=1, ncols=5, sharex=True, sharey=True, figsize=(8,2.5))\n",
    "fig.subplots_adjust(left=0.2,right=0.95,bottom=0.2,wspace=0.1)\n",
    "\n",
    "for ax,(temp,g) in zip(axs, df.groupby('temp_r')):\n",
    "    ax.set_title(r'$k_B T/\\epsilon  = %.2f$'%temp)\n",
    "    \n",
    "    for rad_r,gg in g.groupby('rad_r'):\n",
    "        color = color_dict[rad_r]\n",
    "        marker = marker_dict[rad_r]\n",
    "        plot_color(gg.dens, gg.DZ, rad_r, ax)\n",
    "    \n",
    "    \n",
    "    ax.set_yscale('log')\n",
    "    \n",
    "\n",
    "axs[0].set_ylabel(r'$D_Z (\\sigma^2 \\epsilon/m)^{-1/2}$')\n",
    "axs[2].set_xlabel(r'$\\rho\\sigma^3$')\n",
    "\n",
    "axs[1].legend(loc='upper right',title=r'$R/\\sigma$',fontsize=6)\n",
    "pltUtils.set_axis_params(axs,dx=0.2)"
   ]
  },
  {
   "cell_type": "code",
   "execution_count": 164,
   "metadata": {
    "collapsed": true
   },
   "outputs": [],
   "source": [
    "fig.savefig('tmp.pdf')"
   ]
  },
  {
   "cell_type": "markdown",
   "metadata": {},
   "source": [
    "## Compressibility factor"
   ]
  },
  {
   "cell_type": "code",
   "execution_count": 165,
   "metadata": {
    "collapsed": false
   },
   "outputs": [
    {
     "data": {
      "image/png": "[encoded data removed]",
      "text/plain": [
       "<matplotlib.figure.Figure at 0x11dba4150>"
      ]
     },
     "metadata": {},
     "output_type": "display_data"
    }
   ],
   "source": [
    "fig, axs = plt.subplots(nrows=1, ncols=5, sharex=True, sharey=True, figsize=(8,2.5))\n",
    "fig.subplots_adjust(left=0.2,right=0.95,bottom=0.2,wspace=0.1)\n",
    "\n",
    "for ax,(temp,g) in zip(axs, df.groupby('temp_r')):\n",
    "    ax.set_title(r'$k_B T/\\epsilon  = %.2f$'%temp)\n",
    "    for rad_r,gg in g.groupby('rad_r'):\n",
    "        plot_color(gg.dens, gg.Z_Z, rad_r, ax)\n",
    "    \n",
    "    \n",
    "axs[1].legend(loc=0, title=r'$R/\\sigma$')\n",
    "axs[0].set_ylabel(r'$\\beta P/\\rho$')\n",
    "axs[2].set_xlabel(r'$\\rho\\sigma^3$')\n",
    "pltUtils.set_axis_params(axs,dx=0.2)"
   ]
  },
  {
   "cell_type": "markdown",
   "metadata": {},
   "source": [
    " * back to our task: Diffusion vs compressibility factor"
   ]
  },
  {
   "cell_type": "code",
   "execution_count": 166,
   "metadata": {
    "collapsed": false
   },
   "outputs": [
    {
     "data": {
      "image/png": "[encoded data removed]",
      "text/plain": [
       "<matplotlib.figure.Figure at 0x11ecf1f10>"
      ]
     },
     "metadata": {},
     "output_type": "display_data"
    }
   ],
   "source": [
    "fig, axs = plt.subplots(nrows=1, ncols=5, sharex=False, sharey=True, figsize=(8,2.5))\n",
    "fig.subplots_adjust(left=0.2,right=0.95,bottom=0.2,wspace=0.1)\n",
    "\n",
    "axs[0].set_yscale('log')\n",
    "#axs[0].set_xscale('log')\n",
    "\n",
    "for ax,(temp,g) in zip(axs, df.groupby('temp_r')):\n",
    "    ax.set_title(r'$k_B T/\\epsilon  = %.2f$'%temp)\n",
    "    for rad_r,gg in g.groupby('rad_r'):\n",
    "        plot_color(gg.dens, gg.DZ / np.sqrt(gg.temp_r), rad_r, ax)\n",
    "    \n",
    "    \n",
    "axs[1].legend(loc=0, title=r'$R/\\sigma$')\n",
    "axs[0].set_ylabel(r'$D^*$')\n",
    "axs[2].set_xlabel(r'$\\beta P_z/\\rho$')\n",
    "\n",
    "max_xticks = 3\n",
    "for a in axs:\n",
    "    a.set_xlim(left=0.0)\n",
    "    xloc = plt.MaxNLocator(max_xticks)\n",
    "    a.xaxis.set_major_locator(xloc)\n"
   ]
  },
  {
   "cell_type": "markdown",
   "metadata": {},
   "source": [
    "# storing data\n",
    "\n",
    " * csv files are nice and simple\n",
    " * It can be a pain keeping track of tens or more of csv files\n",
    " * In this case, pytables is a better option"
   ]
  },
  {
   "cell_type": "code",
   "execution_count": 167,
   "metadata": {
    "collapsed": false
   },
   "outputs": [
    {
     "data": {
      "text/html": [
       "<div>\n",
       "<table border=\"1\" class=\"dataframe\">\n",
       "  <thead>\n",
       "    <tr style=\"text-align: right;\">\n",
       "      <th></th>\n",
       "      <th>dens</th>\n",
       "      <th>rad_r</th>\n",
       "      <th>temp_r</th>\n",
       "      <th>DZ</th>\n",
       "      <th>DZ_SE</th>\n",
       "      <th>size</th>\n",
       "    </tr>\n",
       "  </thead>\n",
       "  <tbody>\n",
       "    <tr>\n",
       "      <th>0</th>\n",
       "      <td>0.025</td>\n",
       "      <td>2.0</td>\n",
       "      <td>0.73</td>\n",
       "      <td>26.467276</td>\n",
       "      <td>1.698529</td>\n",
       "      <td>3</td>\n",
       "    </tr>\n",
       "    <tr>\n",
       "      <th>1</th>\n",
       "      <td>0.025</td>\n",
       "      <td>2.0</td>\n",
       "      <td>0.85</td>\n",
       "      <td>29.087343</td>\n",
       "      <td>2.039595</td>\n",
       "      <td>3</td>\n",
       "    </tr>\n",
       "    <tr>\n",
       "      <th>2</th>\n",
       "      <td>0.025</td>\n",
       "      <td>2.0</td>\n",
       "      <td>1.50</td>\n",
       "      <td>34.868425</td>\n",
       "      <td>2.202941</td>\n",
       "      <td>3</td>\n",
       "    </tr>\n",
       "    <tr>\n",
       "      <th>3</th>\n",
       "      <td>0.025</td>\n",
       "      <td>3.0</td>\n",
       "      <td>0.73</td>\n",
       "      <td>6.707699</td>\n",
       "      <td>0.379430</td>\n",
       "      <td>3</td>\n",
       "    </tr>\n",
       "    <tr>\n",
       "      <th>4</th>\n",
       "      <td>0.025</td>\n",
       "      <td>3.0</td>\n",
       "      <td>0.85</td>\n",
       "      <td>5.772236</td>\n",
       "      <td>0.141176</td>\n",
       "      <td>3</td>\n",
       "    </tr>\n",
       "  </tbody>\n",
       "</table>\n",
       "</div>"
      ],
      "text/plain": [
       "    dens  rad_r  temp_r         DZ     DZ_SE  size\n",
       "0  0.025    2.0    0.73  26.467276  1.698529     3\n",
       "1  0.025    2.0    0.85  29.087343  2.039595     3\n",
       "2  0.025    2.0    1.50  34.868425  2.202941     3\n",
       "3  0.025    3.0    0.73   6.707699  0.379430     3\n",
       "4  0.025    3.0    0.85   5.772236  0.141176     3"
      ]
     },
     "execution_count": 167,
     "metadata": {},
     "output_type": "execute_result"
    }
   ],
   "source": [
    "df_ave.head()"
   ]
  },
  {
   "cell_type": "code",
   "execution_count": 168,
   "metadata": {
    "collapsed": false
   },
   "outputs": [
    {
     "data": {
      "text/html": [
       "<div>\n",
       "<table border=\"1\" class=\"dataframe\">\n",
       "  <thead>\n",
       "    <tr style=\"text-align: right;\">\n",
       "      <th></th>\n",
       "      <th>dens</th>\n",
       "      <th>rad_r</th>\n",
       "      <th>temp_r</th>\n",
       "      <th>E</th>\n",
       "      <th>E_SE</th>\n",
       "      <th>KE</th>\n",
       "      <th>KE_SE</th>\n",
       "      <th>PE</th>\n",
       "      <th>PE_SE</th>\n",
       "      <th>PV_N_x1</th>\n",
       "      <th>PV_N_x1_SE</th>\n",
       "      <th>PV_N_x3</th>\n",
       "      <th>PV_N_x3_SE</th>\n",
       "      <th>size</th>\n",
       "    </tr>\n",
       "  </thead>\n",
       "  <tbody>\n",
       "    <tr>\n",
       "      <th>0</th>\n",
       "      <td>0.025</td>\n",
       "      <td>2.0</td>\n",
       "      <td>0.73</td>\n",
       "      <td>-7.846519</td>\n",
       "      <td>0.002239</td>\n",
       "      <td>1.092976</td>\n",
       "      <td>0.000025</td>\n",
       "      <td>-8.939495</td>\n",
       "      <td>0.002263</td>\n",
       "      <td>-1.731388</td>\n",
       "      <td>0.001571</td>\n",
       "      <td>0.656239</td>\n",
       "      <td>0.001178</td>\n",
       "      <td>3</td>\n",
       "    </tr>\n",
       "    <tr>\n",
       "      <th>1</th>\n",
       "      <td>0.025</td>\n",
       "      <td>2.0</td>\n",
       "      <td>0.85</td>\n",
       "      <td>-7.551774</td>\n",
       "      <td>0.001048</td>\n",
       "      <td>1.274901</td>\n",
       "      <td>0.000017</td>\n",
       "      <td>-8.826675</td>\n",
       "      <td>0.001033</td>\n",
       "      <td>-1.597697</td>\n",
       "      <td>0.002057</td>\n",
       "      <td>0.797984</td>\n",
       "      <td>0.002366</td>\n",
       "      <td>3</td>\n",
       "    </tr>\n",
       "    <tr>\n",
       "      <th>2</th>\n",
       "      <td>0.025</td>\n",
       "      <td>2.0</td>\n",
       "      <td>1.50</td>\n",
       "      <td>-6.032308</td>\n",
       "      <td>0.002768</td>\n",
       "      <td>2.249799</td>\n",
       "      <td>0.000052</td>\n",
       "      <td>-8.282108</td>\n",
       "      <td>0.002719</td>\n",
       "      <td>-0.861779</td>\n",
       "      <td>0.003178</td>\n",
       "      <td>1.516954</td>\n",
       "      <td>0.003783</td>\n",
       "      <td>3</td>\n",
       "    </tr>\n",
       "    <tr>\n",
       "      <th>3</th>\n",
       "      <td>0.025</td>\n",
       "      <td>3.0</td>\n",
       "      <td>0.73</td>\n",
       "      <td>-6.612618</td>\n",
       "      <td>0.001000</td>\n",
       "      <td>1.092973</td>\n",
       "      <td>0.000013</td>\n",
       "      <td>-7.705591</td>\n",
       "      <td>0.001011</td>\n",
       "      <td>-0.523294</td>\n",
       "      <td>0.000490</td>\n",
       "      <td>0.648397</td>\n",
       "      <td>0.000426</td>\n",
       "      <td>3</td>\n",
       "    </tr>\n",
       "    <tr>\n",
       "      <th>4</th>\n",
       "      <td>0.025</td>\n",
       "      <td>3.0</td>\n",
       "      <td>0.85</td>\n",
       "      <td>-6.305132</td>\n",
       "      <td>0.000576</td>\n",
       "      <td>1.274889</td>\n",
       "      <td>0.000029</td>\n",
       "      <td>-7.580020</td>\n",
       "      <td>0.000598</td>\n",
       "      <td>-0.416348</td>\n",
       "      <td>0.000971</td>\n",
       "      <td>0.789960</td>\n",
       "      <td>0.000929</td>\n",
       "      <td>3</td>\n",
       "    </tr>\n",
       "  </tbody>\n",
       "</table>\n",
       "</div>"
      ],
      "text/plain": [
       "    dens  rad_r  temp_r         E      E_SE        KE     KE_SE        PE  \\\n",
       "0  0.025    2.0    0.73 -7.846519  0.002239  1.092976  0.000025 -8.939495   \n",
       "1  0.025    2.0    0.85 -7.551774  0.001048  1.274901  0.000017 -8.826675   \n",
       "2  0.025    2.0    1.50 -6.032308  0.002768  2.249799  0.000052 -8.282108   \n",
       "3  0.025    3.0    0.73 -6.612618  0.001000  1.092973  0.000013 -7.705591   \n",
       "4  0.025    3.0    0.85 -6.305132  0.000576  1.274889  0.000029 -7.580020   \n",
       "\n",
       "      PE_SE   PV_N_x1  PV_N_x1_SE   PV_N_x3  PV_N_x3_SE  size  \n",
       "0  0.002263 -1.731388    0.001571  0.656239    0.001178     3  \n",
       "1  0.001033 -1.597697    0.002057  0.797984    0.002366     3  \n",
       "2  0.002719 -0.861779    0.003178  1.516954    0.003783     3  \n",
       "3  0.001011 -0.523294    0.000490  0.648397    0.000426     3  \n",
       "4  0.000598 -0.416348    0.000971  0.789960    0.000929     3  "
      ]
     },
     "execution_count": 168,
     "metadata": {},
     "output_type": "execute_result"
    }
   ],
   "source": [
    "df_thermo.head()"
   ]
  },
  {
   "cell_type": "code",
   "execution_count": 171,
   "metadata": {
    "collapsed": true
   },
   "outputs": [],
   "source": [
    "df_ave.to_hdf('sim_data.h5','diffusion')\n",
    "df_thermo.to_hdf('sim_data.h5','thermo')"
   ]
  },
  {
   "cell_type": "code",
   "execution_count": 173,
   "metadata": {
    "collapsed": false
   },
   "outputs": [
    {
     "name": "stdout",
     "output_type": "stream",
     "text": [
      "<class 'pandas.io.pytables.HDFStore'>\n",
      "File path: sim_data.h5\n",
      "/diffusion            frame        (shape->[727,6]) \n",
      "/thermo               frame        (shape->[727,14])\n"
     ]
    }
   ],
   "source": [
    "with pd.HDFStore('sim_data.h5') as h5:\n",
    "    print h5\n",
    "    d = h5['/diffusion']\n",
    "    t = h5['/thermo']"
   ]
  },
  {
   "cell_type": "code",
   "execution_count": 174,
   "metadata": {
    "collapsed": false
   },
   "outputs": [
    {
     "data": {
      "text/html": [
       "<div>\n",
       "<table border=\"1\" class=\"dataframe\">\n",
       "  <thead>\n",
       "    <tr style=\"text-align: right;\">\n",
       "      <th></th>\n",
       "      <th>dens</th>\n",
       "      <th>rad_r</th>\n",
       "      <th>temp_r</th>\n",
       "      <th>DZ</th>\n",
       "      <th>DZ_SE</th>\n",
       "      <th>size</th>\n",
       "    </tr>\n",
       "  </thead>\n",
       "  <tbody>\n",
       "    <tr>\n",
       "      <th>0</th>\n",
       "      <td>0.025</td>\n",
       "      <td>2.0</td>\n",
       "      <td>0.73</td>\n",
       "      <td>26.467276</td>\n",
       "      <td>1.698529</td>\n",
       "      <td>3</td>\n",
       "    </tr>\n",
       "    <tr>\n",
       "      <th>1</th>\n",
       "      <td>0.025</td>\n",
       "      <td>2.0</td>\n",
       "      <td>0.85</td>\n",
       "      <td>29.087343</td>\n",
       "      <td>2.039595</td>\n",
       "      <td>3</td>\n",
       "    </tr>\n",
       "    <tr>\n",
       "      <th>2</th>\n",
       "      <td>0.025</td>\n",
       "      <td>2.0</td>\n",
       "      <td>1.50</td>\n",
       "      <td>34.868425</td>\n",
       "      <td>2.202941</td>\n",
       "      <td>3</td>\n",
       "    </tr>\n",
       "    <tr>\n",
       "      <th>3</th>\n",
       "      <td>0.025</td>\n",
       "      <td>3.0</td>\n",
       "      <td>0.73</td>\n",
       "      <td>6.707699</td>\n",
       "      <td>0.379430</td>\n",
       "      <td>3</td>\n",
       "    </tr>\n",
       "    <tr>\n",
       "      <th>4</th>\n",
       "      <td>0.025</td>\n",
       "      <td>3.0</td>\n",
       "      <td>0.85</td>\n",
       "      <td>5.772236</td>\n",
       "      <td>0.141176</td>\n",
       "      <td>3</td>\n",
       "    </tr>\n",
       "  </tbody>\n",
       "</table>\n",
       "</div>"
      ],
      "text/plain": [
       "    dens  rad_r  temp_r         DZ     DZ_SE  size\n",
       "0  0.025    2.0    0.73  26.467276  1.698529     3\n",
       "1  0.025    2.0    0.85  29.087343  2.039595     3\n",
       "2  0.025    2.0    1.50  34.868425  2.202941     3\n",
       "3  0.025    3.0    0.73   6.707699  0.379430     3\n",
       "4  0.025    3.0    0.85   5.772236  0.141176     3"
      ]
     },
     "execution_count": 174,
     "metadata": {},
     "output_type": "execute_result"
    }
   ],
   "source": [
    "d.head()"
   ]
  },
  {
   "cell_type": "code",
   "execution_count": 175,
   "metadata": {
    "collapsed": false
   },
   "outputs": [
    {
     "data": {
      "text/html": [
       "<div>\n",
       "<table border=\"1\" class=\"dataframe\">\n",
       "  <thead>\n",
       "    <tr style=\"text-align: right;\">\n",
       "      <th></th>\n",
       "      <th>dens</th>\n",
       "      <th>rad_r</th>\n",
       "      <th>temp_r</th>\n",
       "      <th>E</th>\n",
       "      <th>E_SE</th>\n",
       "      <th>KE</th>\n",
       "      <th>KE_SE</th>\n",
       "      <th>PE</th>\n",
       "      <th>PE_SE</th>\n",
       "      <th>PV_N_x1</th>\n",
       "      <th>PV_N_x1_SE</th>\n",
       "      <th>PV_N_x3</th>\n",
       "      <th>PV_N_x3_SE</th>\n",
       "      <th>size</th>\n",
       "    </tr>\n",
       "  </thead>\n",
       "  <tbody>\n",
       "    <tr>\n",
       "      <th>0</th>\n",
       "      <td>0.025</td>\n",
       "      <td>2.0</td>\n",
       "      <td>0.73</td>\n",
       "      <td>-7.846519</td>\n",
       "      <td>0.002239</td>\n",
       "      <td>1.092976</td>\n",
       "      <td>0.000025</td>\n",
       "      <td>-8.939495</td>\n",
       "      <td>0.002263</td>\n",
       "      <td>-1.731388</td>\n",
       "      <td>0.001571</td>\n",
       "      <td>0.656239</td>\n",
       "      <td>0.001178</td>\n",
       "      <td>3</td>\n",
       "    </tr>\n",
       "    <tr>\n",
       "      <th>1</th>\n",
       "      <td>0.025</td>\n",
       "      <td>2.0</td>\n",
       "      <td>0.85</td>\n",
       "      <td>-7.551774</td>\n",
       "      <td>0.001048</td>\n",
       "      <td>1.274901</td>\n",
       "      <td>0.000017</td>\n",
       "      <td>-8.826675</td>\n",
       "      <td>0.001033</td>\n",
       "      <td>-1.597697</td>\n",
       "      <td>0.002057</td>\n",
       "      <td>0.797984</td>\n",
       "      <td>0.002366</td>\n",
       "      <td>3</td>\n",
       "    </tr>\n",
       "    <tr>\n",
       "      <th>2</th>\n",
       "      <td>0.025</td>\n",
       "      <td>2.0</td>\n",
       "      <td>1.50</td>\n",
       "      <td>-6.032308</td>\n",
       "      <td>0.002768</td>\n",
       "      <td>2.249799</td>\n",
       "      <td>0.000052</td>\n",
       "      <td>-8.282108</td>\n",
       "      <td>0.002719</td>\n",
       "      <td>-0.861779</td>\n",
       "      <td>0.003178</td>\n",
       "      <td>1.516954</td>\n",
       "      <td>0.003783</td>\n",
       "      <td>3</td>\n",
       "    </tr>\n",
       "    <tr>\n",
       "      <th>3</th>\n",
       "      <td>0.025</td>\n",
       "      <td>3.0</td>\n",
       "      <td>0.73</td>\n",
       "      <td>-6.612618</td>\n",
       "      <td>0.001000</td>\n",
       "      <td>1.092973</td>\n",
       "      <td>0.000013</td>\n",
       "      <td>-7.705591</td>\n",
       "      <td>0.001011</td>\n",
       "      <td>-0.523294</td>\n",
       "      <td>0.000490</td>\n",
       "      <td>0.648397</td>\n",
       "      <td>0.000426</td>\n",
       "      <td>3</td>\n",
       "    </tr>\n",
       "    <tr>\n",
       "      <th>4</th>\n",
       "      <td>0.025</td>\n",
       "      <td>3.0</td>\n",
       "      <td>0.85</td>\n",
       "      <td>-6.305132</td>\n",
       "      <td>0.000576</td>\n",
       "      <td>1.274889</td>\n",
       "      <td>0.000029</td>\n",
       "      <td>-7.580020</td>\n",
       "      <td>0.000598</td>\n",
       "      <td>-0.416348</td>\n",
       "      <td>0.000971</td>\n",
       "      <td>0.789960</td>\n",
       "      <td>0.000929</td>\n",
       "      <td>3</td>\n",
       "    </tr>\n",
       "  </tbody>\n",
       "</table>\n",
       "</div>"
      ],
      "text/plain": [
       "    dens  rad_r  temp_r         E      E_SE        KE     KE_SE        PE  \\\n",
       "0  0.025    2.0    0.73 -7.846519  0.002239  1.092976  0.000025 -8.939495   \n",
       "1  0.025    2.0    0.85 -7.551774  0.001048  1.274901  0.000017 -8.826675   \n",
       "2  0.025    2.0    1.50 -6.032308  0.002768  2.249799  0.000052 -8.282108   \n",
       "3  0.025    3.0    0.73 -6.612618  0.001000  1.092973  0.000013 -7.705591   \n",
       "4  0.025    3.0    0.85 -6.305132  0.000576  1.274889  0.000029 -7.580020   \n",
       "\n",
       "      PE_SE   PV_N_x1  PV_N_x1_SE   PV_N_x3  PV_N_x3_SE  size  \n",
       "0  0.002263 -1.731388    0.001571  0.656239    0.001178     3  \n",
       "1  0.001033 -1.597697    0.002057  0.797984    0.002366     3  \n",
       "2  0.002719 -0.861779    0.003178  1.516954    0.003783     3  \n",
       "3  0.001011 -0.523294    0.000490  0.648397    0.000426     3  \n",
       "4  0.000598 -0.416348    0.000971  0.789960    0.000929     3  "
      ]
     },
     "execution_count": 175,
     "metadata": {},
     "output_type": "execute_result"
    }
   ],
   "source": [
    "t.head()"
   ]
  },
  {
   "cell_type": "markdown",
   "metadata": {},
   "source": [
    "# size/speed comparison"
   ]
  },
  {
   "cell_type": "code",
   "execution_count": 176,
   "metadata": {
    "collapsed": false
   },
   "outputs": [
    {
     "name": "stdout",
     "output_type": "stream",
     "text": [
      "-rw-r--r--  1 wpk  wpk    26M Jun 21 15:20 profiles.csv\n",
      "-rw-r--r--  1 wpk  wpk    12M Jun 21 15:21 profiles.h5\n"
     ]
    }
   ],
   "source": [
    "%%bash \n",
    "ls -lh profiles*"
   ]
  },
  {
   "cell_type": "code",
   "execution_count": 177,
   "metadata": {
    "collapsed": false
   },
   "outputs": [
    {
     "name": "stdout",
     "output_type": "stream",
     "text": [
      "1 loop, best of 3: 619 ms per loop\n"
     ]
    }
   ],
   "source": [
    "%timeit -n 1 df1 = pd.read_csv('profiles.csv')"
   ]
  },
  {
   "cell_type": "code",
   "execution_count": 178,
   "metadata": {
    "collapsed": false
   },
   "outputs": [
    {
     "name": "stdout",
     "output_type": "stream",
     "text": [
      "1 loop, best of 3: 89.4 ms per loop\n"
     ]
    }
   ],
   "source": [
    "%timeit -n 1 df2 = pd.read_hdf('profiles.h5','profiles')"
   ]
  },
  {
   "cell_type": "markdown",
   "metadata": {},
   "source": [
    "### Note: hdf5 storage is on disk.  That is, data is loaded on demand only!"
   ]
  },
  {
   "cell_type": "code",
   "execution_count": 179,
   "metadata": {
    "collapsed": true
   },
   "outputs": [],
   "source": [
    "h5 = pd.HDFStore('sim_data.h5')"
   ]
  },
  {
   "cell_type": "code",
   "execution_count": 180,
   "metadata": {
    "collapsed": false
   },
   "outputs": [
    {
     "data": {
      "text/html": [
       "<div>\n",
       "<table border=\"1\" class=\"dataframe\">\n",
       "  <thead>\n",
       "    <tr style=\"text-align: right;\">\n",
       "      <th></th>\n",
       "      <th>dens</th>\n",
       "      <th>rad_r</th>\n",
       "      <th>temp_r</th>\n",
       "      <th>DZ</th>\n",
       "      <th>DZ_SE</th>\n",
       "      <th>size</th>\n",
       "    </tr>\n",
       "  </thead>\n",
       "  <tbody>\n",
       "    <tr>\n",
       "      <th>0</th>\n",
       "      <td>0.025</td>\n",
       "      <td>2.0</td>\n",
       "      <td>0.73</td>\n",
       "      <td>26.467276</td>\n",
       "      <td>1.698529</td>\n",
       "      <td>3</td>\n",
       "    </tr>\n",
       "    <tr>\n",
       "      <th>1</th>\n",
       "      <td>0.025</td>\n",
       "      <td>2.0</td>\n",
       "      <td>0.85</td>\n",
       "      <td>29.087343</td>\n",
       "      <td>2.039595</td>\n",
       "      <td>3</td>\n",
       "    </tr>\n",
       "    <tr>\n",
       "      <th>2</th>\n",
       "      <td>0.025</td>\n",
       "      <td>2.0</td>\n",
       "      <td>1.50</td>\n",
       "      <td>34.868425</td>\n",
       "      <td>2.202941</td>\n",
       "      <td>3</td>\n",
       "    </tr>\n",
       "    <tr>\n",
       "      <th>3</th>\n",
       "      <td>0.025</td>\n",
       "      <td>3.0</td>\n",
       "      <td>0.73</td>\n",
       "      <td>6.707699</td>\n",
       "      <td>0.379430</td>\n",
       "      <td>3</td>\n",
       "    </tr>\n",
       "    <tr>\n",
       "      <th>4</th>\n",
       "      <td>0.025</td>\n",
       "      <td>3.0</td>\n",
       "      <td>0.85</td>\n",
       "      <td>5.772236</td>\n",
       "      <td>0.141176</td>\n",
       "      <td>3</td>\n",
       "    </tr>\n",
       "  </tbody>\n",
       "</table>\n",
       "</div>"
      ],
      "text/plain": [
       "    dens  rad_r  temp_r         DZ     DZ_SE  size\n",
       "0  0.025    2.0    0.73  26.467276  1.698529     3\n",
       "1  0.025    2.0    0.85  29.087343  2.039595     3\n",
       "2  0.025    2.0    1.50  34.868425  2.202941     3\n",
       "3  0.025    3.0    0.73   6.707699  0.379430     3\n",
       "4  0.025    3.0    0.85   5.772236  0.141176     3"
      ]
     },
     "execution_count": 180,
     "metadata": {},
     "output_type": "execute_result"
    }
   ],
   "source": [
    "h5['diffusion'].head()"
   ]
  },
  {
   "cell_type": "code",
   "execution_count": 181,
   "metadata": {
    "collapsed": false
   },
   "outputs": [
    {
     "data": {
      "text/html": [
       "<div>\n",
       "<table border=\"1\" class=\"dataframe\">\n",
       "  <thead>\n",
       "    <tr style=\"text-align: right;\">\n",
       "      <th></th>\n",
       "      <th>dens</th>\n",
       "      <th>rad_r</th>\n",
       "      <th>temp_r</th>\n",
       "      <th>E</th>\n",
       "      <th>E_SE</th>\n",
       "      <th>KE</th>\n",
       "      <th>KE_SE</th>\n",
       "      <th>PE</th>\n",
       "      <th>PE_SE</th>\n",
       "      <th>PV_N_x1</th>\n",
       "      <th>PV_N_x1_SE</th>\n",
       "      <th>PV_N_x3</th>\n",
       "      <th>PV_N_x3_SE</th>\n",
       "      <th>size</th>\n",
       "    </tr>\n",
       "  </thead>\n",
       "  <tbody>\n",
       "    <tr>\n",
       "      <th>0</th>\n",
       "      <td>0.025</td>\n",
       "      <td>2.0</td>\n",
       "      <td>0.73</td>\n",
       "      <td>-7.846519</td>\n",
       "      <td>0.002239</td>\n",
       "      <td>1.092976</td>\n",
       "      <td>0.000025</td>\n",
       "      <td>-8.939495</td>\n",
       "      <td>0.002263</td>\n",
       "      <td>-1.731388</td>\n",
       "      <td>0.001571</td>\n",
       "      <td>0.656239</td>\n",
       "      <td>0.001178</td>\n",
       "      <td>3</td>\n",
       "    </tr>\n",
       "    <tr>\n",
       "      <th>1</th>\n",
       "      <td>0.025</td>\n",
       "      <td>2.0</td>\n",
       "      <td>0.85</td>\n",
       "      <td>-7.551774</td>\n",
       "      <td>0.001048</td>\n",
       "      <td>1.274901</td>\n",
       "      <td>0.000017</td>\n",
       "      <td>-8.826675</td>\n",
       "      <td>0.001033</td>\n",
       "      <td>-1.597697</td>\n",
       "      <td>0.002057</td>\n",
       "      <td>0.797984</td>\n",
       "      <td>0.002366</td>\n",
       "      <td>3</td>\n",
       "    </tr>\n",
       "    <tr>\n",
       "      <th>2</th>\n",
       "      <td>0.025</td>\n",
       "      <td>2.0</td>\n",
       "      <td>1.50</td>\n",
       "      <td>-6.032308</td>\n",
       "      <td>0.002768</td>\n",
       "      <td>2.249799</td>\n",
       "      <td>0.000052</td>\n",
       "      <td>-8.282108</td>\n",
       "      <td>0.002719</td>\n",
       "      <td>-0.861779</td>\n",
       "      <td>0.003178</td>\n",
       "      <td>1.516954</td>\n",
       "      <td>0.003783</td>\n",
       "      <td>3</td>\n",
       "    </tr>\n",
       "    <tr>\n",
       "      <th>3</th>\n",
       "      <td>0.025</td>\n",
       "      <td>3.0</td>\n",
       "      <td>0.73</td>\n",
       "      <td>-6.612618</td>\n",
       "      <td>0.001000</td>\n",
       "      <td>1.092973</td>\n",
       "      <td>0.000013</td>\n",
       "      <td>-7.705591</td>\n",
       "      <td>0.001011</td>\n",
       "      <td>-0.523294</td>\n",
       "      <td>0.000490</td>\n",
       "      <td>0.648397</td>\n",
       "      <td>0.000426</td>\n",
       "      <td>3</td>\n",
       "    </tr>\n",
       "    <tr>\n",
       "      <th>4</th>\n",
       "      <td>0.025</td>\n",
       "      <td>3.0</td>\n",
       "      <td>0.85</td>\n",
       "      <td>-6.305132</td>\n",
       "      <td>0.000576</td>\n",
       "      <td>1.274889</td>\n",
       "      <td>0.000029</td>\n",
       "      <td>-7.580020</td>\n",
       "      <td>0.000598</td>\n",
       "      <td>-0.416348</td>\n",
       "      <td>0.000971</td>\n",
       "      <td>0.789960</td>\n",
       "      <td>0.000929</td>\n",
       "      <td>3</td>\n",
       "    </tr>\n",
       "  </tbody>\n",
       "</table>\n",
       "</div>"
      ],
      "text/plain": [
       "    dens  rad_r  temp_r         E      E_SE        KE     KE_SE        PE  \\\n",
       "0  0.025    2.0    0.73 -7.846519  0.002239  1.092976  0.000025 -8.939495   \n",
       "1  0.025    2.0    0.85 -7.551774  0.001048  1.274901  0.000017 -8.826675   \n",
       "2  0.025    2.0    1.50 -6.032308  0.002768  2.249799  0.000052 -8.282108   \n",
       "3  0.025    3.0    0.73 -6.612618  0.001000  1.092973  0.000013 -7.705591   \n",
       "4  0.025    3.0    0.85 -6.305132  0.000576  1.274889  0.000029 -7.580020   \n",
       "\n",
       "      PE_SE   PV_N_x1  PV_N_x1_SE   PV_N_x3  PV_N_x3_SE  size  \n",
       "0  0.002263 -1.731388    0.001571  0.656239    0.001178     3  \n",
       "1  0.001033 -1.597697    0.002057  0.797984    0.002366     3  \n",
       "2  0.002719 -0.861779    0.003178  1.516954    0.003783     3  \n",
       "3  0.001011 -0.523294    0.000490  0.648397    0.000426     3  \n",
       "4  0.000598 -0.416348    0.000971  0.789960    0.000929     3  "
      ]
     },
     "execution_count": 181,
     "metadata": {},
     "output_type": "execute_result"
    }
   ],
   "source": [
    "h5['thermo'].head()"
   ]
  },
  {
   "cell_type": "code",
   "execution_count": 182,
   "metadata": {
    "collapsed": true
   },
   "outputs": [],
   "source": [
    "h5.close()"
   ]
  },
  {
   "cell_type": "code",
   "execution_count": 183,
   "metadata": {
    "collapsed": false
   },
   "outputs": [
    {
     "data": {
      "text/plain": [
       "<class 'pandas.io.pytables.HDFStore'>\n",
       "File path: ./cyl_1043.h5\n",
       "/BH                                           frame_table  (typ->appendable,nrows->25,ncols->7,indexers->[index],dc->[rad_r,temp_r])                              \n",
       "/BH_profile                                   frame_table  (typ->appendable,nrows->654,ncols->6,indexers->[index],dc->[rad_r,temp_r])                             \n",
       "/coex                                         frame_table  (typ->appendable,nrows->16,ncols->8,indexers->[index])                                                 \n",
       "/diffusion                                    frame_table  (typ->appendable,nrows->846,ncols->10,indexers->[index],dc->[dens,rad_r,temp_r,tmin])                  \n",
       "/diffusion_slab                               frame_table  (typ->appendable,nrows->551,ncols->19,indexers->[index],dc->[dens,rad_r,temp_r,layer,grid_type])       \n",
       "/effective_diameter_from_potential            frame_table  (typ->appendable,nrows->150,ncols->12,indexers->[index],dc->[rad_r,temp_r,BF])                         \n",
       "/isotherms                                    frame_table  (typ->appendable,nrows->23090,ncols->9,indexers->[index],dc->[rad_r,temp_r,branch])                    \n",
       "/md_thermo                                    frame_table  (typ->appendable,nrows->720,ncols->21,indexers->[index],dc->[dens,rad_r,temp_r])                       \n",
       "/profile_bounds_fac                           series_table (typ->appendable,nrows->2,ncols->1,indexers->[index],dc->[values])                                     \n",
       "/profiles                                     frame_table  (typ->appendable,nrows->705281,ncols->5,indexers->[index],dc->[dens,rad_r,temp_r])                     \n",
       "/state_point_map                              frame_table  (typ->appendable,nrows->25,ncols->4,indexers->[index],dc->[rad_r,temp_r])                              \n",
       "/sxfx                                         frame_table  (typ->appendable,nrows->17172,ncols->8,indexers->[index],dc->[dens,rad_r,temp_r,ensemble,BF,reference])\n",
       "/tmmc                                         frame_table  (typ->appendable,nrows->6227,ncols->12,indexers->[index],dc->[dens,rad_r,temp_r,ensemble])             "
      ]
     },
     "execution_count": 183,
     "metadata": {},
     "output_type": "execute_result"
    }
   ],
   "source": [
    "h5 = pd.HDFStore('./cyl_1043.h5')\n",
    "h5"
   ]
  },
  {
   "cell_type": "code",
   "execution_count": 184,
   "metadata": {
    "collapsed": false
   },
   "outputs": [
    {
     "data": {
      "text/plain": [
       "['/BH',\n",
       " '/BH_profile',\n",
       " '/coex',\n",
       " '/diffusion',\n",
       " '/diffusion_slab',\n",
       " '/effective_diameter_from_potential',\n",
       " '/isotherms',\n",
       " '/md_thermo',\n",
       " '/profile_bounds_fac',\n",
       " '/profiles',\n",
       " '/state_point_map',\n",
       " '/sxfx',\n",
       " '/tmmc']"
      ]
     },
     "execution_count": 184,
     "metadata": {},
     "output_type": "execute_result"
    }
   ],
   "source": [
    "h5.keys()"
   ]
  },
  {
   "cell_type": "code",
   "execution_count": 185,
   "metadata": {
    "collapsed": true
   },
   "outputs": [],
   "source": [
    "import pyMods.SimDataV4 as SD"
   ]
  },
  {
   "cell_type": "code",
   "execution_count": 186,
   "metadata": {
    "collapsed": false
   },
   "outputs": [],
   "source": [
    "SD = SD.SimData(Coex=h5['coex'],\n",
    "           dfdic=dict(diffusion=h5['diffusion'],\n",
    "                      thermo=h5['md_thermo'],\n",
    "                      profiles=h5['profiles'],\n",
    "                     isotherms=h5['isotherms']),\n",
    "           StatePointMap=h5['state_point_map'],\n",
    "           **h5['profile_bounds_fac'].to_dict())"
   ]
  },
  {
   "cell_type": "code",
   "execution_count": 187,
   "metadata": {
    "collapsed": false
   },
   "outputs": [
    {
     "data": {
      "text/html": [
       "<div>\n",
       "<table border=\"1\" class=\"dataframe\">\n",
       "  <thead>\n",
       "    <tr style=\"text-align: right;\">\n",
       "      <th></th>\n",
       "      <th>dens</th>\n",
       "      <th>npart</th>\n",
       "      <th>rad</th>\n",
       "      <th>temp</th>\n",
       "      <th>tmin</th>\n",
       "      <th>DZ</th>\n",
       "      <th>DZ_SE</th>\n",
       "      <th>DZ_size</th>\n",
       "      <th>rad_r</th>\n",
       "      <th>temp_r</th>\n",
       "    </tr>\n",
       "  </thead>\n",
       "  <tbody>\n",
       "    <tr>\n",
       "      <th>0</th>\n",
       "      <td>0.025</td>\n",
       "      <td>4000</td>\n",
       "      <td>3.9864</td>\n",
       "      <td>0.72871</td>\n",
       "      <td>1000</td>\n",
       "      <td>2.811286</td>\n",
       "      <td>0.164898</td>\n",
       "      <td>3</td>\n",
       "      <td>3.99</td>\n",
       "      <td>0.73</td>\n",
       "    </tr>\n",
       "    <tr>\n",
       "      <th>1</th>\n",
       "      <td>0.025</td>\n",
       "      <td>4000</td>\n",
       "      <td>3.9864</td>\n",
       "      <td>0.85000</td>\n",
       "      <td>1000</td>\n",
       "      <td>3.123056</td>\n",
       "      <td>0.012918</td>\n",
       "      <td>4</td>\n",
       "      <td>3.99</td>\n",
       "      <td>0.85</td>\n",
       "    </tr>\n",
       "    <tr>\n",
       "      <th>2</th>\n",
       "      <td>0.025</td>\n",
       "      <td>4000</td>\n",
       "      <td>3.9864</td>\n",
       "      <td>1.25000</td>\n",
       "      <td>1000</td>\n",
       "      <td>4.019047</td>\n",
       "      <td>0.156800</td>\n",
       "      <td>3</td>\n",
       "      <td>3.99</td>\n",
       "      <td>1.25</td>\n",
       "    </tr>\n",
       "    <tr>\n",
       "      <th>3</th>\n",
       "      <td>0.025</td>\n",
       "      <td>4000</td>\n",
       "      <td>3.9864</td>\n",
       "      <td>1.50000</td>\n",
       "      <td>1000</td>\n",
       "      <td>4.651626</td>\n",
       "      <td>0.049734</td>\n",
       "      <td>4</td>\n",
       "      <td>3.99</td>\n",
       "      <td>1.50</td>\n",
       "    </tr>\n",
       "    <tr>\n",
       "      <th>4</th>\n",
       "      <td>0.025</td>\n",
       "      <td>4000</td>\n",
       "      <td>3.9864</td>\n",
       "      <td>2.00000</td>\n",
       "      <td>1000</td>\n",
       "      <td>6.081668</td>\n",
       "      <td>0.041290</td>\n",
       "      <td>3</td>\n",
       "      <td>3.99</td>\n",
       "      <td>2.00</td>\n",
       "    </tr>\n",
       "  </tbody>\n",
       "</table>\n",
       "</div>"
      ],
      "text/plain": [
       "    dens  npart     rad     temp  tmin        DZ     DZ_SE  DZ_size  rad_r  \\\n",
       "0  0.025   4000  3.9864  0.72871  1000  2.811286  0.164898        3   3.99   \n",
       "1  0.025   4000  3.9864  0.85000  1000  3.123056  0.012918        4   3.99   \n",
       "2  0.025   4000  3.9864  1.25000  1000  4.019047  0.156800        3   3.99   \n",
       "3  0.025   4000  3.9864  1.50000  1000  4.651626  0.049734        4   3.99   \n",
       "4  0.025   4000  3.9864  2.00000  1000  6.081668  0.041290        3   3.99   \n",
       "\n",
       "   temp_r  \n",
       "0    0.73  \n",
       "1    0.85  \n",
       "2    1.25  \n",
       "3    1.50  \n",
       "4    2.00  "
      ]
     },
     "execution_count": 187,
     "metadata": {},
     "output_type": "execute_result"
    }
   ],
   "source": [
    "SD.diffusion.head()"
   ]
  },
  {
   "cell_type": "code",
   "execution_count": 188,
   "metadata": {
    "collapsed": false
   },
   "outputs": [
    {
     "data": {
      "text/html": [
       "<div>\n",
       "<table border=\"1\" class=\"dataframe\">\n",
       "  <thead>\n",
       "    <tr style=\"text-align: right;\">\n",
       "      <th></th>\n",
       "      <th>p_scaled</th>\n",
       "      <th>mu</th>\n",
       "      <th>dens</th>\n",
       "      <th>omega_v</th>\n",
       "      <th>qst</th>\n",
       "      <th>gads</th>\n",
       "      <th>branch</th>\n",
       "      <th>temp_r</th>\n",
       "      <th>rad_r</th>\n",
       "    </tr>\n",
       "  </thead>\n",
       "  <tbody>\n",
       "    <tr>\n",
       "      <th>0</th>\n",
       "      <td>4.364769e-08</td>\n",
       "      <td>-20.000000</td>\n",
       "      <td>0.000107</td>\n",
       "      <td>-0.003907</td>\n",
       "      <td>11.075481</td>\n",
       "      <td>0.000272</td>\n",
       "      <td>0</td>\n",
       "      <td>0.73</td>\n",
       "      <td>3.99</td>\n",
       "    </tr>\n",
       "    <tr>\n",
       "      <th>1</th>\n",
       "      <td>4.438793e-08</td>\n",
       "      <td>-19.987745</td>\n",
       "      <td>0.000109</td>\n",
       "      <td>-0.003973</td>\n",
       "      <td>11.075515</td>\n",
       "      <td>0.000277</td>\n",
       "      <td>0</td>\n",
       "      <td>0.73</td>\n",
       "      <td>3.99</td>\n",
       "    </tr>\n",
       "    <tr>\n",
       "      <th>2</th>\n",
       "      <td>4.514073e-08</td>\n",
       "      <td>-19.975490</td>\n",
       "      <td>0.000111</td>\n",
       "      <td>-0.004040</td>\n",
       "      <td>11.075549</td>\n",
       "      <td>0.000281</td>\n",
       "      <td>0</td>\n",
       "      <td>0.73</td>\n",
       "      <td>3.99</td>\n",
       "    </tr>\n",
       "    <tr>\n",
       "      <th>3</th>\n",
       "      <td>4.590630e-08</td>\n",
       "      <td>-19.963235</td>\n",
       "      <td>0.000113</td>\n",
       "      <td>-0.004109</td>\n",
       "      <td>11.075583</td>\n",
       "      <td>0.000286</td>\n",
       "      <td>0</td>\n",
       "      <td>0.73</td>\n",
       "      <td>3.99</td>\n",
       "    </tr>\n",
       "    <tr>\n",
       "      <th>4</th>\n",
       "      <td>4.668486e-08</td>\n",
       "      <td>-19.950980</td>\n",
       "      <td>0.000115</td>\n",
       "      <td>-0.004179</td>\n",
       "      <td>11.075619</td>\n",
       "      <td>0.000291</td>\n",
       "      <td>0</td>\n",
       "      <td>0.73</td>\n",
       "      <td>3.99</td>\n",
       "    </tr>\n",
       "  </tbody>\n",
       "</table>\n",
       "</div>"
      ],
      "text/plain": [
       "       p_scaled         mu      dens   omega_v        qst      gads  branch  \\\n",
       "0  4.364769e-08 -20.000000  0.000107 -0.003907  11.075481  0.000272       0   \n",
       "1  4.438793e-08 -19.987745  0.000109 -0.003973  11.075515  0.000277       0   \n",
       "2  4.514073e-08 -19.975490  0.000111 -0.004040  11.075549  0.000281       0   \n",
       "3  4.590630e-08 -19.963235  0.000113 -0.004109  11.075583  0.000286       0   \n",
       "4  4.668486e-08 -19.950980  0.000115 -0.004179  11.075619  0.000291       0   \n",
       "\n",
       "   temp_r  rad_r  \n",
       "0    0.73   3.99  \n",
       "1    0.73   3.99  \n",
       "2    0.73   3.99  \n",
       "3    0.73   3.99  \n",
       "4    0.73   3.99  "
      ]
     },
     "execution_count": 188,
     "metadata": {},
     "output_type": "execute_result"
    }
   ],
   "source": [
    "SD.isotherms.head()"
   ]
  },
  {
   "cell_type": "code",
   "execution_count": 189,
   "metadata": {
    "collapsed": false
   },
   "outputs": [
    {
     "data": {
      "text/html": [
       "<div>\n",
       "<table border=\"1\" class=\"dataframe\">\n",
       "  <thead>\n",
       "    <tr style=\"text-align: right;\">\n",
       "      <th></th>\n",
       "      <th>r</th>\n",
       "      <th>rho</th>\n",
       "      <th>dens</th>\n",
       "      <th>rad_r</th>\n",
       "      <th>temp_r</th>\n",
       "    </tr>\n",
       "  </thead>\n",
       "  <tbody>\n",
       "    <tr>\n",
       "      <th>0</th>\n",
       "      <td>0.00</td>\n",
       "      <td>5.170733e-07</td>\n",
       "      <td>0.025</td>\n",
       "      <td>3.99</td>\n",
       "      <td>0.73</td>\n",
       "    </tr>\n",
       "    <tr>\n",
       "      <th>1</th>\n",
       "      <td>0.01</td>\n",
       "      <td>5.686332e-07</td>\n",
       "      <td>0.025</td>\n",
       "      <td>3.99</td>\n",
       "      <td>0.73</td>\n",
       "    </tr>\n",
       "    <tr>\n",
       "      <th>2</th>\n",
       "      <td>0.02</td>\n",
       "      <td>6.201931e-07</td>\n",
       "      <td>0.025</td>\n",
       "      <td>3.99</td>\n",
       "      <td>0.73</td>\n",
       "    </tr>\n",
       "    <tr>\n",
       "      <th>3</th>\n",
       "      <td>0.03</td>\n",
       "      <td>6.717529e-07</td>\n",
       "      <td>0.025</td>\n",
       "      <td>3.99</td>\n",
       "      <td>0.73</td>\n",
       "    </tr>\n",
       "    <tr>\n",
       "      <th>4</th>\n",
       "      <td>0.04</td>\n",
       "      <td>7.233128e-07</td>\n",
       "      <td>0.025</td>\n",
       "      <td>3.99</td>\n",
       "      <td>0.73</td>\n",
       "    </tr>\n",
       "  </tbody>\n",
       "</table>\n",
       "</div>"
      ],
      "text/plain": [
       "      r           rho   dens  rad_r  temp_r\n",
       "0  0.00  5.170733e-07  0.025   3.99    0.73\n",
       "1  0.01  5.686332e-07  0.025   3.99    0.73\n",
       "2  0.02  6.201931e-07  0.025   3.99    0.73\n",
       "3  0.03  6.717529e-07  0.025   3.99    0.73\n",
       "4  0.04  7.233128e-07  0.025   3.99    0.73"
      ]
     },
     "execution_count": 189,
     "metadata": {},
     "output_type": "execute_result"
    }
   ],
   "source": [
    "SD.profiles.head()"
   ]
  },
  {
   "cell_type": "code",
   "execution_count": 190,
   "metadata": {
    "collapsed": true
   },
   "outputs": [],
   "source": [
    "SD.add_stability(inplace=True)"
   ]
  },
  {
   "cell_type": "code",
   "execution_count": 191,
   "metadata": {
    "collapsed": false
   },
   "outputs": [
    {
     "data": {
      "text/html": [
       "<div>\n",
       "<table border=\"1\" class=\"dataframe\">\n",
       "  <thead>\n",
       "    <tr style=\"text-align: right;\">\n",
       "      <th></th>\n",
       "      <th>r</th>\n",
       "      <th>rho</th>\n",
       "      <th>dens</th>\n",
       "      <th>rad_r</th>\n",
       "      <th>temp_r</th>\n",
       "      <th>stability</th>\n",
       "    </tr>\n",
       "  </thead>\n",
       "  <tbody>\n",
       "    <tr>\n",
       "      <th>0</th>\n",
       "      <td>0.00</td>\n",
       "      <td>5.170733e-07</td>\n",
       "      <td>0.025</td>\n",
       "      <td>3.99</td>\n",
       "      <td>0.73</td>\n",
       "      <td>STABV</td>\n",
       "    </tr>\n",
       "    <tr>\n",
       "      <th>1</th>\n",
       "      <td>0.01</td>\n",
       "      <td>5.686332e-07</td>\n",
       "      <td>0.025</td>\n",
       "      <td>3.99</td>\n",
       "      <td>0.73</td>\n",
       "      <td>STABV</td>\n",
       "    </tr>\n",
       "    <tr>\n",
       "      <th>2</th>\n",
       "      <td>0.02</td>\n",
       "      <td>6.201931e-07</td>\n",
       "      <td>0.025</td>\n",
       "      <td>3.99</td>\n",
       "      <td>0.73</td>\n",
       "      <td>STABV</td>\n",
       "    </tr>\n",
       "    <tr>\n",
       "      <th>3</th>\n",
       "      <td>0.03</td>\n",
       "      <td>6.717529e-07</td>\n",
       "      <td>0.025</td>\n",
       "      <td>3.99</td>\n",
       "      <td>0.73</td>\n",
       "      <td>STABV</td>\n",
       "    </tr>\n",
       "    <tr>\n",
       "      <th>4</th>\n",
       "      <td>0.04</td>\n",
       "      <td>7.233128e-07</td>\n",
       "      <td>0.025</td>\n",
       "      <td>3.99</td>\n",
       "      <td>0.73</td>\n",
       "      <td>STABV</td>\n",
       "    </tr>\n",
       "  </tbody>\n",
       "</table>\n",
       "</div>"
      ],
      "text/plain": [
       "      r           rho   dens  rad_r  temp_r stability\n",
       "0  0.00  5.170733e-07  0.025   3.99    0.73     STABV\n",
       "1  0.01  5.686332e-07  0.025   3.99    0.73     STABV\n",
       "2  0.02  6.201931e-07  0.025   3.99    0.73     STABV\n",
       "3  0.03  6.717529e-07  0.025   3.99    0.73     STABV\n",
       "4  0.04  7.233128e-07  0.025   3.99    0.73     STABV"
      ]
     },
     "execution_count": 191,
     "metadata": {},
     "output_type": "execute_result"
    }
   ],
   "source": [
    "SD.profiles.head()"
   ]
  },
  {
   "cell_type": "code",
   "execution_count": 192,
   "metadata": {
    "collapsed": false
   },
   "outputs": [
    {
     "data": {
      "image/png": "[encoded data removed]",
      "text/plain": [
       "<matplotlib.figure.Figure at 0x11f389d10>"
      ]
     },
     "metadata": {},
     "output_type": "display_data"
    }
   ],
   "source": [
    "for dens,g in SD.profiles.query('rad_r==3.99 and temp_r==0.73').groupby('dens'):\n",
    "    plt.plot(g.r, g.rho, label=dens)\n",
    "    \n",
    "#plt.legend()"
   ]
  },
  {
   "cell_type": "code",
   "execution_count": null,
   "metadata": {
    "collapsed": true
   },
   "outputs": [],
   "source": []
  }
 ],
 "metadata": {
  "kernelspec": {
   "display_name": "Python 2",
   "language": "python",
   "name": "python2"
  },
  "language_info": {
   "codemirror_mode": {
    "name": "ipython",
    "version": 2
   },
   "file_extension": ".py",
   "mimetype": "text/x-python",
   "name": "python",
   "nbconvert_exporter": "python",
   "pygments_lexer": "ipython2",
   "version": "2.7.11"
  }
 },
 "nbformat": 4,
 "nbformat_minor": 0
}
