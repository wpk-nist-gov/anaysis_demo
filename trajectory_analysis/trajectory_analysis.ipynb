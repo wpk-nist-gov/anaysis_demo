{
 "cells": [
  {
   "cell_type": "code",
   "execution_count": 70,
   "metadata": {
    "collapsed": true
   },
   "outputs": [],
   "source": [
    "%matplotlib inline"
   ]
  },
  {
   "cell_type": "code",
   "execution_count": 71,
   "metadata": {
    "collapsed": true
   },
   "outputs": [],
   "source": [
    "import numpy as np\n",
    "import MDAnalysis \n",
    "import matplotlib.pyplot as plt\n",
    "\n",
    "import tqdm"
   ]
  },
  {
   "cell_type": "markdown",
   "metadata": {},
   "source": [
    "# Top matters\n",
    "\n",
    "* beyond scope"
   ]
  },
  {
   "cell_type": "code",
   "execution_count": 72,
   "metadata": {
    "collapsed": true
   },
   "outputs": [],
   "source": [
    "import f90nml\n",
    "nml = f90nml.read('./example_data/LJCFS-CYL-NH_1_RAD_4.0_TEMP_0.72871_DENS_0.65_NPART_4000_.params_used')\n",
    "\n",
    "# basic run parameters\n",
    "dt = nml['run_params_nml']['deltat']\n",
    "npart = nml['state_point_nml']['nparttot']\n",
    "density= np.round(nml['state_point_nml']['density'],2)\n",
    "temperature = nml['state_point_nml']['temperature']\n",
    "region = np.array(nml['box_nml']['char_region'])\n",
    "\n",
    "# info about dump\n",
    "sample_dic = {}\n",
    "for k in ['nbuff', 'nval', 'step']:\n",
    "    sample_dic[k] = nml['xtc_nml']['xtc'][k]\n",
    "    \n",
    "for k in ['overlapEndStart','overlap','iparams','style']:\n",
    "    sample_dic[k] = nml['xtc_nml']['xtc']['sampler'][k]\n",
    "\n",
    "# rename \n",
    "for new,old in [('style_params','iparams')]:\n",
    "    sample_dic[new]= sample_dic[old]\n",
    "    del sample_dic[old]\n",
    "\n",
    "    \n",
    "ntypes=1\n",
    "atom_types=[0]*4000"
   ]
  },
  {
   "cell_type": "code",
   "execution_count": 73,
   "metadata": {
    "collapsed": true
   },
   "outputs": [],
   "source": [
    "#Need a topology file\n",
    "import pymdanal.topology as top\n",
    "top.creat_psf_namd('top.psf',atom_names=['A']*4000)"
   ]
  },
  {
   "cell_type": "markdown",
   "metadata": {},
   "source": [
    "# lets calculate some properties from an md trajectory\n",
    "\n",
    " * Need trajectory file (XTC, DMD, etc)\n",
    " * Need  topology file (pdb, psf, lammps)"
   ]
  },
  {
   "cell_type": "code",
   "execution_count": 74,
   "metadata": {
    "collapsed": true
   },
   "outputs": [],
   "source": [
    "TRJ = './example_data/LJCFS-CYL-NH_1_RAD_4.0_TEMP_0.72871_DENS_0.65_NPART_4000_.xtc'\n",
    "TOP = 'top.psf'"
   ]
  },
  {
   "cell_type": "markdown",
   "metadata": {},
   "source": [
    "### create \"Universe\""
   ]
  },
  {
   "cell_type": "code",
   "execution_count": 75,
   "metadata": {
    "collapsed": true
   },
   "outputs": [],
   "source": [
    "import MDAnalysis "
   ]
  },
  {
   "cell_type": "code",
   "execution_count": 76,
   "metadata": {
    "collapsed": false
   },
   "outputs": [],
   "source": [
    "u = MDAnalysis.Universe(TOP,TRJ,convert_units=False)"
   ]
  },
  {
   "cell_type": "code",
   "execution_count": 77,
   "metadata": {
    "collapsed": false
   },
   "outputs": [
    {
     "data": {
      "text/plain": [
       "< Timestep 2 with unit cell dimensions [   8.            8.          122.42658997   90.           90.           90.        ] >"
      ]
     },
     "execution_count": 77,
     "metadata": {},
     "output_type": "execute_result"
    }
   ],
   "source": [
    "u.trajectory[2]"
   ]
  },
  {
   "cell_type": "code",
   "execution_count": 78,
   "metadata": {
    "collapsed": false
   },
   "outputs": [
    {
     "name": "stdout",
     "output_type": "stream",
     "text": [
      "step\n",
      "< Timestep 0 with unit cell dimensions [   8.            8.          122.42658997   90.           90.           90.        ] >\n",
      "time\n",
      "0.00999999977648\n",
      "meta\n",
      "{'step': 4, 'dt': 0.009999999776482582, 'time': 0.009999999776482582}\n",
      "pos\n",
      "[[ -1.6680001    1.51800013  43.45200348]\n",
      " [  3.16600013   0.32300001 -10.53900051]\n",
      " [  1.26600003   0.60800004 -55.6740036 ]\n",
      " ..., \n",
      " [  0.098       -3.09600019  47.74000168]\n",
      " [ -2.99300003  -0.62800002 -13.63400078]\n",
      " [  2.40300012  -1.97100008  32.43400192]]\n"
     ]
    }
   ],
   "source": [
    "print 'step'\n",
    "print u.trajectory[0]\n",
    "print 'time'\n",
    "print u.trajectory[0].time\n",
    "print 'meta'\n",
    "print u.trajectory[0].data\n",
    "print 'pos'\n",
    "print u.trajectory[0].positions"
   ]
  },
  {
   "cell_type": "markdown",
   "metadata": {},
   "source": [
    "# Static properties"
   ]
  },
  {
   "cell_type": "code",
   "execution_count": 79,
   "metadata": {
    "collapsed": true
   },
   "outputs": [],
   "source": [
    "import pymdanal.StaticProp as SP\n",
    "import pymdanal.Utils as mdUtils"
   ]
  },
  {
   "cell_type": "markdown",
   "metadata": {},
   "source": [
    "## density profile $\\rho(r)$ and static structure factor $S(k)$"
   ]
  },
  {
   "cell_type": "code",
   "execution_count": 80,
   "metadata": {
    "collapsed": false
   },
   "outputs": [],
   "source": [
    "profile = SP.profile_cyl(step=1,limit=100, box=region,ntypes=1,atom_types=atom_types,rmax=4.0,dr=0.05)\n",
    "sk = SP.StatStrucFac(step=1, limit=100, box=region, ntypes=1, atom_types=atom_types,pairs='all')"
   ]
  },
  {
   "cell_type": "code",
   "execution_count": 81,
   "metadata": {
    "collapsed": false
   },
   "outputs": [
    {
     "name": "stderr",
     "output_type": "stream",
     "text": [
      " 99%|█████████▉| 99/100 [00:02<00:00, 45.28it/s]\n"
     ]
    }
   ],
   "source": [
    "i = 0\n",
    "for step, traj in tqdm.tqdm(mdUtils.trajectory_delta_generator(1000, u.trajectory),leave=True, total=100,miniters=1):\n",
    "\n",
    "    profile.EvalAll(step, x=traj.positions, box=traj.dimensions[:3])\n",
    "    sk.EvalAll(step, x=traj.positions, box=traj.dimensions[:3])\n",
    "    i += 1\n",
    "    if i>100:\n",
    "        break"
   ]
  },
  {
   "cell_type": "code",
   "execution_count": 82,
   "metadata": {
    "collapsed": false
   },
   "outputs": [],
   "source": [
    "ds_p = profile.to_Dataset()\n",
    "ds_s = sk.to_Dataset()"
   ]
  },
  {
   "cell_type": "code",
   "execution_count": 83,
   "metadata": {
    "collapsed": false
   },
   "outputs": [
    {
     "data": {
      "text/plain": [
       "<xarray.Dataset>\n",
       "Dimensions:  (r: 80, rec: 1, type: 1)\n",
       "Coordinates:\n",
       "  * r        (r) float32 0.025 0.075 0.125 0.175 0.225 0.275 0.325 0.375 ...\n",
       "  * type     (type) int64 0\n",
       "  * rec      (rec) int64 0\n",
       "Data variables:\n",
       "    density  (rec, type, r) float32 2.53761 2.58961 2.20065 1.91212 1.6224 ...\n",
       "Attributes:\n",
       "    npart_per_type: [4000]\n",
       "    type_map: [0]\n",
       "    Region: [   8.            8.          122.42659301]"
      ]
     },
     "execution_count": 83,
     "metadata": {},
     "output_type": "execute_result"
    }
   ],
   "source": [
    "ds_p"
   ]
  },
  {
   "cell_type": "code",
   "execution_count": 84,
   "metadata": {
    "collapsed": false
   },
   "outputs": [
    {
     "data": {
      "text/plain": [
       "<matplotlib.text.Text at 0x121955710>"
      ]
     },
     "execution_count": 84,
     "metadata": {},
     "output_type": "execute_result"
    },
    {
     "data": {
      "image/png": "[encoded data removed]",
      "text/plain": [
       "<matplotlib.figure.Figure at 0x121ad9ed0>"
      ]
     },
     "metadata": {},
     "output_type": "display_data"
    }
   ],
   "source": [
    "plt.plot(ds_p.r, ds_p.density.sel(type=0,rec=0),'o-')\n",
    "plt.xlabel(r'$r$')\n",
    "plt.ylabel(r'$\\rho(r)$')"
   ]
  },
  {
   "cell_type": "code",
   "execution_count": 85,
   "metadata": {
    "collapsed": false
   },
   "outputs": [
    {
     "data": {
      "text/plain": [
       "<xarray.Dataset>\n",
       "Dimensions:  (dim: 3, k: 500, pair: 1, rec: 1)\n",
       "Coordinates:\n",
       "  * pair     (pair) <U3 u'0:0'\n",
       "  * dim      (dim) |S1 'x' 'y' 'z'\n",
       "  * k        (k) int64 0 1 2 3 4 5 6 7 8 9 10 11 12 13 14 15 16 17 18 19 20 ...\n",
       "  * rec      (rec) int64 0\n",
       "Data variables:\n",
       "    S        (rec, pair, dim, k) float32 292.111 77.2689 33.7188 17.5433 ...\n",
       "    kvals    (k, dim) float32 0.785398 0.785398 0.0513221 1.5708 1.5708 ...\n",
       "Attributes:\n",
       "    nk0: [1 1 1]\n",
       "    pair_type_map: [(0, 0)]\n",
       "    npart_per_type: [4000]\n",
       "    Region: [   8.            8.          122.42659301]\n",
       "    dnk: [1 1 1]"
      ]
     },
     "execution_count": 85,
     "metadata": {},
     "output_type": "execute_result"
    }
   ],
   "source": [
    "ds_s"
   ]
  },
  {
   "cell_type": "code",
   "execution_count": 86,
   "metadata": {
    "collapsed": false
   },
   "outputs": [
    {
     "data": {
      "text/plain": [
       "<matplotlib.text.Text at 0x121c809d0>"
      ]
     },
     "execution_count": 86,
     "metadata": {},
     "output_type": "execute_result"
    },
    {
     "data": {
      "image/png": "[encoded data removed]",
      "text/plain": [
       "<matplotlib.figure.Figure at 0x1110b41d0>"
      ]
     },
     "metadata": {},
     "output_type": "display_data"
    }
   ],
   "source": [
    "plt.plot(ds_s.kvals.sel(dim='z'), ds_s.S.sel(rec=0,pair='0:0', dim='z'),'-')\n",
    "plt.xlabel(r'$k_z$')\n",
    "plt.ylabel(r'$S(k_z)$')"
   ]
  },
  {
   "cell_type": "markdown",
   "metadata": {},
   "source": [
    "# dynamic properties"
   ]
  },
  {
   "cell_type": "code",
   "execution_count": 87,
   "metadata": {
    "collapsed": false
   },
   "outputs": [],
   "source": [
    "import pymdanal.TimeProp2 as TP"
   ]
  },
  {
   "cell_type": "code",
   "execution_count": 88,
   "metadata": {
    "collapsed": false
   },
   "outputs": [],
   "source": [
    "s = sample_dic.copy()\n",
    "s['nbuff']=2"
   ]
  },
  {
   "cell_type": "code",
   "execution_count": 89,
   "metadata": {
    "collapsed": false
   },
   "outputs": [],
   "source": [
    "diffusion = TP.DiffusionMSD(s,limit=1,dt=dt,npart=npart,ntypes=1,atom_types=atom_types,volume=region.prod(),\n",
    "                            temperature=temperature)\n",
    "\n",
    "sisf = TP.Sisf(s,limit=1, dt=dt, npart=npart, ntypes=1, atom_types=atom_types, box=region,nk=20, dnk=10)\n",
    "\n"
   ]
  },
  {
   "cell_type": "code",
   "execution_count": 90,
   "metadata": {
    "collapsed": false
   },
   "outputs": [
    {
     "name": "stderr",
     "output_type": "stream",
     "text": [
      " 99%|█████████▊| 5123/5200 [00:05<00:00, 1197.47it/s]\n"
     ]
    }
   ],
   "source": [
    "for step, traj, rTrue in tqdm.tqdm(\n",
    "    mdUtils.trajectory_generator(u.trajectory,unwrap=True,box=region,periodic=True),\n",
    "    total=5200,leave=True):\n",
    "    \n",
    "    diffusion.EvalAll(step,x=rTrue)\n",
    "    sisf.EvalAll(step, x=traj.positions)\n",
    "    #PlogD.EvalAll(step,x=rTrue)\n",
    "    if step>4000004:\n",
    "        break"
   ]
  },
  {
   "cell_type": "code",
   "execution_count": 91,
   "metadata": {
    "collapsed": false
   },
   "outputs": [],
   "source": [
    "# get dataset\n",
    "ds_d = diffusion.to_Dataset()\n",
    "ds_F = sisf.to_Dataset()\n"
   ]
  },
  {
   "cell_type": "markdown",
   "metadata": {},
   "source": [
    "# Diffusion"
   ]
  },
  {
   "cell_type": "code",
   "execution_count": 92,
   "metadata": {
    "collapsed": false
   },
   "outputs": [
    {
     "data": {
      "text/plain": [
       "<xarray.Dataset>\n",
       "Dimensions:         (dim: 3, rec: 3, time: 147, type: 1)\n",
       "Coordinates:\n",
       "  * dim             (dim) |S1 'x' 'y' 'z'\n",
       "  * type            (type) int64 0\n",
       "  * time            (time) float64 0.0 0.01 0.02 0.03 0.04 0.05 0.06 0.07 ...\n",
       "  * rec             (rec) int64 0 1 2\n",
       "Data variables:\n",
       "    MSD_COLLECTIVE  (rec, type, dim, time) float32 0.0 0.00158921 0.00323088 ...\n",
       "    MSD             (rec, type, dim, time) float32 0.0 0.00382743 0.00759915 ...\n",
       "Attributes:\n",
       "    volume: 7835.30195295\n",
       "    npart_per_type: [4000]\n",
       "    type_map: [0]\n",
       "    temperature: 0.72871"
      ]
     },
     "execution_count": 92,
     "metadata": {},
     "output_type": "execute_result"
    }
   ],
   "source": [
    "ds_d"
   ]
  },
  {
   "cell_type": "code",
   "execution_count": 93,
   "metadata": {
    "collapsed": false
   },
   "outputs": [
    {
     "data": {
      "text/plain": [
       "<matplotlib.text.Text at 0x12211ba90>"
      ]
     },
     "execution_count": 93,
     "metadata": {},
     "output_type": "execute_result"
    },
    {
     "data": {
      "image/png": "[encoded data removed]",
      "text/plain": [
       "<matplotlib.figure.Figure at 0x111099f50>"
      ]
     },
     "metadata": {},
     "output_type": "display_data"
    }
   ],
   "source": [
    "plt.loglog(ds_d.time, ds_d.MSD.sel(type=0,dim='z').mean('rec'),'o')\n",
    "plt.xlabel('time')\n",
    "plt.ylabel('Diffusion')"
   ]
  },
  {
   "cell_type": "markdown",
   "metadata": {
    "collapsed": true
   },
   "source": [
    "# Sisf"
   ]
  },
  {
   "cell_type": "code",
   "execution_count": 94,
   "metadata": {
    "collapsed": false
   },
   "outputs": [
    {
     "data": {
      "text/plain": [
       "<xarray.Dataset>\n",
       "Dimensions:  (dim: 3, k: 20, rec: 3, time: 147, type: 1)\n",
       "Coordinates:\n",
       "  * dim      (dim) |S1 'x' 'y' 'z'\n",
       "  * type     (type) int64 0\n",
       "  * time     (time) float64 0.0 0.01 0.02 0.03 0.04 0.05 0.06 0.07 0.08 0.09 ...\n",
       "  * k        (k) int64 0 1 2 3 4 5 6 7 8 9 10 11 12 13 14 15 16 17 18 19\n",
       "  * rec      (rec) int64 0 1 2\n",
       "Data variables:\n",
       "    SISF     (rec, type, dim, k, time) float32 1.0 0.999988 0.999916 ...\n",
       "    kvals    (k, dim) float64 0.7854 0.7854 0.05132 8.639 8.639 0.5645 16.49 ...\n",
       "Attributes:\n",
       "    nk0: [1 1 1]\n",
       "    Region: [   8.            8.          122.42659301]\n",
       "    type_map: [0]\n",
       "    npart_per_type: [4000]\n",
       "    dnk: [10 10 10]"
      ]
     },
     "execution_count": 94,
     "metadata": {},
     "output_type": "execute_result"
    }
   ],
   "source": [
    "ds_F"
   ]
  },
  {
   "cell_type": "code",
   "execution_count": 95,
   "metadata": {
    "collapsed": false
   },
   "outputs": [
    {
     "data": {
      "text/plain": [
       "<xarray.Dataset>\n",
       "Dimensions:  (time: 147)\n",
       "Coordinates:\n",
       "  * time     (time) float64 0.0 0.01 0.02 0.03 0.04 0.05 0.06 0.07 0.08 0.09 ...\n",
       "Data variables:\n",
       "    SISF     (time) float32 1.0 0.99862 0.994523 0.987823 0.978752 0.967571 ...\n",
       "    kvals    float64 6.21"
      ]
     },
     "execution_count": 95,
     "metadata": {},
     "output_type": "execute_result"
    }
   ],
   "source": [
    "t = ds_F.sel(k=12, dim='z', type=0).mean('rec')\n",
    "t"
   ]
  },
  {
   "cell_type": "code",
   "execution_count": 96,
   "metadata": {
    "collapsed": false
   },
   "outputs": [
    {
     "data": {
      "text/plain": [
       "<matplotlib.text.Text at 0x1223a22d0>"
      ]
     },
     "execution_count": 96,
     "metadata": {},
     "output_type": "execute_result"
    },
    {
     "data": {
      "image/png": "[encoded data removed]",
      "text/plain": [
       "<matplotlib.figure.Figure at 0x121a6f510>"
      ]
     },
     "metadata": {},
     "output_type": "display_data"
    }
   ],
   "source": [
    "plt.plot(t.time, t.SISF,'o-')\n",
    "plt.xscale('log')\n",
    "\n",
    "plt.xlabel(r'$t$')\n",
    "\n",
    "plt.ylabel(r'$F_s(k={:.2g},t)$'.format(t.kvals.values[()]))"
   ]
  },
  {
   "cell_type": "markdown",
   "metadata": {},
   "source": [
    "# thermal conductivity"
   ]
  },
  {
   "cell_type": "code",
   "execution_count": 97,
   "metadata": {
    "collapsed": true
   },
   "outputs": [],
   "source": [
    "import xarray as xr"
   ]
  },
  {
   "cell_type": "code",
   "execution_count": 98,
   "metadata": {
    "collapsed": false
   },
   "outputs": [],
   "source": [
    "props = xr.open_dataset('./example_data/LJCFS-CYL-NH_1_RAD_4.0_TEMP_0.72871_DENS_0.65_NPART_4000_.props.nc')\n",
    "props['val'] = ['val','ave','var']"
   ]
  },
  {
   "cell_type": "code",
   "execution_count": 99,
   "metadata": {
    "collapsed": false
   },
   "outputs": [
    {
     "data": {
      "text/plain": [
       "<xarray.Dataset>\n",
       "Dimensions:               (bounds: 2, dim: 3, nwall: 2, pv: 6, rec: 4100, val: 3)\n",
       "Coordinates:\n",
       "  * bounds                (bounds) int64 0 1\n",
       "  * dim                   (dim) int64 0 1 2\n",
       "  * nwall                 (nwall) int64 0 1\n",
       "  * pv                    (pv) int64 0 1 2 3 4 5\n",
       "  * rec                   (rec) int64 0 1 2 3 4 5 6 7 8 9 10 11 12 13 14 15 ...\n",
       "  * val                   (val) |S3 'val' 'ave' 'var'\n",
       "Data variables:\n",
       "    step                  (rec) int32 5000 10000 15000 20000 25000 30000 ...\n",
       "    e_n                   (rec, val) float64 -7.176 -7.129 0.0003566 -7.105 ...\n",
       "    ke_n                  (rec, val) float64 1.071 1.092 0.000227 1.102 ...\n",
       "    pe_n                  (rec, val) float64 -8.247 -8.222 0.0001515 -8.207 ...\n",
       "    hamiltonian_n         (rec, val) float64 -6.849 -6.849 1.136e-10 -6.849 ...\n",
       "    pv_n_tot              (rec, pv, val) float64 -0.25 -0.07568 0.06173 ...\n",
       "    pv_n_mom              (rec, pv, val) float64 0.7169 0.7263 0.000344 ...\n",
       "    pv_n_vir              (rec, pv, val) float64 -0.9669 -0.802 0.05943 ...\n",
       "    pvArr_Ten_map         (pv, bounds) int32 1 1 2 2 3 3 2 1 3 1 3 2\n",
       "    pvTen_Arr_map         (dim, dim) int32 1 4 5 4 2 6 5 6 3\n",
       "    energy_vector         (rec, dim, val) float64 184.2 75.74 7.998e+05 ...\n",
       "    pe_vir                (rec, dim, val) float64 7.974 6.595 4.026 9.356 ...\n",
       "    pe_external_field     (rec, val) float64 -3.828 -3.815 7.331e-05 -3.822 ...\n",
       "    vir_external_field    (rec, val) float64 -0.8559 -0.7781 0.005328 ...\n",
       "    force_external_field  (rec, nwall, val) float64 142.3 -658.3 4.927e+05 ...\n",
       "Attributes:\n",
       "    NpartTot: 4000\n",
       "    n_pvten: single array to store diagonal and unique off diaganol components of pressure tensor.  First three components are diagonals (x,y,z).  Next components are off diagonals in form (2,1),(3,1),...,(2,3)))\n",
       "    deltaT: 0.0025\n",
       "    volume: 7835.30195295\n",
       "    density: 0.51051\n",
       "    region: [   8.            8.          122.42659301]\n",
       "    temperature: 0.72871\n",
       "    nval: [\"val\", \"average\", \"variance\"]"
      ]
     },
     "execution_count": 99,
     "metadata": {},
     "output_type": "execute_result"
    }
   ],
   "source": [
    "props"
   ]
  },
  {
   "cell_type": "code",
   "execution_count": 100,
   "metadata": {
    "collapsed": false
   },
   "outputs": [
    {
     "data": {
      "text/plain": [
       "<xarray.DataArray 'energy_vector' (rec: 4100, dim: 3, val: 3)>\n",
       "array([[[  1.84151345e+02,   7.57422133e+01,   7.99756597e+05],\n",
       "        [ -9.62131916e+02,   4.72728518e+01,   7.96851915e+05],\n",
       "        [ -4.82181601e+02,   1.55529833e+00,   1.72745440e+05]],\n",
       "\n",
       "       [[ -2.83623493e+02,   1.42612197e+01,   8.69365110e+05],\n",
       "        [ -9.86311762e+02,   6.54336872e+01,   8.09239971e+05],\n",
       "        [ -3.61985244e+02,   6.71757422e+01,   1.62582636e+05]],\n",
       "\n",
       "       [[  8.79000243e+02,   8.86294303e+00,   8.62352049e+05],\n",
       "        [  7.43685159e+02,   3.94263746e+01,   8.50601229e+05],\n",
       "        [  3.67635948e+02,   3.13894044e+01,   1.43570400e+05]],\n",
       "\n",
       "       ..., \n",
       "       [[ -6.81486588e+02,  -4.09365806e+01,   8.41267863e+05],\n",
       "        [ -1.21696140e+02,  -5.05248026e+01,   8.24075544e+05],\n",
       "        [ -4.99781723e+02,   4.59033131e+01,   1.53462867e+05]],\n",
       "\n",
       "       [[ -1.11524386e+03,  -8.44890889e+01,   7.88836461e+05],\n",
       "        [ -1.44279424e+03,  -1.88175899e+01,   9.30302723e+05],\n",
       "        [ -3.15534946e+02,  -4.22881815e+01,   1.65865676e+05]],\n",
       "\n",
       "       [[ -3.58894128e+02,  -1.50499377e+00,   8.63632583e+05],\n",
       "        [  1.83862643e+03,   1.05422052e+01,   8.64148983e+05],\n",
       "        [  4.41427014e+02,  -6.19909118e+01,   1.33918068e+05]]])\n",
       "Coordinates:\n",
       "  * dim      (dim) int64 0 1 2\n",
       "  * rec      (rec) int64 0 1 2 3 4 5 6 7 8 9 10 11 12 13 14 15 16 17 18 19 ...\n",
       "  * val      (val) |S3 'val' 'ave' 'var'\n",
       "Attributes:\n",
       "    long_name: EVec(irec,idim,ival)={energy vector for record irec, direction idim, and value ival}"
      ]
     },
     "execution_count": 100,
     "metadata": {},
     "output_type": "execute_result"
    }
   ],
   "source": [
    "energy_vector = props.energy_vector\n",
    "energy_vector"
   ]
  },
  {
   "cell_type": "markdown",
   "metadata": {},
   "source": [
    "# need integral:\n",
    "\n",
    "$$\n",
    "\\lambda = \\lim_{t\\rightarrow \\infty} MSD(t)/(2t)\n",
    "$$\n",
    "\n",
    "where\n",
    "\n",
    "$$\n",
    "MSD(t) = \\frac{V}{3 T^2} \\int \\vec{S}(t) dt\n",
    "$$"
   ]
  },
  {
   "cell_type": "code",
   "execution_count": 101,
   "metadata": {
    "collapsed": true
   },
   "outputs": [],
   "source": [
    "# get integral\n",
    "int_energy_vec = TP.get_cumint_xr(energy_vector.sel(val='ave'),energy_vector.sel(val='val'), props.step[0].values, props.deltaT)"
   ]
  },
  {
   "cell_type": "code",
   "execution_count": 102,
   "metadata": {
    "collapsed": false
   },
   "outputs": [],
   "source": [
    "TC = TP.ThermCondTot(dict(nbuff=100, nval=200, overlapEndStart=True, step=props.step[0].values[()], style='fac',style_params=1.2),\n",
    "                100,dt=props.deltaT,volume=region.prod(),temperature=temperature)"
   ]
  },
  {
   "cell_type": "code",
   "execution_count": 103,
   "metadata": {
    "collapsed": false
   },
   "outputs": [
    {
     "name": "stderr",
     "output_type": "stream",
     "text": [
      "100%|██████████| 4100/4100 [00:01<00:00, 3183.10it/s]\n"
     ]
    }
   ],
   "source": [
    "for step, EV in tqdm.tqdm(zip(props.step.values, int_energy_vec.values),total=len(props.rec),leave=True):\n",
    "    TC.EvalAll(step, EV)"
   ]
  },
  {
   "cell_type": "code",
   "execution_count": 104,
   "metadata": {
    "collapsed": false
   },
   "outputs": [],
   "source": [
    "ds = TC.to_Dataset()"
   ]
  },
  {
   "cell_type": "code",
   "execution_count": 105,
   "metadata": {
    "collapsed": false
   },
   "outputs": [
    {
     "data": {
      "text/plain": [
       "<xarray.Dataset>\n",
       "Dimensions:  (dim: 3, rec: 19, time: 29)\n",
       "Coordinates:\n",
       "  * dim      (dim) |S1 'x' 'y' 'z'\n",
       "  * time     (time) float64 0.0 12.5 25.0 37.5 50.0 62.5 75.0 87.5 100.0 ...\n",
       "  * rec      (rec) int64 0 1 2 3 4 5 6 7 8 9 10 11 12 13 14 15 16 17 18\n",
       "Data variables:\n",
       "    MSD      (rec, dim, time) float32 0.0 5.80496 5.3287 4.21759 4.7111 ...\n",
       "Attributes:\n",
       "    Volume: 7835.30195295\n",
       "    temperature: 0.72871"
      ]
     },
     "execution_count": 105,
     "metadata": {},
     "output_type": "execute_result"
    }
   ],
   "source": [
    "ds"
   ]
  },
  {
   "cell_type": "code",
   "execution_count": 106,
   "metadata": {
    "collapsed": true
   },
   "outputs": [],
   "source": [
    "m = ds.MSD.sel(dim='z').mean('rec')\n",
    "s = ds.MSD.sel(dim='z').std('rec')"
   ]
  },
  {
   "cell_type": "code",
   "execution_count": 107,
   "metadata": {
    "collapsed": false
   },
   "outputs": [
    {
     "data": {
      "text/plain": [
       "<Container object of 3 artists>"
      ]
     },
     "execution_count": 107,
     "metadata": {},
     "output_type": "execute_result"
    },
    {
     "data": {
      "image/png": "[encoded data removed]",
      "text/plain": [
       "<matplotlib.figure.Figure at 0x12247fd10>"
      ]
     },
     "metadata": {},
     "output_type": "display_data"
    }
   ],
   "source": [
    "plt.errorbar(ds.time, m, yerr=s,marker='o')\n",
    "#plt.xscale('log')\n",
    "#plt.xlim(1e-1,None)\n"
   ]
  },
  {
   "cell_type": "code",
   "execution_count": null,
   "metadata": {
    "collapsed": true
   },
   "outputs": [],
   "source": []
  }
 ],
 "metadata": {
  "kernelspec": {
   "display_name": "Python 2",
   "language": "python",
   "name": "python2"
  },
  "language_info": {
   "codemirror_mode": {
    "name": "ipython",
    "version": 2
   },
   "file_extension": ".py",
   "mimetype": "text/x-python",
   "name": "python",
   "nbconvert_exporter": "python",
   "pygments_lexer": "ipython2",
   "version": "2.7.11"
  }
 },
 "nbformat": 4,
 "nbformat_minor": 0
}
